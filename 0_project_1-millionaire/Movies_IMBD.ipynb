{
  "nbformat": 4,
  "nbformat_minor": 0,
  "metadata": {
    "colab": {
      "name": "Movies_IMBD_v4.1_TEMPLATE(1).ipynb",
      "provenance": [],
      "collapsed_sections": [
        "mWHyyL7QVp_j",
        "NIh6AaW5Vp_n",
        "RqOmPRfWVp_q",
        "vS8Ur6ddVp_u",
        "JAzJh4QAVp_z",
        "8Im1S2HRVp_4",
        "uAJsZ_NeVp_7",
        "G94ppOY1VqAA",
        "RBo0JVjVVqAF",
        "9G0hbvR7VqAK",
        "FJ1AFt90VqAP",
        "MdXsUXbCVqAV",
        "U0nONFnGVqAX"
      ]
    },
    "kernelspec": {
      "display_name": "Python 3",
      "language": "python",
      "name": "python3"
    },
    "language_info": {
      "codemirror_mode": {
        "name": "ipython",
        "version": 3
      },
      "file_extension": ".py",
      "mimetype": "text/x-python",
      "name": "python",
      "nbconvert_exporter": "python",
      "pygments_lexer": "ipython3",
      "version": "3.7.4"
    }
  },
  "cells": [
    {
      "cell_type": "code",
      "metadata": {
        "_cell_guid": "b1076dfc-b9ad-4769-8c92-a6c4dae69d19",
        "_uuid": "8f2839f25d086af736a60e9eeb907d3b93b6e0e5",
        "id": "U2D2gTdJVp90"
      },
      "source": [
        "import numpy as np\n",
        "import pandas as pd\n",
        "import seaborn as sns\n",
        "import matplotlib.pyplot as plt\n",
        "from collections import Counter\n",
        "from itertools import combinations"
      ],
      "execution_count": 46,
      "outputs": []
    },
    {
      "cell_type": "code",
      "metadata": {
        "_cell_guid": "79c7e3d0-c299-4dcb-8224-4455121ee9b0",
        "_uuid": "d629ff2d2480ee46fbb7e2d37f6b5fab8052498a",
        "id": "oyGfxL3eVp9-"
      },
      "source": [
        "#from google.colab import files\n",
        "#uploaded = files.upload()\n",
        "data = pd.read_csv('movie_bd_v5.csv')"
      ],
      "execution_count": 47,
      "outputs": []
    },
    {
      "cell_type": "code",
      "metadata": {
        "colab": {
          "base_uri": "https://localhost:8080/",
          "height": 300
        },
        "id": "CoYUnagMVp-C",
        "outputId": "4cfb4170-b361-461b-c97a-30d535392977"
      },
      "source": [
        "data.describe()"
      ],
      "execution_count": 48,
      "outputs": [
        {
          "output_type": "execute_result",
          "data": {
            "text/html": [
              "<div>\n",
              "<style scoped>\n",
              "    .dataframe tbody tr th:only-of-type {\n",
              "        vertical-align: middle;\n",
              "    }\n",
              "\n",
              "    .dataframe tbody tr th {\n",
              "        vertical-align: top;\n",
              "    }\n",
              "\n",
              "    .dataframe thead th {\n",
              "        text-align: right;\n",
              "    }\n",
              "</style>\n",
              "<table border=\"1\" class=\"dataframe\">\n",
              "  <thead>\n",
              "    <tr style=\"text-align: right;\">\n",
              "      <th></th>\n",
              "      <th>budget</th>\n",
              "      <th>revenue</th>\n",
              "      <th>runtime</th>\n",
              "      <th>vote_average</th>\n",
              "      <th>release_year</th>\n",
              "    </tr>\n",
              "  </thead>\n",
              "  <tbody>\n",
              "    <tr>\n",
              "      <th>count</th>\n",
              "      <td>1.889000e+03</td>\n",
              "      <td>1.889000e+03</td>\n",
              "      <td>1889.000000</td>\n",
              "      <td>1889.000000</td>\n",
              "      <td>1889.000000</td>\n",
              "    </tr>\n",
              "    <tr>\n",
              "      <th>mean</th>\n",
              "      <td>5.431083e+07</td>\n",
              "      <td>1.553653e+08</td>\n",
              "      <td>109.658549</td>\n",
              "      <td>6.140762</td>\n",
              "      <td>2007.860773</td>\n",
              "    </tr>\n",
              "    <tr>\n",
              "      <th>std</th>\n",
              "      <td>4.858721e+07</td>\n",
              "      <td>2.146698e+08</td>\n",
              "      <td>18.017041</td>\n",
              "      <td>0.764763</td>\n",
              "      <td>4.468841</td>\n",
              "    </tr>\n",
              "    <tr>\n",
              "      <th>min</th>\n",
              "      <td>5.000000e+06</td>\n",
              "      <td>2.033165e+06</td>\n",
              "      <td>63.000000</td>\n",
              "      <td>3.300000</td>\n",
              "      <td>2000.000000</td>\n",
              "    </tr>\n",
              "    <tr>\n",
              "      <th>25%</th>\n",
              "      <td>2.000000e+07</td>\n",
              "      <td>3.456058e+07</td>\n",
              "      <td>97.000000</td>\n",
              "      <td>5.600000</td>\n",
              "      <td>2004.000000</td>\n",
              "    </tr>\n",
              "    <tr>\n",
              "      <th>50%</th>\n",
              "      <td>3.800000e+07</td>\n",
              "      <td>8.361541e+07</td>\n",
              "      <td>107.000000</td>\n",
              "      <td>6.100000</td>\n",
              "      <td>2008.000000</td>\n",
              "    </tr>\n",
              "    <tr>\n",
              "      <th>75%</th>\n",
              "      <td>7.200000e+07</td>\n",
              "      <td>1.782626e+08</td>\n",
              "      <td>120.000000</td>\n",
              "      <td>6.600000</td>\n",
              "      <td>2012.000000</td>\n",
              "    </tr>\n",
              "    <tr>\n",
              "      <th>max</th>\n",
              "      <td>3.800000e+08</td>\n",
              "      <td>2.781506e+09</td>\n",
              "      <td>214.000000</td>\n",
              "      <td>8.100000</td>\n",
              "      <td>2015.000000</td>\n",
              "    </tr>\n",
              "  </tbody>\n",
              "</table>\n",
              "</div>"
            ],
            "text/plain": [
              "             budget       revenue      runtime  vote_average  release_year\n",
              "count  1.889000e+03  1.889000e+03  1889.000000   1889.000000   1889.000000\n",
              "mean   5.431083e+07  1.553653e+08   109.658549      6.140762   2007.860773\n",
              "std    4.858721e+07  2.146698e+08    18.017041      0.764763      4.468841\n",
              "min    5.000000e+06  2.033165e+06    63.000000      3.300000   2000.000000\n",
              "25%    2.000000e+07  3.456058e+07    97.000000      5.600000   2004.000000\n",
              "50%    3.800000e+07  8.361541e+07   107.000000      6.100000   2008.000000\n",
              "75%    7.200000e+07  1.782626e+08   120.000000      6.600000   2012.000000\n",
              "max    3.800000e+08  2.781506e+09   214.000000      8.100000   2015.000000"
            ]
          },
          "metadata": {
            "tags": []
          },
          "execution_count": 48
        }
      ]
    },
    {
      "cell_type": "markdown",
      "metadata": {
        "id": "DTIt7ezGVp-G"
      },
      "source": [
        "# Предобработка"
      ]
    },
    {
      "cell_type": "code",
      "metadata": {
        "id": "jNb40DwKVp-H"
      },
      "source": [
        "def is_profit(profit): #функция для того чтобы проставить признак \"выгодный фильм или нет\"\n",
        "  if profit >0:\n",
        "    return 1\n",
        "  else: return 0\n",
        "\n",
        "answers = {} # создадим словарь для ответов\n",
        "\n",
        "#Создаём новые колонки для удобства дальнейших подсчётов\n",
        "data['profit'] = data['revenue'] - data['budget'] #создадим новую колонку с Профитом\n",
        "data['is_profit'] = data.profit.apply(is_profit) #создадим новую колонку с признаком выгодности фильма\n",
        "data['director_list'] = data['director'].apply(lambda x: x.split('|')) #вынесем список режисёров отдельно\n",
        "data['cast_list'] = data['cast'].apply(lambda x: x.split('|'))  #тоже самое для актёров\n",
        "\n",
        "#тут апдейт существующих колонок. Минусом - повторный запуск этого же куска кода приводит к ошибкам. Вероятно лучше поменять на создание новых колонок.\n",
        "data['production_companies'] = data['production_companies'].apply(lambda x:x.split('|')) #и компаний\n",
        "data['release_date'] = data['release_date'].apply(lambda x: x.split('/')) #И создаём колонку для месяца. Сперва разбиваем дату релиза на массив\n",
        "data['month'] = data['release_date'].apply(lambda x: x[0]) #потом первым значением из массива апдейтим колонку с месяцем\n"
      ],
      "execution_count": 49,
      "outputs": []
    },
    {
      "cell_type": "markdown",
      "metadata": {
        "id": "YxZaH-nPVp-L"
      },
      "source": [
        "# 1. У какого фильма из списка самый большой бюджет?"
      ]
    },
    {
      "cell_type": "markdown",
      "metadata": {
        "id": "Nd-G5gX6Vp-M"
      },
      "source": [
        "Использовать варианты ответов в коде решения запрещено.    \n",
        "Вы думаете и в жизни у вас будут варианты ответов?)"
      ]
    },
    {
      "cell_type": "code",
      "metadata": {
        "id": "dZwb3m28Vp-S"
      },
      "source": [
        "answers['1'] = (data['original_title'].loc[data['budget'] == data['budget'].max()])"
      ],
      "execution_count": 50,
      "outputs": []
    },
    {
      "cell_type": "markdown",
      "metadata": {
        "id": "FNRbbI3vVp-c"
      },
      "source": [
        "# 2. Какой из фильмов самый длительный (в минутах)?"
      ]
    },
    {
      "cell_type": "code",
      "metadata": {
        "id": "ot-VX2XrVp-g"
      },
      "source": [
        "answers['2'] = (data['original_title'].loc[data['runtime'] == data['runtime'].max()])"
      ],
      "execution_count": 51,
      "outputs": []
    },
    {
      "cell_type": "markdown",
      "metadata": {
        "id": "bapLlpW8Vp-k"
      },
      "source": [
        "# 3. Какой из фильмов самый короткий (в минутах)?\n",
        "\n",
        "\n",
        "\n"
      ]
    },
    {
      "cell_type": "code",
      "metadata": {
        "id": "YBxaSHuAVp-l"
      },
      "source": [
        "answers['3'] = (data['original_title'].loc[data['runtime'] == data['runtime'].min()])"
      ],
      "execution_count": 52,
      "outputs": []
    },
    {
      "cell_type": "markdown",
      "metadata": {
        "id": "TfQbxbfNVp-p"
      },
      "source": [
        "# 4. Какова средняя длительность фильмов?\n"
      ]
    },
    {
      "cell_type": "code",
      "metadata": {
        "id": "5K6dKZYVVp-q"
      },
      "source": [
        "answers['4'] = data['runtime'].mean()"
      ],
      "execution_count": 53,
      "outputs": []
    },
    {
      "cell_type": "markdown",
      "metadata": {
        "id": "r5TvbnT_Vp-u"
      },
      "source": [
        "# 5. Каково медианное значение длительности фильмов? "
      ]
    },
    {
      "cell_type": "code",
      "metadata": {
        "id": "iBROplKnVp-v"
      },
      "source": [
        "answers['5'] = data['runtime'].median()"
      ],
      "execution_count": 54,
      "outputs": []
    },
    {
      "cell_type": "markdown",
      "metadata": {
        "id": "39P-deDSVp-y"
      },
      "source": [
        "# 6. Какой самый прибыльный фильм?\n",
        "#### Внимание! Здесь и далее под «прибылью» или «убытками» понимается разность между сборами и бюджетом фильма. (прибыль = сборы - бюджет) в нашем датасете это будет (profit = revenue - budget) "
      ]
    },
    {
      "cell_type": "code",
      "metadata": {
        "id": "UYZh4T9WVp-y"
      },
      "source": [
        "answers['6'] = (data['original_title'].loc[data['profit'] == data['profit'].max()])"
      ],
      "execution_count": 55,
      "outputs": []
    },
    {
      "cell_type": "markdown",
      "metadata": {
        "id": "M99JmIX4Vp-2"
      },
      "source": [
        "# 7. Какой фильм самый убыточный? "
      ]
    },
    {
      "cell_type": "code",
      "metadata": {
        "id": "w-D2m4XPVp-3"
      },
      "source": [
        "answers['7'] = (data['original_title'].loc[data['profit'] == data['profit'].min()])"
      ],
      "execution_count": 56,
      "outputs": []
    },
    {
      "cell_type": "markdown",
      "metadata": {
        "id": "wEOM5ERVVp-6"
      },
      "source": [
        "# 8. У скольких фильмов из датасета объем сборов оказался выше бюджета?"
      ]
    },
    {
      "cell_type": "code",
      "metadata": {
        "id": "y00_7HD6Vp-7"
      },
      "source": [
        "answers['8'] = (data['imdb_id'].loc[data['revenue'] > data['budget']].count())"
      ],
      "execution_count": 57,
      "outputs": []
    },
    {
      "cell_type": "markdown",
      "metadata": {
        "id": "xhpspA9KVp_A"
      },
      "source": [
        "# 9. Какой фильм оказался самым кассовым в 2008 году?"
      ]
    },
    {
      "cell_type": "code",
      "metadata": {
        "id": "MoUyQr9RVp_B"
      },
      "source": [
        "data1 = data.query('release_year == 2008')\r\n",
        "answers['9'] = data1['original_title'].loc[data1['revenue'] == data1['revenue'].max()]"
      ],
      "execution_count": 58,
      "outputs": []
    },
    {
      "cell_type": "markdown",
      "metadata": {
        "id": "Zi4hDKidVp_F"
      },
      "source": [
        "# 10. Самый убыточный фильм за период с 2012 по 2014 г. (включительно)?\n"
      ]
    },
    {
      "cell_type": "code",
      "metadata": {
        "id": "XqyRmufJVp_F"
      },
      "source": [
        "data1 = data.query('2012 <= release_year <= 2014')\r\n",
        "answers['10'] = data1['original_title'].loc[data1['profit'] == data1['profit'].min()]"
      ],
      "execution_count": 59,
      "outputs": []
    },
    {
      "cell_type": "markdown",
      "metadata": {
        "id": "EA7Sa9dkVp_I"
      },
      "source": [
        "# 11. Какого жанра фильмов больше всего?"
      ]
    },
    {
      "cell_type": "code",
      "metadata": {
        "id": "zsJAwJ8QVp_J"
      },
      "source": [
        "#Создаём большой массив куда добавляем все значения найденных жанров. Плохое решение для миллионов строк.\n",
        "genres_list = [] \n",
        "for rows in data['genres']:\n",
        "  genres_list= genres_list+rows.split('|')\n",
        "\n",
        "#Находим самое частовстречаемое значение\n",
        "answers['11'] = Counter(genres_list).most_common(1)"
      ],
      "execution_count": 60,
      "outputs": []
    },
    {
      "cell_type": "markdown",
      "metadata": {
        "id": "Ax6g2C8SVp_M"
      },
      "source": [
        "ВАРИАНТ 2"
      ]
    },
    {
      "cell_type": "code",
      "metadata": {
        "colab": {
          "base_uri": "https://localhost:8080/"
        },
        "id": "otO3SbrSVp_N",
        "outputId": "a4b46a70-deda-451c-bcd9-fab6952d7f97"
      },
      "source": [
        "#Тoже что выше но превратить список в датафрейм\r\n",
        "genres_list = []\r\n",
        "for rows in data['genres']:\r\n",
        "  genres_list= genres_list+rows.split('|')\r\n",
        "\r\n",
        "gendres_df = pd.DataFrame(genres_list,columns=['genre'])\r\n",
        "gendres_df['genre'].mode()"
      ],
      "execution_count": 61,
      "outputs": [
        {
          "output_type": "execute_result",
          "data": {
            "text/plain": [
              "0    Drama\n",
              "dtype: object"
            ]
          },
          "metadata": {
            "tags": []
          },
          "execution_count": 61
        }
      ]
    },
    {
      "cell_type": "markdown",
      "metadata": {
        "id": "HdTYDe8rOBsC"
      },
      "source": [
        "ВАРИАНТ 3"
      ]
    },
    {
      "cell_type": "code",
      "metadata": {
        "id": "mcMUR2ZdOA1C",
        "colab": {
          "base_uri": "https://localhost:8080/"
        },
        "outputId": "8509e124-e3b0-435c-8ccd-4dbb10253be9"
      },
      "source": [
        "data.genres.apply(lambda x:x.split(sep = '|')).explode().value_counts().head(1) #Более правильный вариант. Основан на решении №12"
      ],
      "execution_count": 62,
      "outputs": [
        {
          "output_type": "execute_result",
          "data": {
            "text/plain": [
              "Drama    782\n",
              "Name: genres, dtype: int64"
            ]
          },
          "metadata": {
            "tags": []
          },
          "execution_count": 62
        }
      ]
    },
    {
      "cell_type": "markdown",
      "metadata": {
        "id": "T9_bPWpkVp_Q"
      },
      "source": [
        "# 12. Фильмы какого жанра чаще всего становятся прибыльными? "
      ]
    },
    {
      "cell_type": "code",
      "metadata": {
        "id": "Tmt8MaK1Vp_R"
      },
      "source": [
        "answers['12'] = data.genres.loc[data['is_profit']==1].apply(lambda x:x.split(sep = '|')).explode().value_counts().head(1)"
      ],
      "execution_count": 63,
      "outputs": []
    },
    {
      "cell_type": "markdown",
      "metadata": {
        "id": "0F23bgsDVp_U"
      },
      "source": [
        "# 13. У какого режиссера самые большие суммарные кассовые сборы?"
      ]
    },
    {
      "cell_type": "code",
      "metadata": {
        "id": "K6Z3J8ygVp_X"
      },
      "source": [
        "answers['13'] = data.explode('director_list').groupby(['director_list'])['revenue'].sum().sort_values(ascending=False).head(1)"
      ],
      "execution_count": 64,
      "outputs": []
    },
    {
      "cell_type": "markdown",
      "metadata": {
        "id": "PsYC9FgRVp_a"
      },
      "source": [
        "# 14. Какой режисер снял больше всего фильмов в стиле Action?"
      ]
    },
    {
      "cell_type": "code",
      "metadata": {
        "id": "wd2M-wHeVp_b"
      },
      "source": [
        "answers['14'] = data.explode('director_list').loc[data['genres'].str.contains('Action', regex = False)].groupby(['director_list'])['imdb_id'].count().sort_values(ascending=False).head(1)"
      ],
      "execution_count": 65,
      "outputs": []
    },
    {
      "cell_type": "markdown",
      "metadata": {
        "id": "PQ0KciD7Vp_f"
      },
      "source": [
        "# 15. Фильмы с каким актером принесли самые высокие кассовые сборы в 2012 году? "
      ]
    },
    {
      "cell_type": "code",
      "metadata": {
        "id": "aga62oeKVp_g"
      },
      "source": [
        "data1 = data.query('release_year == 2012')\r\n",
        "answers['15'] = data1.explode('cast_list').groupby('cast_list')['revenue'].sum().sort_values(ascending=False).head(1)"
      ],
      "execution_count": 66,
      "outputs": []
    },
    {
      "cell_type": "markdown",
      "metadata": {
        "id": "mWHyyL7QVp_j"
      },
      "source": [
        "# 16. Какой актер снялся в большем количестве высокобюджетных фильмов?"
      ]
    },
    {
      "cell_type": "code",
      "metadata": {
        "id": "qQtmHKTFVp_k"
      },
      "source": [
        "answers['16'] = data.cast_list.loc[data['budget'] >= data['budget'].mean()].explode('cast_list').value_counts().head(1)"
      ],
      "execution_count": 67,
      "outputs": []
    },
    {
      "cell_type": "markdown",
      "metadata": {
        "id": "NIh6AaW5Vp_n"
      },
      "source": [
        "# 17. В фильмах какого жанра больше всего снимался Nicolas Cage? "
      ]
    },
    {
      "cell_type": "code",
      "metadata": {
        "id": "H74SJDIBVp_n"
      },
      "source": [
        "answers['17'] = data.genres.apply(lambda x:x.split(sep = '|')).explode().loc[data['cast_list'].str.contains('Nicolas Cage', regex = False)].value_counts().head(1)"
      ],
      "execution_count": 68,
      "outputs": []
    },
    {
      "cell_type": "markdown",
      "metadata": {
        "id": "RqOmPRfWVp_q"
      },
      "source": [
        "# 18. Самый убыточный фильм от Paramount Pictures"
      ]
    },
    {
      "cell_type": "code",
      "metadata": {
        "id": "9E_B0Y96Vp_r"
      },
      "source": [
        "answers['18'] = data.loc[data['production_companies'].str.contains('Paramount Pictures', regex = False)].sort_values(by = ['profit']).head(1).original_title"
      ],
      "execution_count": 69,
      "outputs": []
    },
    {
      "cell_type": "markdown",
      "metadata": {
        "id": "vS8Ur6ddVp_u"
      },
      "source": [
        "# 19. Какой год стал самым успешным по суммарным кассовым сборам?"
      ]
    },
    {
      "cell_type": "code",
      "metadata": {
        "id": "Dnbt4GdIVp_v"
      },
      "source": [
        "answers['19'] = data.groupby(['release_year'])['revenue'].sum().sort_values(ascending=False).head(1)"
      ],
      "execution_count": 70,
      "outputs": []
    },
    {
      "cell_type": "markdown",
      "metadata": {
        "id": "JAzJh4QAVp_z"
      },
      "source": [
        "# 20. Какой самый прибыльный год для студии Warner Bros?"
      ]
    },
    {
      "cell_type": "code",
      "metadata": {
        "id": "wgVu02DEVp_0"
      },
      "source": [
        "data1 = data.explode('production_companies').copy()\r\n",
        "answers['20'] = data1.loc[data1['production_companies'].str.contains('Warner Bros.', regex = False)].groupby(['release_year'])['profit'].sum().sort_values(ascending = False).head(1)"
      ],
      "execution_count": 71,
      "outputs": []
    },
    {
      "cell_type": "markdown",
      "metadata": {
        "id": "8Im1S2HRVp_4"
      },
      "source": [
        "# 21. В каком месяце за все годы суммарно вышло больше всего фильмов?"
      ]
    },
    {
      "cell_type": "code",
      "metadata": {
        "id": "lev6TH7gVp_4"
      },
      "source": [
        "answers['21'] = data.month.value_counts().head(1)"
      ],
      "execution_count": 72,
      "outputs": []
    },
    {
      "cell_type": "markdown",
      "metadata": {
        "id": "uAJsZ_NeVp_7"
      },
      "source": [
        "# 22. Сколько суммарно вышло фильмов летом? (за июнь, июль, август)"
      ]
    },
    {
      "cell_type": "code",
      "metadata": {
        "id": "Aa-hEREoVp_8"
      },
      "source": [
        "answers['22'] = data.imdb_id.loc[((data['month'] == '6') | (data['month'] == '7') | (data['month'] == '8'))].count()"
      ],
      "execution_count": 73,
      "outputs": []
    },
    {
      "cell_type": "markdown",
      "metadata": {
        "id": "G94ppOY1VqAA"
      },
      "source": [
        "# 23. Для какого режиссера зима – самое продуктивное время года? "
      ]
    },
    {
      "cell_type": "code",
      "metadata": {
        "id": "RhNTsamuVqAB"
      },
      "source": [
        "answers['23'] = data.explode('director_list').loc[((data['month'] == '12') | (data['month'] == '1') | (data['month'] == '2'))].groupby('director_list')['imdb_id'].count().sort_values(ascending = False).head(1)"
      ],
      "execution_count": 74,
      "outputs": []
    },
    {
      "cell_type": "markdown",
      "metadata": {
        "id": "RBo0JVjVVqAF"
      },
      "source": [
        "# 24. Какая студия дает самые длинные названия своим фильмам по количеству символов?"
      ]
    },
    {
      "cell_type": "code",
      "metadata": {
        "id": "QRGS8L0iVqAG"
      },
      "source": [
        "data1 = data.copy()\r\n",
        "data1['title_lenth'] = data1['original_title'].apply(lambda x: len(x))\r\n",
        "answers['24'] = data1.loc[data1['title_lenth'] == data1['title_lenth'].max()].production_companies.explode().head()"
      ],
      "execution_count": 75,
      "outputs": []
    },
    {
      "cell_type": "markdown",
      "metadata": {
        "id": "9G0hbvR7VqAK"
      },
      "source": [
        "# 25. Описание фильмов какой студии в среднем самые длинные по количеству слов?"
      ]
    },
    {
      "cell_type": "code",
      "metadata": {
        "id": "Ge2GsLNxVqAK"
      },
      "source": [
        "data1['desc_lenth'] = data1['overview'].apply(lambda x: len(x))\r\n",
        "answers['25']= data1.explode('production_companies').groupby(['production_companies'])['desc_lenth'].mean().sort_values(ascending = False).head(1)"
      ],
      "execution_count": 76,
      "outputs": []
    },
    {
      "cell_type": "markdown",
      "metadata": {
        "id": "FJ1AFt90VqAP"
      },
      "source": [
        "# 26. Какие фильмы входят в 1 процент лучших по рейтингу? \n",
        "по vote_average"
      ]
    },
    {
      "cell_type": "code",
      "metadata": {
        "id": "8qmJVq4CVqAQ"
      },
      "source": [
        "q99 = data['vote_average'].quantile(0.99)\r\n",
        "answers['26'] = data.loc[data['vote_average'] >= q99].sort_values(by = 'vote_average', ascending= False).original_title.head(7).tolist()"
      ],
      "execution_count": 77,
      "outputs": []
    },
    {
      "cell_type": "markdown",
      "metadata": {
        "id": "MdXsUXbCVqAV"
      },
      "source": [
        "# 27. Какие актеры чаще всего снимаются в одном фильме вместе?\n"
      ]
    },
    {
      "cell_type": "code",
      "metadata": {
        "id": "DZ18QdCO0R3N"
      },
      "source": [
        "data1 = data.explode('cast_list').copy() #Сделали копию списка со всеми актёрами в колонке\r\n",
        "joined_frame = data1.merge(data.explode('cast_list'), on='imdb_id', how='left') #Получили все возможные комбинации актёров в фильме в том числе сам с собой\r\n",
        "joined_frame.query('cast_list_x != cast_list_y') #запросом удаляем явные дубли когда актёр играл сам ссобой\r\n",
        "answers['27'] = joined_frame.query('cast_list_x != cast_list_y').groupby(['cast_list_x', 'cast_list_y'])['imdb_id'].count().sort_values(ascending=False).head(3) \r\n",
        "#Минус такого решения в том что пары дублируются. Надо или хитрым способом удалять дубли или itertools.combinations"
      ],
      "execution_count": 78,
      "outputs": []
    },
    {
      "cell_type": "markdown",
      "metadata": {
        "id": "43EzHOqi12AN"
      },
      "source": [
        "Вариант2"
      ]
    },
    {
      "cell_type": "code",
      "metadata": {
        "colab": {
          "base_uri": "https://localhost:8080/"
        },
        "id": "VNFEZp9D101E",
        "outputId": "3190ffc8-7e6d-4c26-94bb-e27a72eeaa38"
      },
      "source": [
        "data['pairs'] = data['cast_list'].apply(lambda s: list(combinations(s, 2)))\r\n",
        "Counter(data['pairs'].explode('pairs')).most_common(3)"
      ],
      "execution_count": 79,
      "outputs": [
        {
          "output_type": "execute_result",
          "data": {
            "text/plain": [
              "[(('Daniel Radcliffe', 'Rupert Grint'), 8),\n",
              " (('Daniel Radcliffe', 'Emma Watson'), 8),\n",
              " (('Rupert Grint', 'Emma Watson'), 7)]"
            ]
          },
          "metadata": {
            "tags": []
          },
          "execution_count": 79
        }
      ]
    },
    {
      "cell_type": "markdown",
      "metadata": {
        "id": "U0nONFnGVqAX"
      },
      "source": [
        "# Submission"
      ]
    },
    {
      "cell_type": "code",
      "metadata": {
        "id": "IfcaRO9-VqAX",
        "colab": {
          "base_uri": "https://localhost:8080/"
        },
        "outputId": "97c0f4e9-4c7a-4881-b2c0-16b8d69654ee"
      },
      "source": [
        "# в конце можно посмотреть свои ответы к каждому вопросу\n",
        "print(answers)"
      ],
      "execution_count": 83,
      "outputs": [
        {
          "output_type": "stream",
          "text": [
            "{'1': 723    Pirates of the Caribbean: On Stranger Tides\n",
            "Name: original_title, dtype: object, '2': 1157    Gods and Generals\n",
            "Name: original_title, dtype: object, '3': 768    Winnie the Pooh\n",
            "Name: original_title, dtype: object, '4': 109.6585494970884, '5': 107.0, '6': 239    Avatar\n",
            "Name: original_title, dtype: object, '7': 1245    The Lone Ranger\n",
            "Name: original_title, dtype: object, '8': 1478, '9': 599    The Dark Knight\n",
            "Name: original_title, dtype: object, '10': 1245    The Lone Ranger\n",
            "Name: original_title, dtype: object, '11': [('Drama', 782)], '12': Drama    560\n",
            "Name: genres, dtype: int64, '13': director_list\n",
            "Peter Jackson    6490593685\n",
            "Name: revenue, dtype: int64, '14': director_list\n",
            "Robert Rodriguez    9\n",
            "Name: imdb_id, dtype: int64, '15': cast_list\n",
            "Chris Hemsworth    2027450773\n",
            "Name: revenue, dtype: int64, '16': Matt Damon    18\n",
            "Name: cast_list, dtype: int64, '17': Action    17\n",
            "Name: genres, dtype: int64, '18': 925    K-19: The Widowmaker\n",
            "Name: original_title, dtype: object, '19': release_year\n",
            "2015    25449202382\n",
            "Name: revenue, dtype: int64, '20': release_year\n",
            "2014    2292949646\n",
            "Name: profit, dtype: int64, '21': 9    227\n",
            "Name: month, dtype: int64, '22': 450, '23': director_list\n",
            "Peter Jackson    7\n",
            "Name: imdb_id, dtype: int64, '24': 1448    Twentieth Century Fox Film Corporation\n",
            "1448                   Four By Two Productions\n",
            "Name: production_companies, dtype: object, '25': production_companies\n",
            "Midnight Picture Show    1000.0\n",
            "Name: desc_lenth, dtype: float64, '26': ['The Dark Knight', 'Inside Out', 'Room', 'Interstellar', 'The Imitation Game', 'Inception', '12 Years a Slave'], '27': cast_list_x   cast_list_y     \n",
            "Rupert Grint  Daniel Radcliffe    8\n",
            "Emma Watson   Rupert Grint        8\n",
            "Rupert Grint  Emma Watson         8\n",
            "Name: imdb_id, dtype: int64}\n"
          ],
          "name": "stdout"
        }
      ]
    },
    {
      "cell_type": "code",
      "metadata": {
        "id": "SiRmHPl8VqAd",
        "colab": {
          "base_uri": "https://localhost:8080/"
        },
        "outputId": "f14b3e9c-1e55-48fa-ba4e-efb8e75f3f70"
      },
      "source": [
        "# и убедиться что ни чего не пропустил)\n",
        "len(answers)"
      ],
      "execution_count": 82,
      "outputs": [
        {
          "output_type": "execute_result",
          "data": {
            "text/plain": [
              "27"
            ]
          },
          "metadata": {
            "tags": []
          },
          "execution_count": 82
        }
      ]
    }
  ]
}
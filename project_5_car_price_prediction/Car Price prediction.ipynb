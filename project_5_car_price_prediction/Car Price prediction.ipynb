{
  "nbformat": 4,
  "nbformat_minor": 0,
  "metadata": {
    "colab": {
      "name": "Решение",
      "provenance": [],
      "collapsed_sections": []
    },
    "kernelspec": {
      "name": "python3",
      "display_name": "Python 3"
    },
    "language_info": {
      "name": "python"
    }
  },
  "cells": [
    {
      "cell_type": "markdown",
      "source": [
        "TODO:\n",
        "1. проверить переменные на выбросы и выбросить их если есть\n",
        "2. Проверить какие параметры реально важны для модели\n",
        "3. ОФОРМИТЬ"
      ],
      "metadata": {
        "id": "vD4onqjV75aX"
      }
    },
    {
      "cell_type": "markdown",
      "source": [
        "Решение задачи прогнозирования стоимости авто по параметрам.\n",
        "\n",
        "Нужно:\n",
        "\n",
        "1. EDA. Проверить данные в тестовой выборке.\n",
        "2. Собрать новые данные спарсив их с сайта автору.\n",
        "3. Построить модель."
      ],
      "metadata": {
        "id": "9FTiTLo3Y1le"
      }
    },
    {
      "cell_type": "code",
      "source": [
        "# Импортируем необходимые библиотеки:\n",
        "from google.colab import files\n",
        "import pandas as pd\n",
        "import requests\n",
        "from bs4 import BeautifulSoup as bs\n",
        "import json\n",
        "import matplotlib.pyplot as plt\n",
        "import numpy as np\n",
        "import seaborn as sns\n",
        "from sklearn.preprocessing import MinMaxScaler\n",
        "from sklearn.model_selection import train_test_split\n",
        "\n",
        "from sklearn.metrics import mean_absolute_error"
      ],
      "metadata": {
        "id": "XT-g4RokJUdn"
      },
      "execution_count": 1,
      "outputs": []
    },
    {
      "cell_type": "code",
      "source": [
        "#функция получения boxplot для колонки. На вход наименование колонки. Универсальную не делал\n",
        "def get_box_plot(column):\n",
        "  fig, ax = plt.subplots(1,1, figsize = (30,10))\n",
        "  sns.set_style(\"whitegrid\")\n",
        "  box_plot = sns.boxplot(x=column,y=\"price\",data=result[result['price']>0])\n",
        "\n",
        "  medians = result.groupby([column])['price'].median()\n",
        "  vertical_offset = result[result['price']>0]['price'].median() * 0.05 # offset from median for display\n",
        "\n",
        "  for xtick in box_plot.get_xticks():\n",
        "      box_plot.text(xtick,medians[xtick] + vertical_offset,medians[xtick], \n",
        "              horizontalalignment='center',size='x-small',color='w',weight='semibold')\n",
        "      \n",
        "\n",
        "#функция чтобы вычеслить MAPE\n",
        "def mape(Y_actual,Y_Predicted):\n",
        "    #Reshape для того чтобы сравнить выборки друг с другом\n",
        "    new_len = len(Y_Predicted)\n",
        "    Y_Predicted=Y_Predicted.reshape(new_len,1)\n",
        "\n",
        "    mape = np.mean(np.abs((Y_actual - Y_Predicted)/Y_actual))*100\n",
        "    return mape"
      ],
      "metadata": {
        "id": "JoCPQzPSkxp_"
      },
      "execution_count": 2,
      "outputs": []
    },
    {
      "cell_type": "markdown",
      "source": [
        "**EDA**\n",
        "\n",
        "Посмотрим на данные на которых нужно обучить модель. Парсинг и небольшая обработка в отдельном файле."
      ],
      "metadata": {
        "id": "w1L1n-TTZGCn"
      }
    },
    {
      "cell_type": "code",
      "execution_count": 3,
      "metadata": {
        "id": "PoZtoG_TXkRi",
        "colab": {
          "base_uri": "https://localhost:8080/",
          "height": 381
        },
        "outputId": "0b37e3e7-80bd-492c-a77d-fd673e62ed32"
      },
      "outputs": [
        {
          "output_type": "execute_result",
          "data": {
            "text/html": [
              "\n",
              "  <div id=\"df-f2052e77-13fd-4ac8-a191-79dea034a06a\">\n",
              "    <div class=\"colab-df-container\">\n",
              "      <div>\n",
              "<style scoped>\n",
              "    .dataframe tbody tr th:only-of-type {\n",
              "        vertical-align: middle;\n",
              "    }\n",
              "\n",
              "    .dataframe tbody tr th {\n",
              "        vertical-align: top;\n",
              "    }\n",
              "\n",
              "    .dataframe thead th {\n",
              "        text-align: right;\n",
              "    }\n",
              "</style>\n",
              "<table border=\"1\" class=\"dataframe\">\n",
              "  <thead>\n",
              "    <tr style=\"text-align: right;\">\n",
              "      <th></th>\n",
              "      <th>bodyType</th>\n",
              "      <th>brand</th>\n",
              "      <th>car_url</th>\n",
              "      <th>color</th>\n",
              "      <th>complectation_dict</th>\n",
              "      <th>description</th>\n",
              "      <th>engineDisplacement</th>\n",
              "      <th>enginePower</th>\n",
              "      <th>equipment_dict</th>\n",
              "      <th>fuelType</th>\n",
              "      <th>image</th>\n",
              "      <th>mileage</th>\n",
              "      <th>modelDate</th>\n",
              "      <th>model_info</th>\n",
              "      <th>model_name</th>\n",
              "      <th>name</th>\n",
              "      <th>numberOfDoors</th>\n",
              "      <th>parsing_unixtime</th>\n",
              "      <th>priceCurrency</th>\n",
              "      <th>productionDate</th>\n",
              "      <th>sell_id</th>\n",
              "      <th>super_gen</th>\n",
              "      <th>vehicleConfiguration</th>\n",
              "      <th>vehicleTransmission</th>\n",
              "      <th>vendor</th>\n",
              "      <th>Владельцы</th>\n",
              "      <th>Владение</th>\n",
              "      <th>ПТС</th>\n",
              "      <th>Привод</th>\n",
              "      <th>Руль</th>\n",
              "      <th>Состояние</th>\n",
              "      <th>Таможня</th>\n",
              "    </tr>\n",
              "  </thead>\n",
              "  <tbody>\n",
              "    <tr>\n",
              "      <th>0</th>\n",
              "      <td>лифтбек</td>\n",
              "      <td>SKODA</td>\n",
              "      <td>https://auto.ru/cars/used/sale/skoda/octavia/1...</td>\n",
              "      <td>синий</td>\n",
              "      <td>NaN</td>\n",
              "      <td>Все автомобили, представленные в продаже, прох...</td>\n",
              "      <td>1.2 LTR</td>\n",
              "      <td>105 N12</td>\n",
              "      <td>{\"engine-proof\":true,\"tinted-glass\":true,\"airb...</td>\n",
              "      <td>бензин</td>\n",
              "      <td>https://autoru.naydex.net/o9DBXQ270/5ac010hAY0...</td>\n",
              "      <td>74000</td>\n",
              "      <td>2013</td>\n",
              "      <td>{\"code\":\"OCTAVIA\",\"name\":\"Octavia\",\"ru_name\":\"...</td>\n",
              "      <td>OCTAVIA</td>\n",
              "      <td>1.2 AMT (105 л.с.)</td>\n",
              "      <td>5</td>\n",
              "      <td>1603226273</td>\n",
              "      <td>RUB</td>\n",
              "      <td>2014</td>\n",
              "      <td>1100575026</td>\n",
              "      <td>{\"id\":\"10373605\",\"displacement\":1197,\"engine_t...</td>\n",
              "      <td>LIFTBACK ROBOT 1.2</td>\n",
              "      <td>роботизированная</td>\n",
              "      <td>EUROPEAN</td>\n",
              "      <td>3 или более</td>\n",
              "      <td>NaN</td>\n",
              "      <td>Оригинал</td>\n",
              "      <td>передний</td>\n",
              "      <td>Левый</td>\n",
              "      <td>Не требует ремонта</td>\n",
              "      <td>Растаможен</td>\n",
              "    </tr>\n",
              "    <tr>\n",
              "      <th>1</th>\n",
              "      <td>лифтбек</td>\n",
              "      <td>SKODA</td>\n",
              "      <td>https://auto.ru/cars/used/sale/skoda/octavia/1...</td>\n",
              "      <td>чёрный</td>\n",
              "      <td>NaN</td>\n",
              "      <td>ЛОТ: 01217195\\nАвтопрага Север\\nДанный автомоб...</td>\n",
              "      <td>1.6 LTR</td>\n",
              "      <td>110 N12</td>\n",
              "      <td>{\"cruise-control\":true,\"asr\":true,\"esp\":true,\"...</td>\n",
              "      <td>бензин</td>\n",
              "      <td>https://autoru.naydex.net/o9DBXQ270/5ac010hAY0...</td>\n",
              "      <td>60563</td>\n",
              "      <td>2017</td>\n",
              "      <td>{\"code\":\"OCTAVIA\",\"name\":\"Octavia\",\"ru_name\":\"...</td>\n",
              "      <td>OCTAVIA</td>\n",
              "      <td>1.6 MT (110 л.с.)</td>\n",
              "      <td>5</td>\n",
              "      <td>1603226277</td>\n",
              "      <td>RUB</td>\n",
              "      <td>2017</td>\n",
              "      <td>1100549428</td>\n",
              "      <td>{\"id\":\"20913311\",\"displacement\":1598,\"engine_t...</td>\n",
              "      <td>LIFTBACK MECHANICAL 1.6</td>\n",
              "      <td>механическая</td>\n",
              "      <td>EUROPEAN</td>\n",
              "      <td>1 владелец</td>\n",
              "      <td>NaN</td>\n",
              "      <td>Оригинал</td>\n",
              "      <td>передний</td>\n",
              "      <td>Левый</td>\n",
              "      <td>Не требует ремонта</td>\n",
              "      <td>Растаможен</td>\n",
              "    </tr>\n",
              "    <tr>\n",
              "      <th>2</th>\n",
              "      <td>лифтбек</td>\n",
              "      <td>SKODA</td>\n",
              "      <td>https://auto.ru/cars/used/sale/skoda/superb/11...</td>\n",
              "      <td>серый</td>\n",
              "      <td>{\"id\":\"20026336\",\"name\":\"Ambition\",\"available_...</td>\n",
              "      <td>Все автомобили, представленные в продаже, прох...</td>\n",
              "      <td>1.8 LTR</td>\n",
              "      <td>152 N12</td>\n",
              "      <td>{\"cruise-control\":true,\"tinted-glass\":true,\"es...</td>\n",
              "      <td>бензин</td>\n",
              "      <td>https://avatars.mds.yandex.net/get-autoru-vos/...</td>\n",
              "      <td>88000</td>\n",
              "      <td>2013</td>\n",
              "      <td>{\"code\":\"SUPERB\",\"name\":\"Superb\",\"ru_name\":\"Су...</td>\n",
              "      <td>SUPERB</td>\n",
              "      <td>DSG 1.8 AMT (152 л.с.)</td>\n",
              "      <td>5</td>\n",
              "      <td>1603226280</td>\n",
              "      <td>RUB</td>\n",
              "      <td>2014</td>\n",
              "      <td>1100658222</td>\n",
              "      <td>{\"id\":\"20026323\",\"nameplate\":\"DSG\",\"displaceme...</td>\n",
              "      <td>LIFTBACK ROBOT 1.8</td>\n",
              "      <td>роботизированная</td>\n",
              "      <td>EUROPEAN</td>\n",
              "      <td>1 владелец</td>\n",
              "      <td>NaN</td>\n",
              "      <td>Оригинал</td>\n",
              "      <td>передний</td>\n",
              "      <td>Левый</td>\n",
              "      <td>Не требует ремонта</td>\n",
              "      <td>Растаможен</td>\n",
              "    </tr>\n",
              "  </tbody>\n",
              "</table>\n",
              "</div>\n",
              "      <button class=\"colab-df-convert\" onclick=\"convertToInteractive('df-f2052e77-13fd-4ac8-a191-79dea034a06a')\"\n",
              "              title=\"Convert this dataframe to an interactive table.\"\n",
              "              style=\"display:none;\">\n",
              "        \n",
              "  <svg xmlns=\"http://www.w3.org/2000/svg\" height=\"24px\"viewBox=\"0 0 24 24\"\n",
              "       width=\"24px\">\n",
              "    <path d=\"M0 0h24v24H0V0z\" fill=\"none\"/>\n",
              "    <path d=\"M18.56 5.44l.94 2.06.94-2.06 2.06-.94-2.06-.94-.94-2.06-.94 2.06-2.06.94zm-11 1L8.5 8.5l.94-2.06 2.06-.94-2.06-.94L8.5 2.5l-.94 2.06-2.06.94zm10 10l.94 2.06.94-2.06 2.06-.94-2.06-.94-.94-2.06-.94 2.06-2.06.94z\"/><path d=\"M17.41 7.96l-1.37-1.37c-.4-.4-.92-.59-1.43-.59-.52 0-1.04.2-1.43.59L10.3 9.45l-7.72 7.72c-.78.78-.78 2.05 0 2.83L4 21.41c.39.39.9.59 1.41.59.51 0 1.02-.2 1.41-.59l7.78-7.78 2.81-2.81c.8-.78.8-2.07 0-2.86zM5.41 20L4 18.59l7.72-7.72 1.47 1.35L5.41 20z\"/>\n",
              "  </svg>\n",
              "      </button>\n",
              "      \n",
              "  <style>\n",
              "    .colab-df-container {\n",
              "      display:flex;\n",
              "      flex-wrap:wrap;\n",
              "      gap: 12px;\n",
              "    }\n",
              "\n",
              "    .colab-df-convert {\n",
              "      background-color: #E8F0FE;\n",
              "      border: none;\n",
              "      border-radius: 50%;\n",
              "      cursor: pointer;\n",
              "      display: none;\n",
              "      fill: #1967D2;\n",
              "      height: 32px;\n",
              "      padding: 0 0 0 0;\n",
              "      width: 32px;\n",
              "    }\n",
              "\n",
              "    .colab-df-convert:hover {\n",
              "      background-color: #E2EBFA;\n",
              "      box-shadow: 0px 1px 2px rgba(60, 64, 67, 0.3), 0px 1px 3px 1px rgba(60, 64, 67, 0.15);\n",
              "      fill: #174EA6;\n",
              "    }\n",
              "\n",
              "    [theme=dark] .colab-df-convert {\n",
              "      background-color: #3B4455;\n",
              "      fill: #D2E3FC;\n",
              "    }\n",
              "\n",
              "    [theme=dark] .colab-df-convert:hover {\n",
              "      background-color: #434B5C;\n",
              "      box-shadow: 0px 1px 3px 1px rgba(0, 0, 0, 0.15);\n",
              "      filter: drop-shadow(0px 1px 2px rgba(0, 0, 0, 0.3));\n",
              "      fill: #FFFFFF;\n",
              "    }\n",
              "  </style>\n",
              "\n",
              "      <script>\n",
              "        const buttonEl =\n",
              "          document.querySelector('#df-f2052e77-13fd-4ac8-a191-79dea034a06a button.colab-df-convert');\n",
              "        buttonEl.style.display =\n",
              "          google.colab.kernel.accessAllowed ? 'block' : 'none';\n",
              "\n",
              "        async function convertToInteractive(key) {\n",
              "          const element = document.querySelector('#df-f2052e77-13fd-4ac8-a191-79dea034a06a');\n",
              "          const dataTable =\n",
              "            await google.colab.kernel.invokeFunction('convertToInteractive',\n",
              "                                                     [key], {});\n",
              "          if (!dataTable) return;\n",
              "\n",
              "          const docLinkHtml = 'Like what you see? Visit the ' +\n",
              "            '<a target=\"_blank\" href=https://colab.research.google.com/notebooks/data_table.ipynb>data table notebook</a>'\n",
              "            + ' to learn more about interactive tables.';\n",
              "          element.innerHTML = '';\n",
              "          dataTable['output_type'] = 'display_data';\n",
              "          await google.colab.output.renderOutput(dataTable, element);\n",
              "          const docLink = document.createElement('div');\n",
              "          docLink.innerHTML = docLinkHtml;\n",
              "          element.appendChild(docLink);\n",
              "        }\n",
              "      </script>\n",
              "    </div>\n",
              "  </div>\n",
              "  "
            ],
            "text/plain": [
              "  bodyType  brand  ...           Состояние     Таможня\n",
              "0  лифтбек  SKODA  ...  Не требует ремонта  Растаможен\n",
              "1  лифтбек  SKODA  ...  Не требует ремонта  Растаможен\n",
              "2  лифтбек  SKODA  ...  Не требует ремонта  Растаможен\n",
              "\n",
              "[3 rows x 32 columns]"
            ]
          },
          "metadata": {},
          "execution_count": 3
        }
      ],
      "source": [
        "#тестовая выборка есть в задании\n",
        "path = \"/content/drive/My Drive/Colab Notebooks/car_price/test.csv\"\n",
        "test = pd.read_csv(path, sep=',')\n",
        "\n",
        "#обучающую спарсил отдельно\n",
        "path = \"/content/drive/My Drive/Colab Notebooks/car_price/train.csv\"\n",
        "train = pd.read_csv(path, sep=',')\n",
        "\n",
        "test.head(3)"
      ]
    },
    {
      "cell_type": "markdown",
      "source": [
        "Описание полей:\n",
        "\n",
        "* bodyType - тип кузова\n",
        "* brand - производитель\n",
        "* car_url - ссылка на объявление\n",
        "* color - цвет авто\n",
        "* engineDisplacement \t- объём двигателя?\n",
        "* enginePower - мощность в лошадиных силах?\n",
        "* fuelType - тип топлива \n",
        "* image - ссылка на фото\n",
        "* mileage - пробег\n",
        "* model_name - название модели\n",
        "* name - объём двигателя, турбина, кол-во ЛС\n",
        "* numberOfDoors - кол-во дверей \n",
        "* productionDate - год производства авто\n",
        "* sell_id - ID продавца или объявления?\n",
        "* vehicleTransmission - тип кпп\n",
        "* vendor - регион производителя. В выборке только EUROPEAN и JAPANESE\n",
        "* Владельцы - кол-во владельцев\n",
        "* Владение - длительность во владении в годах и месяцах на русском\n",
        "* ПТС - оригинал или дубликат\n",
        "* Привод - тип привода\n",
        "* Руль - расположение руля\n",
        "* Состояние - состояние авто\n",
        "* Таможня - требуется ли растамаживать\n",
        "\n",
        "Список полей, которые сразу можно удалять:\n",
        "* description описание - текстовое описание. Могли бы из него вытащить состояние и тд, но оно нам не нужно тк эта информация есть в отдельных колонках.\n",
        "* model_info - информация о модели, название на русском и тд. Тоже обойдёмся без этого справочника.\n",
        "* super_gen - описание кол-ва ЛС, типа привода, типа топлива, расхода и ускорения. Вся эта информация есть в отдельных полях.\n",
        "* vehicleConfiguration - тип кузова и объём двигателя. Тоже дублируется в других полях.\n",
        "* priceCurrency - валюта цены. Везде рубли, можно удалить.\n",
        "* parsing_unixtime - время когда парсили\n",
        "\n",
        "Под вопросом данные из полей:\n",
        "* complectation_dict - словарь с названием комплектации авто установленными опциями(не путать с функциями в авто)\n",
        "* equipment_dict - функции авто, словарь. Лежит на странице объявления в блоке \"Комплектация\"\n",
        "* modelDate - год выпуска модели(не авто а всего модельного ряда)"
      ],
      "metadata": {
        "id": "0V1xTYXUcNdV"
      }
    },
    {
      "cell_type": "markdown",
      "source": [
        "Переименуем русскоязычные колонки которые планируем использовать в eng для удобной работы"
      ],
      "metadata": {
        "id": "8Gaeq9BuVQha"
      }
    },
    {
      "cell_type": "code",
      "source": [
        "test.rename(columns={'Владельцы': 'owners', 'ПТС': 'pts',\n",
        "       'Привод': 'gear_type', 'Руль': 'steering_wheel'}, inplace=True)"
      ],
      "metadata": {
        "id": "TTA_0HsKVKxd"
      },
      "execution_count": 4,
      "outputs": []
    },
    {
      "cell_type": "code",
      "source": [
        "set(test.columns).difference(train.columns)"
      ],
      "metadata": {
        "id": "LavD-tbtZyJ0",
        "colab": {
          "base_uri": "https://localhost:8080/"
        },
        "outputId": "71f2ee13-f522-467a-a1fc-99368fc6b008"
      },
      "execution_count": 5,
      "outputs": [
        {
          "output_type": "execute_result",
          "data": {
            "text/plain": [
              "{'car_url',\n",
              " 'complectation_dict',\n",
              " 'description',\n",
              " 'equipment_dict',\n",
              " 'image',\n",
              " 'modelDate',\n",
              " 'model_info',\n",
              " 'model_name',\n",
              " 'name',\n",
              " 'parsing_unixtime',\n",
              " 'priceCurrency',\n",
              " 'super_gen',\n",
              " 'vehicleConfiguration',\n",
              " 'Владение',\n",
              " 'Состояние',\n",
              " 'Таможня'}"
            ]
          },
          "metadata": {},
          "execution_count": 5
        }
      ]
    },
    {
      "cell_type": "markdown",
      "source": [
        "Удалим то что отличается в датасетах и то что не планируем использовать"
      ],
      "metadata": {
        "id": "rLPlZjerZ8nn"
      }
    },
    {
      "cell_type": "code",
      "source": [
        "#Удалим колонки, которые не можем проанализировать или которые дублируют информацию\n",
        "coll_to_drop = ['car_url', 'complectation_dict', 'description', 'model_info', \n",
        "                'equipment_dict', 'image', 'modelDate', 'name', 'parsing_unixtime',\n",
        "                'super_gen', 'vehicleConfiguration', 'priceCurrency',\n",
        "                'model_name', 'Владение', 'Состояние', 'Таможня']\n",
        "\n",
        "#удалим не нужные колонки посмотрим на остальные \n",
        "test.drop(labels=coll_to_drop, axis=1, inplace=True)"
      ],
      "metadata": {
        "id": "UsQ2kL5BaC7L"
      },
      "execution_count": 6,
      "outputs": []
    },
    {
      "cell_type": "markdown",
      "source": [
        "Добавляем колонку price в тестовый датасет, по ней и будем понимать что есть тест. В трейне прайс не нулевой."
      ],
      "metadata": {
        "id": "BVGyeZCuaRhg"
      }
    },
    {
      "cell_type": "code",
      "source": [
        "test['price']=0"
      ],
      "metadata": {
        "id": "XT7chA_laOEc"
      },
      "execution_count": 7,
      "outputs": []
    },
    {
      "cell_type": "markdown",
      "source": [
        "Объединяем датасет для дальнейшей работы"
      ],
      "metadata": {
        "id": "r190hzK1cF2n"
      }
    },
    {
      "cell_type": "code",
      "source": [
        "ds = [test, train]\n",
        "result = pd.concat(ds)\n",
        "result.head(1)"
      ],
      "metadata": {
        "id": "UOplgWPKb-64",
        "colab": {
          "base_uri": "https://localhost:8080/",
          "height": 162
        },
        "outputId": "f50e68b9-550d-468e-e48a-01e55cca7096"
      },
      "execution_count": 8,
      "outputs": [
        {
          "output_type": "execute_result",
          "data": {
            "text/html": [
              "\n",
              "  <div id=\"df-8c06af0f-c266-4811-b9da-1f27b16d50cb\">\n",
              "    <div class=\"colab-df-container\">\n",
              "      <div>\n",
              "<style scoped>\n",
              "    .dataframe tbody tr th:only-of-type {\n",
              "        vertical-align: middle;\n",
              "    }\n",
              "\n",
              "    .dataframe tbody tr th {\n",
              "        vertical-align: top;\n",
              "    }\n",
              "\n",
              "    .dataframe thead th {\n",
              "        text-align: right;\n",
              "    }\n",
              "</style>\n",
              "<table border=\"1\" class=\"dataframe\">\n",
              "  <thead>\n",
              "    <tr style=\"text-align: right;\">\n",
              "      <th></th>\n",
              "      <th>bodyType</th>\n",
              "      <th>brand</th>\n",
              "      <th>color</th>\n",
              "      <th>engineDisplacement</th>\n",
              "      <th>enginePower</th>\n",
              "      <th>fuelType</th>\n",
              "      <th>mileage</th>\n",
              "      <th>numberOfDoors</th>\n",
              "      <th>productionDate</th>\n",
              "      <th>sell_id</th>\n",
              "      <th>vehicleTransmission</th>\n",
              "      <th>vendor</th>\n",
              "      <th>owners</th>\n",
              "      <th>pts</th>\n",
              "      <th>gear_type</th>\n",
              "      <th>steering_wheel</th>\n",
              "      <th>price</th>\n",
              "    </tr>\n",
              "  </thead>\n",
              "  <tbody>\n",
              "    <tr>\n",
              "      <th>0</th>\n",
              "      <td>лифтбек</td>\n",
              "      <td>SKODA</td>\n",
              "      <td>синий</td>\n",
              "      <td>1.2 LTR</td>\n",
              "      <td>105 N12</td>\n",
              "      <td>бензин</td>\n",
              "      <td>74000</td>\n",
              "      <td>5</td>\n",
              "      <td>2014</td>\n",
              "      <td>1100575026</td>\n",
              "      <td>роботизированная</td>\n",
              "      <td>EUROPEAN</td>\n",
              "      <td>3 или более</td>\n",
              "      <td>Оригинал</td>\n",
              "      <td>передний</td>\n",
              "      <td>Левый</td>\n",
              "      <td>0</td>\n",
              "    </tr>\n",
              "  </tbody>\n",
              "</table>\n",
              "</div>\n",
              "      <button class=\"colab-df-convert\" onclick=\"convertToInteractive('df-8c06af0f-c266-4811-b9da-1f27b16d50cb')\"\n",
              "              title=\"Convert this dataframe to an interactive table.\"\n",
              "              style=\"display:none;\">\n",
              "        \n",
              "  <svg xmlns=\"http://www.w3.org/2000/svg\" height=\"24px\"viewBox=\"0 0 24 24\"\n",
              "       width=\"24px\">\n",
              "    <path d=\"M0 0h24v24H0V0z\" fill=\"none\"/>\n",
              "    <path d=\"M18.56 5.44l.94 2.06.94-2.06 2.06-.94-2.06-.94-.94-2.06-.94 2.06-2.06.94zm-11 1L8.5 8.5l.94-2.06 2.06-.94-2.06-.94L8.5 2.5l-.94 2.06-2.06.94zm10 10l.94 2.06.94-2.06 2.06-.94-2.06-.94-.94-2.06-.94 2.06-2.06.94z\"/><path d=\"M17.41 7.96l-1.37-1.37c-.4-.4-.92-.59-1.43-.59-.52 0-1.04.2-1.43.59L10.3 9.45l-7.72 7.72c-.78.78-.78 2.05 0 2.83L4 21.41c.39.39.9.59 1.41.59.51 0 1.02-.2 1.41-.59l7.78-7.78 2.81-2.81c.8-.78.8-2.07 0-2.86zM5.41 20L4 18.59l7.72-7.72 1.47 1.35L5.41 20z\"/>\n",
              "  </svg>\n",
              "      </button>\n",
              "      \n",
              "  <style>\n",
              "    .colab-df-container {\n",
              "      display:flex;\n",
              "      flex-wrap:wrap;\n",
              "      gap: 12px;\n",
              "    }\n",
              "\n",
              "    .colab-df-convert {\n",
              "      background-color: #E8F0FE;\n",
              "      border: none;\n",
              "      border-radius: 50%;\n",
              "      cursor: pointer;\n",
              "      display: none;\n",
              "      fill: #1967D2;\n",
              "      height: 32px;\n",
              "      padding: 0 0 0 0;\n",
              "      width: 32px;\n",
              "    }\n",
              "\n",
              "    .colab-df-convert:hover {\n",
              "      background-color: #E2EBFA;\n",
              "      box-shadow: 0px 1px 2px rgba(60, 64, 67, 0.3), 0px 1px 3px 1px rgba(60, 64, 67, 0.15);\n",
              "      fill: #174EA6;\n",
              "    }\n",
              "\n",
              "    [theme=dark] .colab-df-convert {\n",
              "      background-color: #3B4455;\n",
              "      fill: #D2E3FC;\n",
              "    }\n",
              "\n",
              "    [theme=dark] .colab-df-convert:hover {\n",
              "      background-color: #434B5C;\n",
              "      box-shadow: 0px 1px 3px 1px rgba(0, 0, 0, 0.15);\n",
              "      filter: drop-shadow(0px 1px 2px rgba(0, 0, 0, 0.3));\n",
              "      fill: #FFFFFF;\n",
              "    }\n",
              "  </style>\n",
              "\n",
              "      <script>\n",
              "        const buttonEl =\n",
              "          document.querySelector('#df-8c06af0f-c266-4811-b9da-1f27b16d50cb button.colab-df-convert');\n",
              "        buttonEl.style.display =\n",
              "          google.colab.kernel.accessAllowed ? 'block' : 'none';\n",
              "\n",
              "        async function convertToInteractive(key) {\n",
              "          const element = document.querySelector('#df-8c06af0f-c266-4811-b9da-1f27b16d50cb');\n",
              "          const dataTable =\n",
              "            await google.colab.kernel.invokeFunction('convertToInteractive',\n",
              "                                                     [key], {});\n",
              "          if (!dataTable) return;\n",
              "\n",
              "          const docLinkHtml = 'Like what you see? Visit the ' +\n",
              "            '<a target=\"_blank\" href=https://colab.research.google.com/notebooks/data_table.ipynb>data table notebook</a>'\n",
              "            + ' to learn more about interactive tables.';\n",
              "          element.innerHTML = '';\n",
              "          dataTable['output_type'] = 'display_data';\n",
              "          await google.colab.output.renderOutput(dataTable, element);\n",
              "          const docLink = document.createElement('div');\n",
              "          docLink.innerHTML = docLinkHtml;\n",
              "          element.appendChild(docLink);\n",
              "        }\n",
              "      </script>\n",
              "    </div>\n",
              "  </div>\n",
              "  "
            ],
            "text/plain": [
              "  bodyType  brand  color  ... gear_type steering_wheel price\n",
              "0  лифтбек  SKODA  синий  ...  передний          Левый     0\n",
              "\n",
              "[1 rows x 17 columns]"
            ]
          },
          "metadata": {},
          "execution_count": 8
        }
      ]
    },
    {
      "cell_type": "markdown",
      "source": [
        "Посмотрим на данные по ближе:"
      ],
      "metadata": {
        "id": "YaU3ayeaVSkH"
      }
    },
    {
      "cell_type": "code",
      "source": [
        "#сперва подсчитаем кол-во записей в тесте для статистики ниже\n",
        "total_cnt = result.sell_id.count()\n",
        "\n",
        "#пройдём по каждой колонке, посмотрим сколько уникальных, сколько не пустых, какой процест и выведем ТОП 15 популярных значений\n",
        "for col in result.columns:\n",
        "  non_nan = result[col].isna().sum()\n",
        "  print('Колонка:', col)\n",
        "  print('Не пустых:', total_cnt-non_nan, '. % заполненных данных', 100-(non_nan/total_cnt)*100)\n",
        "  print('Уникальных значений:', result[col].nunique())\n",
        "  display(result[col].value_counts().nlargest(15))\n",
        "  print()\n"
      ],
      "metadata": {
        "id": "pyTR-r2Ba5or",
        "colab": {
          "base_uri": "https://localhost:8080/",
          "height": 1000
        },
        "outputId": "90f794bf-be02-4768-8a54-750a68d2a259"
      },
      "execution_count": 9,
      "outputs": [
        {
          "output_type": "stream",
          "name": "stdout",
          "text": [
            "Колонка: bodyType\n",
            "Не пустых: 117370 . % заполненных данных 100.0\n",
            "Уникальных значений: 28\n"
          ]
        },
        {
          "output_type": "display_data",
          "data": {
            "text/plain": [
              "внедорожник             43314\n",
              "седан                   35386\n",
              "внедорожник 5 дв.       12228\n",
              "лифтбек                  8323\n",
              "хэтчбек                  4351\n",
              "минивэн                  2370\n",
              "универсал                2159\n",
              "хэтчбек 5 дв.            2124\n",
              "купе                     1882\n",
              "компактвэн               1638\n",
              "универсал 5 дв.          1276\n",
              "пикап                     489\n",
              "хэтчбек 3 дв.             485\n",
              "пикап двойная кабина      280\n",
              "купе-хардтоп              261\n",
              "Name: bodyType, dtype: int64"
            ]
          },
          "metadata": {}
        },
        {
          "output_type": "stream",
          "name": "stdout",
          "text": [
            "\n",
            "Колонка: brand\n",
            "Не пустых: 117370 . % заполненных данных 100.0\n",
            "Уникальных значений: 12\n"
          ]
        },
        {
          "output_type": "display_data",
          "data": {
            "text/plain": [
              "VOLKSWAGEN    11529\n",
              "MERCEDES      11424\n",
              "NISSAN        11295\n",
              "BMW           11211\n",
              "TOYOTA        11113\n",
              "AUDI          10343\n",
              "MITSUBISHI    10084\n",
              "SKODA         10060\n",
              "VOLVO          8778\n",
              "HONDA          8598\n",
              "LEXUS          8156\n",
              "INFINITI       4779\n",
              "Name: brand, dtype: int64"
            ]
          },
          "metadata": {}
        },
        {
          "output_type": "stream",
          "name": "stdout",
          "text": [
            "\n",
            "Колонка: color\n",
            "Не пустых: 117370 . % заполненных данных 100.0\n",
            "Уникальных значений: 32\n"
          ]
        },
        {
          "output_type": "display_data",
          "data": {
            "text/plain": [
              "black          22607\n",
              "white          19622\n",
              "gray           12267\n",
              "чёрный         11010\n",
              "blue            7636\n",
              "silver          7313\n",
              "белый           6133\n",
              "серебристый     4113\n",
              "серый           3984\n",
              "red             3850\n",
              "brown           3719\n",
              "синий           3289\n",
              "green           1754\n",
              "красный         1531\n",
              "коричневый      1501\n",
              "Name: color, dtype: int64"
            ]
          },
          "metadata": {}
        },
        {
          "output_type": "stream",
          "name": "stdout",
          "text": [
            "\n",
            "Колонка: engineDisplacement\n",
            "Не пустых: 117370 . % заполненных данных 100.0\n",
            "Уникальных значений: 454\n"
          ]
        },
        {
          "output_type": "display_data",
          "data": {
            "text/plain": [
              "2.0 LTR    7391\n",
              "1598       6840\n",
              "1998       5990\n",
              "1.6 LTR    4973\n",
              "1997       4365\n",
              "1984       4018\n",
              "3.0 LTR    3915\n",
              "1969       3725\n",
              "1.8 LTR    3349\n",
              "1395       3058\n",
              "1968       2719\n",
              "3456       2502\n",
              "2.5 LTR    2477\n",
              "2993       2222\n",
              "1995       1851\n",
              "Name: engineDisplacement, dtype: int64"
            ]
          },
          "metadata": {}
        },
        {
          "output_type": "stream",
          "name": "stdout",
          "text": [
            "\n",
            "Колонка: enginePower\n",
            "Не пустых: 117370 . % заполненных данных 100.0\n",
            "Уникальных значений: 648\n"
          ]
        },
        {
          "output_type": "display_data",
          "data": {
            "text/plain": [
              "150        7953\n",
              "249        7622\n",
              "110        3663\n",
              "190        2763\n",
              "146        1875\n",
              "140        1810\n",
              "249 N12    1708\n",
              "150 N12    1699\n",
              "238        1586\n",
              "105        1575\n",
              "90         1405\n",
              "144        1396\n",
              "180        1344\n",
              "170        1207\n",
              "125        1183\n",
              "Name: enginePower, dtype: int64"
            ]
          },
          "metadata": {}
        },
        {
          "output_type": "stream",
          "name": "stdout",
          "text": [
            "\n",
            "Колонка: fuelType\n",
            "Не пустых: 117370 . % заполненных данных 100.0\n",
            "Уникальных значений: 10\n"
          ]
        },
        {
          "output_type": "display_data",
          "data": {
            "text/plain": [
              "GASOLINE    60235\n",
              "бензин      28601\n",
              "DIESEL      19000\n",
              "дизель       5800\n",
              "HYBRID       2996\n",
              "ELECTRO       335\n",
              "гибрид        223\n",
              "LPG           118\n",
              "электро        55\n",
              "газ             7\n",
              "Name: fuelType, dtype: int64"
            ]
          },
          "metadata": {}
        },
        {
          "output_type": "stream",
          "name": "stdout",
          "text": [
            "\n",
            "Колонка: mileage\n",
            "Не пустых: 117370 . % заполненных данных 100.0\n",
            "Уникальных значений: 11372\n"
          ]
        },
        {
          "output_type": "display_data",
          "data": {
            "text/plain": [
              "0         18095\n",
              "1000        834\n",
              "150000      644\n",
              "200000      636\n",
              "160000      623\n",
              "130000      563\n",
              "180000      554\n",
              "170000      540\n",
              "140000      525\n",
              "120000      512\n",
              "250000      482\n",
              "110000      463\n",
              "300000      456\n",
              "100000      453\n",
              "125000      444\n",
              "Name: mileage, dtype: int64"
            ]
          },
          "metadata": {}
        },
        {
          "output_type": "stream",
          "name": "stdout",
          "text": [
            "\n",
            "Колонка: numberOfDoors\n",
            "Не пустых: 117370 . % заполненных данных 100.0\n",
            "Уникальных значений: 5\n"
          ]
        },
        {
          "output_type": "display_data",
          "data": {
            "text/plain": [
              "5    75840\n",
              "4    37490\n",
              "2     2597\n",
              "3     1442\n",
              "0        1\n",
              "Name: numberOfDoors, dtype: int64"
            ]
          },
          "metadata": {}
        },
        {
          "output_type": "stream",
          "name": "stdout",
          "text": [
            "\n",
            "Колонка: productionDate\n",
            "Не пустых: 117370 . % заполненных данных 100.0\n",
            "Уникальных значений: 71\n"
          ]
        },
        {
          "output_type": "display_data",
          "data": {
            "text/plain": [
              "2021    18620\n",
              "2012     7299\n",
              "2018     6930\n",
              "2013     6851\n",
              "2014     6561\n",
              "2017     6487\n",
              "2011     6247\n",
              "2008     6154\n",
              "2016     5707\n",
              "2015     5470\n",
              "2019     4951\n",
              "2007     4357\n",
              "2010     4252\n",
              "2020     3840\n",
              "2006     2685\n",
              "Name: productionDate, dtype: int64"
            ]
          },
          "metadata": {}
        },
        {
          "output_type": "stream",
          "name": "stdout",
          "text": [
            "\n",
            "Колонка: sell_id\n",
            "Не пустых: 117370 . % заполненных данных 100.0\n",
            "Уникальных значений: 117370\n"
          ]
        },
        {
          "output_type": "display_data",
          "data": {
            "text/plain": [
              "1105966678-95143649    1\n",
              "1106324922-c5dab4cc    1\n",
              "1106221486-c37640d3    1\n",
              "1101353483             1\n",
              "1106229319-809c709e    1\n",
              "1106343986-c2aefdfb    1\n",
              "1105854300-716e1270    1\n",
              "1106217543-1fde0ccb    1\n",
              "1106213360-a920cab0    1\n",
              "1103465537-0eebf981    1\n",
              "1106517888-e8c33d86    1\n",
              "1106109238-966028ea    1\n",
              "1100304924             1\n",
              "1105936622-45b4da84    1\n",
              "1106451619-9744628f    1\n",
              "Name: sell_id, dtype: int64"
            ]
          },
          "metadata": {}
        },
        {
          "output_type": "stream",
          "name": "stdout",
          "text": [
            "\n",
            "Колонка: vehicleTransmission\n",
            "Не пустых: 117370 . % заполненных данных 100.0\n",
            "Уникальных значений: 8\n"
          ]
        },
        {
          "output_type": "display_data",
          "data": {
            "text/plain": [
              "AUTOMATIC           42049\n",
              "автоматическая      19596\n",
              "MECHANICAL          18285\n",
              "VARIATOR            13037\n",
              "ROBOT                9313\n",
              "механическая         7209\n",
              "вариатор             3999\n",
              "роботизированная     3882\n",
              "Name: vehicleTransmission, dtype: int64"
            ]
          },
          "metadata": {}
        },
        {
          "output_type": "stream",
          "name": "stdout",
          "text": [
            "\n",
            "Колонка: vendor\n",
            "Не пустых: 117370 . % заполненных данных 100.0\n",
            "Уникальных значений: 3\n"
          ]
        },
        {
          "output_type": "display_data",
          "data": {
            "text/plain": [
              "EUROPEAN    63343\n",
              "JAPANESE    54025\n",
              "AMERICAN        2\n",
              "Name: vendor, dtype: int64"
            ]
          },
          "metadata": {}
        },
        {
          "output_type": "stream",
          "name": "stdout",
          "text": [
            "\n",
            "Колонка: owners\n",
            "Не пустых: 117370 . % заполненных данных 100.0\n",
            "Уникальных значений: 8\n"
          ]
        },
        {
          "output_type": "display_data",
          "data": {
            "text/plain": [
              "1              24318\n",
              "0              18095\n",
              "3 или более    15957\n",
              "2              14873\n",
              "4              14328\n",
              "3              11070\n",
              "1 владелец      9459\n",
              "2 владельца     9270\n",
              "Name: owners, dtype: int64"
            ]
          },
          "metadata": {}
        },
        {
          "output_type": "stream",
          "name": "stdout",
          "text": [
            "\n",
            "Колонка: pts\n",
            "Не пустых: 117369 . % заполненных данных 99.99914799352474\n",
            "Уникальных значений: 4\n"
          ]
        },
        {
          "output_type": "display_data",
          "data": {
            "text/plain": [
              "1           72491\n",
              "Оригинал    30098\n",
              "0           10193\n",
              "Дубликат     4587\n",
              "Name: pts, dtype: int64"
            ]
          },
          "metadata": {}
        },
        {
          "output_type": "stream",
          "name": "stdout",
          "text": [
            "\n",
            "Колонка: gear_type\n",
            "Не пустых: 117370 . % заполненных данных 100.0\n",
            "Уникальных значений: 6\n"
          ]
        },
        {
          "output_type": "display_data",
          "data": {
            "text/plain": [
              "ALL_WHEEL_DRIVE    42473\n",
              "FORWARD_CONTROL    34066\n",
              "передний           15565\n",
              "полный             15020\n",
              "REAR_DRIVE          6145\n",
              "задний              4101\n",
              "Name: gear_type, dtype: int64"
            ]
          },
          "metadata": {}
        },
        {
          "output_type": "stream",
          "name": "stdout",
          "text": [
            "\n",
            "Колонка: steering_wheel\n",
            "Не пустых: 117370 . % заполненных данных 100.0\n",
            "Уникальных значений: 4\n"
          ]
        },
        {
          "output_type": "display_data",
          "data": {
            "text/plain": [
              "LEFT      78057\n",
              "Левый     33287\n",
              "RIGHT      4627\n",
              "Правый     1399\n",
              "Name: steering_wheel, dtype: int64"
            ]
          },
          "metadata": {}
        },
        {
          "output_type": "stream",
          "name": "stdout",
          "text": [
            "\n",
            "Колонка: price\n",
            "Не пустых: 117370 . % заполненных данных 100.0\n",
            "Уникальных значений: 2016\n"
          ]
        },
        {
          "output_type": "display_data",
          "data": {
            "text/plain": [
              "0          34686\n",
              "990000       315\n",
              "750000       305\n",
              "1010000      304\n",
              "880000       302\n",
              "770000       294\n",
              "1300000      292\n",
              "1000000      292\n",
              "1430000      291\n",
              "650000       288\n",
              "960000       288\n",
              "720000       287\n",
              "980000       285\n",
              "640000       283\n",
              "700000       283\n",
              "Name: price, dtype: int64"
            ]
          },
          "metadata": {}
        },
        {
          "output_type": "stream",
          "name": "stdout",
          "text": [
            "\n"
          ]
        }
      ]
    },
    {
      "cell_type": "markdown",
      "source": [
        "Бросается в глаза разница в данных тк где-то на eng написаны переменные, где-то на ру, приведём всё к eng. Это поможет и при создании Dummy-переменных.\n",
        "\n",
        "Данные преимущественно заполнены на 100%, есть небольшой пропуск в колонке ПТС(1тысячная).\n",
        "\n",
        "Превратить в dummy переменные:\n",
        "1. brand - 12 значений\n",
        "2. color - оставить популярные цвета, остальные превратить в \"Другое\". Всего 16 разных цветов\n",
        "3. vehicleTransmission - 4 разных типа\n",
        "4. Владельцы - заменить значения.\n",
        "5. ПТС - два пропуска.\n",
        "6. Привод \n",
        "7. Руль\n",
        "8. bodyType - первые 5 это 80% от всех значений. Возьмём популярные кузова, остальное объединим в \"Другое\"\n",
        "9. fuelType - так и оставим.\n",
        "\n",
        "Оставить без изменений:\n",
        "1. mileage - так и оставим\n",
        "\n",
        "Требуют детализации:\n",
        "1. engineDisplacement - 55 разных двигателей. Надо превратить во float и проверить выбросы.\n",
        "2. enginePower - Надо превратить во float и проверить выбросы.\n",
        "3. numberOfDoors - есть одна машина с одной дверью. Наверное есть такие машины, но в нашем случае это выброс и такие модели надо проверять вручную.\n",
        "4. productionDate - проверить на выбросы\n",
        "\n",
        "Удалить: \n",
        "Владение -  34% пропусков и эти данные не парсились.\n",
        "\n",
        "Наблюдения: в целевом датасете только новые машины не требующие ремонта и растаможенные. Во время майнинга данных это учёл."
      ],
      "metadata": {
        "id": "96D4LAW2EHt8"
      }
    },
    {
      "cell_type": "markdown",
      "source": [
        "### Займёмся приведением датасатов к единому виду.\n",
        "\n",
        "Сперва цвета машин. Посмотрим на значения."
      ],
      "metadata": {
        "id": "HOxrZoldHNiV"
      }
    },
    {
      "cell_type": "code",
      "source": [
        "result.color.unique()"
      ],
      "metadata": {
        "id": "JhB0de2dXXTY",
        "colab": {
          "base_uri": "https://localhost:8080/"
        },
        "outputId": "6a6f21c4-a9f4-455b-84ce-6152921ce593"
      },
      "execution_count": 10,
      "outputs": [
        {
          "output_type": "execute_result",
          "data": {
            "text/plain": [
              "array(['синий', 'чёрный', 'серый', 'коричневый', 'белый', 'пурпурный',\n",
              "       'бежевый', 'серебристый', 'красный', 'зелёный', 'жёлтый',\n",
              "       'голубой', 'оранжевый', 'фиолетовый', 'золотистый', 'розовый',\n",
              "       'blue', 'gray', 'black', 'white', 'brown', 'green', 'beige',\n",
              "       'violet', 'light blue', 'red', 'silver', 'orange', 'gold',\n",
              "       'purple', 'yellow', 'pink'], dtype=object)"
            ]
          },
          "metadata": {},
          "execution_count": 10
        }
      ]
    },
    {
      "cell_type": "code",
      "source": [
        "#цвета в eng\n",
        "color_dict = {'чёрный': 'black',\n",
        "                  'белый': 'white',\n",
        "                  'серый': 'gray' ,\n",
        "                  'коричневый': 'brown',\n",
        "                  'синий': 'blue',\n",
        "                  'серебристый': 'silver',\n",
        "                  'пурпурный': 'purple', \n",
        "                  'зелёный': 'green',\n",
        "                  'оранжевый': 'orange',\n",
        "                  'красный': 'red',\n",
        "                  'голубой': 'light blue',\n",
        "                  'бежевый': 'beige',\n",
        "                  'фиолетовый': 'violet',\n",
        "                  'жёлтый': 'yellow',\n",
        "                  'золотистый': 'gold',\n",
        "                  'розовый': 'pink' }\n",
        "\n",
        "#маппим цвета и заменяем на eng\n",
        "result['color'] = result['color'].replace(color_dict)"
      ],
      "metadata": {
        "id": "MjwdB2I4XRYE"
      },
      "execution_count": 11,
      "outputs": []
    },
    {
      "cell_type": "markdown",
      "source": [
        "Теперь типы кузовов"
      ],
      "metadata": {
        "id": "_KdSfowmYCYl"
      }
    },
    {
      "cell_type": "code",
      "source": [
        "result.bodyType.unique()"
      ],
      "metadata": {
        "id": "4uuMJ5G7YFnY",
        "colab": {
          "base_uri": "https://localhost:8080/"
        },
        "outputId": "48bb0e68-c778-4c70-df20-5322220c23e1"
      },
      "execution_count": 12,
      "outputs": [
        {
          "output_type": "execute_result",
          "data": {
            "text/plain": [
              "array(['лифтбек', 'внедорожник 5 дв.', 'хэтчбек 5 дв.', 'седан',\n",
              "       'компактвэн', 'универсал 5 дв.', 'пикап одинарная кабина',\n",
              "       'хэтчбек 3 дв.', 'купе', 'кабриолет', 'минивэн',\n",
              "       'пикап двойная кабина', 'внедорожник 3 дв.', 'родстер', 'микровэн',\n",
              "       'седан 2 дв.', 'купе-хардтоп', 'фастбек', 'тарга',\n",
              "       'внедорожник открытый', 'лимузин', 'пикап полуторная кабина',\n",
              "       'седан-хардтоп', 'фургон', 'внедорожник', 'хэтчбек', 'универсал',\n",
              "       'пикап'], dtype=object)"
            ]
          },
          "metadata": {},
          "execution_count": 12
        }
      ]
    },
    {
      "cell_type": "code",
      "source": [
        "#кол-во дверей не актуально, кузовов множество, приведём пока к единому виду\n",
        "result['bodyType'] = result['bodyType'].apply(lambda x: x.split(' ')[0].lower())\n",
        "result.bodyType.unique()"
      ],
      "metadata": {
        "id": "__z4ZAFoYhvE",
        "colab": {
          "base_uri": "https://localhost:8080/"
        },
        "outputId": "c4c1c0ed-3e7c-4c68-ea4a-e1dead7f4c9f"
      },
      "execution_count": 13,
      "outputs": [
        {
          "output_type": "execute_result",
          "data": {
            "text/plain": [
              "array(['лифтбек', 'внедорожник', 'хэтчбек', 'седан', 'компактвэн',\n",
              "       'универсал', 'пикап', 'купе', 'кабриолет', 'минивэн', 'родстер',\n",
              "       'микровэн', 'купе-хардтоп', 'фастбек', 'тарга', 'лимузин',\n",
              "       'седан-хардтоп', 'фургон'], dtype=object)"
            ]
          },
          "metadata": {},
          "execution_count": 13
        }
      ]
    },
    {
      "cell_type": "markdown",
      "source": [
        "Теперь тип привода"
      ],
      "metadata": {
        "id": "rJc1nui0hVlm"
      }
    },
    {
      "cell_type": "code",
      "source": [
        "#тип привода в eng\n",
        "gear_dict = { 'передний':'FORWARD_CONTROL',\n",
        "              'полный':'ALL_WHEEL_DRIVE',\n",
        "              'задний':'REAR_DRIVE'}\n",
        "\n",
        "#маппим и заменяем на eng\n",
        "result['gear_type'] = result['gear_type'].replace(gear_dict)"
      ],
      "metadata": {
        "id": "dpwtAFF4Y1DC"
      },
      "execution_count": 14,
      "outputs": []
    },
    {
      "cell_type": "markdown",
      "source": [
        "Расположение руля"
      ],
      "metadata": {
        "id": "STOcvPzEh-Az"
      }
    },
    {
      "cell_type": "code",
      "source": [
        "steering_dict = { 'Левый':'LEFT',\n",
        "              'Правый':'RIGHT'}\n",
        "\n",
        "#маппим и заменяем на eng\n",
        "result['steering_wheel'] = result['steering_wheel'].replace(steering_dict)"
      ],
      "metadata": {
        "id": "Q8vfmTE5iBZu"
      },
      "execution_count": 15,
      "outputs": []
    },
    {
      "cell_type": "markdown",
      "source": [
        "ПТС.\n",
        "Помним что в PTS так же было пару nan. Это тоже исправим."
      ],
      "metadata": {
        "id": "DWYhslpciRi7"
      }
    },
    {
      "cell_type": "code",
      "source": [
        "pts_dict = { 'Оригинал': 1,\n",
        "              'Дубликат': 0}\n",
        "\n",
        "#маппим и заменяем на eng\n",
        "result['pts'] = result['pts'].replace(pts_dict)\n",
        "\n",
        "#заменяем PTS на 1\n",
        "result['pts'].fillna(value=1, inplace=True)"
      ],
      "metadata": {
        "id": "PiWCudQmiTNw"
      },
      "execution_count": 16,
      "outputs": []
    },
    {
      "cell_type": "markdown",
      "source": [
        "Тип трансмиссии"
      ],
      "metadata": {
        "id": "NdOz2hXujQB3"
      }
    },
    {
      "cell_type": "code",
      "source": [
        "transmission_dict = { 'автоматическая':'AUTOMATIC',\n",
        "                      'механическая':'MECHANICAL',\n",
        "                      'вариатор':'VARIATOR',\n",
        "                      'роботизированная':'ROBOT'}\n",
        "\n",
        "#маппим и заменяем на eng\n",
        "result['vehicleTransmission'] = result['vehicleTransmission'].replace(transmission_dict)"
      ],
      "metadata": {
        "id": "1zLuXFkKjSeE"
      },
      "execution_count": 17,
      "outputs": []
    },
    {
      "cell_type": "markdown",
      "source": [
        "Тип топлива"
      ],
      "metadata": {
        "id": "MTm3A51oj2FM"
      }
    },
    {
      "cell_type": "code",
      "source": [
        "fuelType_dict = { 'бензин':'GASOLINE',\n",
        "                  'дизель':'DIESEL',\n",
        "                  'гибрид':'HYBRID',\n",
        "                  'электро':'ELECTRO',\n",
        "                  'газ':'LPG'\n",
        "                 }\n",
        "\n",
        "#маппим и заменяем на eng\n",
        "result['fuelType'] = result['fuelType'].replace(fuelType_dict)"
      ],
      "metadata": {
        "id": "UlkFVr6aj1wF"
      },
      "execution_count": 18,
      "outputs": []
    },
    {
      "cell_type": "markdown",
      "source": [
        "Владельцы"
      ],
      "metadata": {
        "id": "Ii9gNvyHkafr"
      }
    },
    {
      "cell_type": "code",
      "source": [
        "owners_dict = { '3 или более': 3,\n",
        "                  '2\\xa0владельца': 2,\n",
        "                  '1\\xa0владелец': 1,\n",
        "                  '0': 0\n",
        "                 }\n",
        "\n",
        "#маппим и заменяем на eng\n",
        "result['owners'] = result['owners'].replace(owners_dict)"
      ],
      "metadata": {
        "id": "nYjBxThxkcIs"
      },
      "execution_count": 19,
      "outputs": []
    },
    {
      "cell_type": "markdown",
      "source": [
        "Займёмся engineDisplacement и enginePower.\n",
        "engineDisplacement содержит множество значений LTR, удалим их и превратим во float.\n",
        "\n"
      ],
      "metadata": {
        "id": "A-twpKifnNrD"
      }
    },
    {
      "cell_type": "code",
      "source": [
        "result.engineDisplacement.unique()"
      ],
      "metadata": {
        "id": "D4esZ8tYiydr",
        "colab": {
          "base_uri": "https://localhost:8080/"
        },
        "outputId": "2287788d-8114-486a-997a-317728eecb77"
      },
      "execution_count": 20,
      "outputs": [
        {
          "output_type": "execute_result",
          "data": {
            "text/plain": [
              "array(['1.2 LTR', '1.6 LTR', '1.8 LTR', '2.0 LTR', '1.4 LTR', '1.3 LTR',\n",
              "       '1.0 LTR', '3.6 LTR', '1.5 LTR', '1.9 LTR', '2.8 LTR', '1.1 LTR',\n",
              "       '2.5 LTR', '4.2 LTR', '3.0 LTR', '4.0 LTR', '5.9 LTR', '2.7 LTR',\n",
              "       '3.1 LTR', '2.4 LTR', '5.2 LTR', '3.2 LTR', '4.1 LTR', '6.3 LTR',\n",
              "       '2.3 LTR', '6.0 LTR', '2.2 LTR', '3.7 LTR', '2.9 LTR', '5.0 LTR',\n",
              "       '3.3 LTR', '2.1 LTR', '2.6 LTR', ' LTR', '3.5 LTR', '1.7 LTR',\n",
              "       '0.7 LTR', '4.4 LTR', '4.8 LTR', '5.4 LTR', '6.6 LTR', '4.9 LTR',\n",
              "       '3.8 LTR', '3.4 LTR', '3.9 LTR', '4.6 LTR', '5.6 LTR', '4.5 LTR',\n",
              "       '5.5 LTR', '6.2 LTR', '4.7 LTR', '4.3 LTR', '5.8 LTR', '5.3 LTR',\n",
              "       '5.7 LTR', 2979, 1998, 2993, 1596, 2998, 1499, 1995, 2926, 1997,\n",
              "       4395, 2494, 1496, 1598, 2996, 4799, 2498, 3498, 2497, 2171, 1990,\n",
              "       3600, 0, 5972, 4398, 1796, 3982, 2793, 6592, 1991, 2986, 1599,\n",
              "       1766, 1800, 1951, 1895, 4999, 3901, 1971, 2997, 2495, 1968, 2480,\n",
              "       1984, 1390, 999, 1395, 2967, 1798, 3189, 4134, 3956, 1716, 1198,\n",
              "       3597, 1498, 1896, 2995, 1595, 5998, 1197, 1781, 3168, 2461, 2460,\n",
              "       3598, 1588, 4163, 2393, 2771, 2496, 1272, 2792, 2324, 1289, 3999,\n",
              "       1461, 2488, 1332, 1618, 2953, 1348, 1797, 2991, 1597, 1973, 1386,\n",
              "       2988, 2184, 2349, 1240, 1497, 1749, 1769, 5552, 2987, 998, 4759,\n",
              "       1974, 1870, 1275, 2388, 3954, 2000, 1392, 2143, 5513, 2799, 4663,\n",
              "       2999, 3996, 2925, 1950, 2034, 5461, 2685, 5980, 2148, 2298, 4266,\n",
              "       4966, 1993, 3489, 2597, 3199, 2295, 1192, 2960, 4196, 2151, 4973,\n",
              "       5439, 3224, 6208, 2950, 1699, 2874, 3005, 2404, 2299, 3724, 4520,\n",
              "       2155, 1988, 1898, 3456, 2672, 2231, 1987, 4664, 4476, 4164, 2362,\n",
              "       1329, 4461, 2755, 1794, 5663, 2487, 2693, 1364, 2694, 3346, 2982,\n",
              "       3955, 4608, 3500, 2493, 2975, 3445, 2492, 3303, 1398, 1587, 1298,\n",
              "       3311, 4477, 2163, 3994, 1986, 996, 1297, 1296, 1600, 2994, 1487,\n",
              "       1290, 3378, 1762, 2985, 2364, 1495, 2491, 997, 1560, 1299, 4292,\n",
              "       1838, 1975, 2438, 2446, 3123, 2671, 2773, 2309, 3993, 3197, 2698,\n",
              "       2894, 2976, 2226, 2598, 6299, 1422, 2370, 3697, 2984, 4172, 5934,\n",
              "       5204, 4991, 2360, 2972, 2378, 1584, 2351, 2350, 1590, 2442, 1468,\n",
              "       1834, 3200, 2477, 2179, 3828, 3497, 2835, 2268, 659, 1493, 1343,\n",
              "       1124, 1094, 1999, 2476, 2400, 1755, 1397, 1199, 1969, 4414, 2401,\n",
              "       2521, 2435, 2922, 2319, 1731, 2300, 3192, 1948, 2316, 2783, 2849,\n",
              "       2383, 1477, 2380, 2473, 1721, 2900, 1700, 2127, 1783, 3474, 1339,\n",
              "       2160, 2356, 2199, 2451, 1243, 1589, 3471, 2354, 1668, 2254, 1799,\n",
              "       2204, 2675, 1996, 2157, 988, 1396, 1850, 658, 2156, 2258, 1972,\n",
              "       660, 1400, 657, 3210, 2253, 1849, 656, 2259, 1994, 2559, 1686,\n",
              "       3179, 3206, 2177, 3165, 1399, 3696, 3300, 2499, 4293, 2500, 3968,\n",
              "       3969, 4969, 3444, 647, 4619, 4423, 4000, 2990, 3430, 4988, 1300,\n",
              "       2459, 1391, 4921, 4922, 1900, 4169, 1274, 2663, 3799, 1500, 1839,\n",
              "       3222, 1689, 6258, 2195, 2962, 3376, 2366, 2700, 2392, 1453, 1331,\n",
              "       2754, 3936, 2555, 1046, 3664, 3275, 4494, 5026, 5551, 4130, 2443,\n",
              "       1295, 5987, 3800, 2959, 2464, 1573, 1958, 1043, 3274, 2825, 2389,\n",
              "       2398, 1847, 1488, 2800, 2307, 2688, 1992, 4143, 1095, 1193, 2788,\n",
              "       1970, 2283, 1809, 5786, 2599, 2188, 2958, 1789, 1795, 2397, 989,\n",
              "       1715, 3153, 1868, 5600, 1242], dtype=object)"
            ]
          },
          "metadata": {},
          "execution_count": 20
        }
      ]
    },
    {
      "cell_type": "code",
      "source": [
        "#Удаляем 'LTR'\n",
        "result.engineDisplacement = result.engineDisplacement.apply(lambda x: x.replace(\" LTR\", \"0.0 LTR\") if x == \" LTR\" else x)\n",
        "result.engineDisplacement = result.engineDisplacement.apply(lambda x: float(x.replace(\"LTR\", \"\")) if isinstance(x, str) else x)\n",
        "#result.engineDisplacement.unique()"
      ],
      "metadata": {
        "id": "e7onjwxTnmHD"
      },
      "execution_count": 21,
      "outputs": []
    },
    {
      "cell_type": "markdown",
      "source": [
        "После этой операции сталкиваемся с тем что часть двигателей записаны как 2000. а другая часть как 2.0, хотя фактически значения объёма двигателя равнозначны. Для того чтобы исправить, опытным путём нашёл границу, ниже которого двигатели записанные как 2.0 а выше уже как 2000.\n",
        "Для того чтобы избежать этого в принципе, надо эту обработку проводить До объединения фреймов.\n",
        "\n",
        "'+ обращаем внимание что есть часть машин с объёмом двигателя == 0, но это электрокары."
      ],
      "metadata": {
        "id": "wkXsXaqmkRhE"
      }
    },
    {
      "cell_type": "code",
      "source": [
        "result.engineDisplacement = result.engineDisplacement.apply(lambda x: x*1000 if x <20 else x)"
      ],
      "metadata": {
        "id": "lcjtGGYJjwve"
      },
      "execution_count": 22,
      "outputs": []
    },
    {
      "cell_type": "markdown",
      "source": [
        "Теперь EnginePower"
      ],
      "metadata": {
        "id": "CCdyR8j3oD9g"
      }
    },
    {
      "cell_type": "code",
      "source": [
        "#Какие есть уникальные значения\n",
        "result.enginePower.unique"
      ],
      "metadata": {
        "id": "A-MUuihEoF3k",
        "colab": {
          "base_uri": "https://localhost:8080/"
        },
        "outputId": "2728931d-9771-47fc-c37b-264e8df6787d"
      },
      "execution_count": 23,
      "outputs": [
        {
          "output_type": "execute_result",
          "data": {
            "text/plain": [
              "<bound method Series.unique of 0        105 N12\n",
              "1        110 N12\n",
              "2        152 N12\n",
              "3        110 N12\n",
              "4        152 N12\n",
              "          ...   \n",
              "82679        272\n",
              "82680        150\n",
              "82681        275\n",
              "82682        238\n",
              "82683        276\n",
              "Name: enginePower, Length: 117370, dtype: object>"
            ]
          },
          "metadata": {},
          "execution_count": 23
        }
      ]
    },
    {
      "cell_type": "code",
      "source": [
        "#заменяем ' n12' на ничего\n",
        "result.enginePower = result.enginePower.apply(lambda x: float(x.replace(\" N12\", \"\")) if isinstance(x, str) else x)\n",
        "result.enginePower.unique()"
      ],
      "metadata": {
        "id": "A9JvTnezoMCZ",
        "colab": {
          "base_uri": "https://localhost:8080/"
        },
        "outputId": "bd60f529-f078-47c1-cf5b-7beb58c2c5cb"
      },
      "execution_count": 24,
      "outputs": [
        {
          "output_type": "execute_result",
          "data": {
            "text/plain": [
              "array([105., 110., 152., 200., 102., 150.,  90., 180., 220., 122.,  70.,\n",
              "       140., 125.,  54.,  86.,  75.,  64.,  95., 260., 170.,  80.,  68.,\n",
              "       160., 115., 280.,  53.,  60., 143.,  42., 101.,  58., 193.,  79.,\n",
              "        30., 100.,  50., 163., 225., 420., 211., 245., 560., 500., 249.,\n",
              "       450., 605., 250., 354., 120., 290., 230., 350., 204., 255., 340.,\n",
              "       177., 272., 372., 210., 130., 300., 190., 239., 435., 333., 271.,\n",
              "       326., 238., 310., 233., 252., 133., 460., 520., 400., 525., 367.,\n",
              "       265., 550., 580.,  88., 165., 430., 335., 174., 224., 136., 256.,\n",
              "       338., 112., 218., 360.,  93., 182., 113., 240., 270., 137., 155.,\n",
              "        61., 254., 116.,  71., 285., 408., 166., 156., 257., 201., 162.,\n",
              "       194., 142., 154., 147., 281., 243., 118., 128.,  91.,  83., 205.,\n",
              "       247., 188., 295., 275.,  78., 109.,  94., 185., 258., 145., 132.,\n",
              "       135.,  52.,  66., 124.,  98., 215., 158.,  99., 103., 131., 126.,\n",
              "       235., 181., 315., 203., 231.,  82., 304., 175., 320., 213., 144.,\n",
              "       146., 151., 111., 286., 306., 107., 184., 313., 264., 575., 407.,\n",
              "       192., 129., 555., 625., 329., 370., 381., 269., 600., 510., 544.,\n",
              "       462., 355., 507., 609., 431., 530., 387., 610., 197., 343., 445.,\n",
              "       171.,  51.,  46., 347., 321., 167., 141., 169., 405., 117., 114.,\n",
              "       173., 234., 540., 106.,  49., 248., 317., 309.,  97., 121., 268.,\n",
              "       149.,  87.,  85.,  65.,  67., 127., 485., 186., 222., 307., 262.,\n",
              "       302., 284., 325., 168., 221., 330., 283., 328., 303., 278., 388.,\n",
              "       571., 585., 612., 401., 279., 455., 382., 557., 517., 394., 422.,\n",
              "       292., 469., 522., 296., 639., 390., 476., 630., 402., 487., 558.,\n",
              "       421., 316., 514., 457., 626., 242.,  38.,  32., 223.,  72., 305.,\n",
              "       183., 273., 159.,  76., 148., 179.,  73., 277., 282., 178., 288.,\n",
              "       199., 266.,  92.,  74., 324., 232., 157.,  69., 212., 276., 202.,\n",
              "        77., 164.,  96.,  84., 228., 108., 208., 263., 294., 318., 380.,\n",
              "       219., 214., 383., 241.,  57.,  55., 104.,  48.,  40.,  44., 227.,\n",
              "       139., 209., 195., 189., 480., 591., 301., 374., 523., 635., 410.,\n",
              "       138., 700., 800., 237., 456., 489., 299., 503., 481., 274., 206.,\n",
              "       134., 236., 415., 385., 196., 226., 161., 477., 172., 423., 464.,\n",
              "       449., 314., 444., 176., 187., 646., 253.,  45., 364., 344.,  41.,\n",
              "        89., 843.])"
            ]
          },
          "metadata": {},
          "execution_count": 24
        }
      ]
    },
    {
      "cell_type": "markdown",
      "source": [
        "Смотрим на красивые данные и идём дальше"
      ],
      "metadata": {
        "id": "I8C0un9gorsr"
      }
    },
    {
      "cell_type": "code",
      "source": [
        "result.head()"
      ],
      "metadata": {
        "id": "-9SlXoQPoWcI",
        "colab": {
          "base_uri": "https://localhost:8080/",
          "height": 270
        },
        "outputId": "7eae7981-274f-4dbc-b534-94b0b40154e3"
      },
      "execution_count": 25,
      "outputs": [
        {
          "output_type": "execute_result",
          "data": {
            "text/html": [
              "\n",
              "  <div id=\"df-1c595cbc-414f-4cfa-8c77-ca2288112265\">\n",
              "    <div class=\"colab-df-container\">\n",
              "      <div>\n",
              "<style scoped>\n",
              "    .dataframe tbody tr th:only-of-type {\n",
              "        vertical-align: middle;\n",
              "    }\n",
              "\n",
              "    .dataframe tbody tr th {\n",
              "        vertical-align: top;\n",
              "    }\n",
              "\n",
              "    .dataframe thead th {\n",
              "        text-align: right;\n",
              "    }\n",
              "</style>\n",
              "<table border=\"1\" class=\"dataframe\">\n",
              "  <thead>\n",
              "    <tr style=\"text-align: right;\">\n",
              "      <th></th>\n",
              "      <th>bodyType</th>\n",
              "      <th>brand</th>\n",
              "      <th>color</th>\n",
              "      <th>engineDisplacement</th>\n",
              "      <th>enginePower</th>\n",
              "      <th>fuelType</th>\n",
              "      <th>mileage</th>\n",
              "      <th>numberOfDoors</th>\n",
              "      <th>productionDate</th>\n",
              "      <th>sell_id</th>\n",
              "      <th>vehicleTransmission</th>\n",
              "      <th>vendor</th>\n",
              "      <th>owners</th>\n",
              "      <th>pts</th>\n",
              "      <th>gear_type</th>\n",
              "      <th>steering_wheel</th>\n",
              "      <th>price</th>\n",
              "    </tr>\n",
              "  </thead>\n",
              "  <tbody>\n",
              "    <tr>\n",
              "      <th>0</th>\n",
              "      <td>лифтбек</td>\n",
              "      <td>SKODA</td>\n",
              "      <td>blue</td>\n",
              "      <td>1200.0</td>\n",
              "      <td>105.0</td>\n",
              "      <td>GASOLINE</td>\n",
              "      <td>74000</td>\n",
              "      <td>5</td>\n",
              "      <td>2014</td>\n",
              "      <td>1100575026</td>\n",
              "      <td>ROBOT</td>\n",
              "      <td>EUROPEAN</td>\n",
              "      <td>3</td>\n",
              "      <td>1.0</td>\n",
              "      <td>FORWARD_CONTROL</td>\n",
              "      <td>LEFT</td>\n",
              "      <td>0</td>\n",
              "    </tr>\n",
              "    <tr>\n",
              "      <th>1</th>\n",
              "      <td>лифтбек</td>\n",
              "      <td>SKODA</td>\n",
              "      <td>black</td>\n",
              "      <td>1600.0</td>\n",
              "      <td>110.0</td>\n",
              "      <td>GASOLINE</td>\n",
              "      <td>60563</td>\n",
              "      <td>5</td>\n",
              "      <td>2017</td>\n",
              "      <td>1100549428</td>\n",
              "      <td>MECHANICAL</td>\n",
              "      <td>EUROPEAN</td>\n",
              "      <td>1</td>\n",
              "      <td>1.0</td>\n",
              "      <td>FORWARD_CONTROL</td>\n",
              "      <td>LEFT</td>\n",
              "      <td>0</td>\n",
              "    </tr>\n",
              "    <tr>\n",
              "      <th>2</th>\n",
              "      <td>лифтбек</td>\n",
              "      <td>SKODA</td>\n",
              "      <td>gray</td>\n",
              "      <td>1800.0</td>\n",
              "      <td>152.0</td>\n",
              "      <td>GASOLINE</td>\n",
              "      <td>88000</td>\n",
              "      <td>5</td>\n",
              "      <td>2014</td>\n",
              "      <td>1100658222</td>\n",
              "      <td>ROBOT</td>\n",
              "      <td>EUROPEAN</td>\n",
              "      <td>1</td>\n",
              "      <td>1.0</td>\n",
              "      <td>FORWARD_CONTROL</td>\n",
              "      <td>LEFT</td>\n",
              "      <td>0</td>\n",
              "    </tr>\n",
              "    <tr>\n",
              "      <th>3</th>\n",
              "      <td>лифтбек</td>\n",
              "      <td>SKODA</td>\n",
              "      <td>brown</td>\n",
              "      <td>1600.0</td>\n",
              "      <td>110.0</td>\n",
              "      <td>GASOLINE</td>\n",
              "      <td>95000</td>\n",
              "      <td>5</td>\n",
              "      <td>2014</td>\n",
              "      <td>1100937408</td>\n",
              "      <td>AUTOMATIC</td>\n",
              "      <td>EUROPEAN</td>\n",
              "      <td>1</td>\n",
              "      <td>1.0</td>\n",
              "      <td>FORWARD_CONTROL</td>\n",
              "      <td>LEFT</td>\n",
              "      <td>0</td>\n",
              "    </tr>\n",
              "    <tr>\n",
              "      <th>4</th>\n",
              "      <td>лифтбек</td>\n",
              "      <td>SKODA</td>\n",
              "      <td>white</td>\n",
              "      <td>1800.0</td>\n",
              "      <td>152.0</td>\n",
              "      <td>GASOLINE</td>\n",
              "      <td>58536</td>\n",
              "      <td>5</td>\n",
              "      <td>2012</td>\n",
              "      <td>1101037972</td>\n",
              "      <td>AUTOMATIC</td>\n",
              "      <td>EUROPEAN</td>\n",
              "      <td>1</td>\n",
              "      <td>1.0</td>\n",
              "      <td>FORWARD_CONTROL</td>\n",
              "      <td>LEFT</td>\n",
              "      <td>0</td>\n",
              "    </tr>\n",
              "  </tbody>\n",
              "</table>\n",
              "</div>\n",
              "      <button class=\"colab-df-convert\" onclick=\"convertToInteractive('df-1c595cbc-414f-4cfa-8c77-ca2288112265')\"\n",
              "              title=\"Convert this dataframe to an interactive table.\"\n",
              "              style=\"display:none;\">\n",
              "        \n",
              "  <svg xmlns=\"http://www.w3.org/2000/svg\" height=\"24px\"viewBox=\"0 0 24 24\"\n",
              "       width=\"24px\">\n",
              "    <path d=\"M0 0h24v24H0V0z\" fill=\"none\"/>\n",
              "    <path d=\"M18.56 5.44l.94 2.06.94-2.06 2.06-.94-2.06-.94-.94-2.06-.94 2.06-2.06.94zm-11 1L8.5 8.5l.94-2.06 2.06-.94-2.06-.94L8.5 2.5l-.94 2.06-2.06.94zm10 10l.94 2.06.94-2.06 2.06-.94-2.06-.94-.94-2.06-.94 2.06-2.06.94z\"/><path d=\"M17.41 7.96l-1.37-1.37c-.4-.4-.92-.59-1.43-.59-.52 0-1.04.2-1.43.59L10.3 9.45l-7.72 7.72c-.78.78-.78 2.05 0 2.83L4 21.41c.39.39.9.59 1.41.59.51 0 1.02-.2 1.41-.59l7.78-7.78 2.81-2.81c.8-.78.8-2.07 0-2.86zM5.41 20L4 18.59l7.72-7.72 1.47 1.35L5.41 20z\"/>\n",
              "  </svg>\n",
              "      </button>\n",
              "      \n",
              "  <style>\n",
              "    .colab-df-container {\n",
              "      display:flex;\n",
              "      flex-wrap:wrap;\n",
              "      gap: 12px;\n",
              "    }\n",
              "\n",
              "    .colab-df-convert {\n",
              "      background-color: #E8F0FE;\n",
              "      border: none;\n",
              "      border-radius: 50%;\n",
              "      cursor: pointer;\n",
              "      display: none;\n",
              "      fill: #1967D2;\n",
              "      height: 32px;\n",
              "      padding: 0 0 0 0;\n",
              "      width: 32px;\n",
              "    }\n",
              "\n",
              "    .colab-df-convert:hover {\n",
              "      background-color: #E2EBFA;\n",
              "      box-shadow: 0px 1px 2px rgba(60, 64, 67, 0.3), 0px 1px 3px 1px rgba(60, 64, 67, 0.15);\n",
              "      fill: #174EA6;\n",
              "    }\n",
              "\n",
              "    [theme=dark] .colab-df-convert {\n",
              "      background-color: #3B4455;\n",
              "      fill: #D2E3FC;\n",
              "    }\n",
              "\n",
              "    [theme=dark] .colab-df-convert:hover {\n",
              "      background-color: #434B5C;\n",
              "      box-shadow: 0px 1px 3px 1px rgba(0, 0, 0, 0.15);\n",
              "      filter: drop-shadow(0px 1px 2px rgba(0, 0, 0, 0.3));\n",
              "      fill: #FFFFFF;\n",
              "    }\n",
              "  </style>\n",
              "\n",
              "      <script>\n",
              "        const buttonEl =\n",
              "          document.querySelector('#df-1c595cbc-414f-4cfa-8c77-ca2288112265 button.colab-df-convert');\n",
              "        buttonEl.style.display =\n",
              "          google.colab.kernel.accessAllowed ? 'block' : 'none';\n",
              "\n",
              "        async function convertToInteractive(key) {\n",
              "          const element = document.querySelector('#df-1c595cbc-414f-4cfa-8c77-ca2288112265');\n",
              "          const dataTable =\n",
              "            await google.colab.kernel.invokeFunction('convertToInteractive',\n",
              "                                                     [key], {});\n",
              "          if (!dataTable) return;\n",
              "\n",
              "          const docLinkHtml = 'Like what you see? Visit the ' +\n",
              "            '<a target=\"_blank\" href=https://colab.research.google.com/notebooks/data_table.ipynb>data table notebook</a>'\n",
              "            + ' to learn more about interactive tables.';\n",
              "          element.innerHTML = '';\n",
              "          dataTable['output_type'] = 'display_data';\n",
              "          await google.colab.output.renderOutput(dataTable, element);\n",
              "          const docLink = document.createElement('div');\n",
              "          docLink.innerHTML = docLinkHtml;\n",
              "          element.appendChild(docLink);\n",
              "        }\n",
              "      </script>\n",
              "    </div>\n",
              "  </div>\n",
              "  "
            ],
            "text/plain": [
              "  bodyType  brand  color  ...        gear_type  steering_wheel price\n",
              "0  лифтбек  SKODA   blue  ...  FORWARD_CONTROL            LEFT     0\n",
              "1  лифтбек  SKODA  black  ...  FORWARD_CONTROL            LEFT     0\n",
              "2  лифтбек  SKODA   gray  ...  FORWARD_CONTROL            LEFT     0\n",
              "3  лифтбек  SKODA  brown  ...  FORWARD_CONTROL            LEFT     0\n",
              "4  лифтбек  SKODA  white  ...  FORWARD_CONTROL            LEFT     0\n",
              "\n",
              "[5 rows x 17 columns]"
            ]
          },
          "metadata": {},
          "execution_count": 25
        }
      ]
    },
    {
      "cell_type": "markdown",
      "source": [
        "### Проверка на выбросы"
      ],
      "metadata": {
        "id": "reSh47Q9rXsy"
      }
    },
    {
      "cell_type": "code",
      "source": [
        "boxes = result[['engineDisplacement']]\n",
        "ax = sns.boxplot(data=boxes)"
      ],
      "metadata": {
        "id": "DiV7s-tXra6P",
        "colab": {
          "base_uri": "https://localhost:8080/",
          "height": 265
        },
        "outputId": "40873544-3263-4a75-9036-0e532b7e457f"
      },
      "execution_count": 26,
      "outputs": [
        {
          "output_type": "display_data",
          "data": {
            "image/png": "[encoded data removed]",
            "text/plain": [
              "<Figure size 432x288 with 1 Axes>"
            ]
          },
          "metadata": {
            "needs_background": "light"
          }
        }
      ]
    },
    {
      "cell_type": "markdown",
      "source": [
        "Да, двигатель может быть объёмом 0 для электричек, так и 6+ для монстров-джипов. Радует что средний объём двигателя 2.0"
      ],
      "metadata": {
        "id": "TGtIDcvVo8ra"
      }
    },
    {
      "cell_type": "code",
      "source": [
        "boxes = result[['enginePower']]\n",
        "ax = sns.boxplot(data=boxes)"
      ],
      "metadata": {
        "id": "CH-8dRj1uiHq",
        "colab": {
          "base_uri": "https://localhost:8080/",
          "height": 265
        },
        "outputId": "76d00088-f3ff-4dde-da8d-e3de14d6e729"
      },
      "execution_count": 27,
      "outputs": [
        {
          "output_type": "display_data",
          "data": {
            "image/png": "[encoded data removed]",
            "text/plain": [
              "<Figure size 432x288 with 1 Axes>"
            ]
          },
          "metadata": {
            "needs_background": "light"
          }
        }
      ]
    },
    {
      "cell_type": "markdown",
      "source": [
        "Да, есть машины с мощностью более 600лс. И всё это \"немецкая тройка\", но выделяется мерседес, где ЛС доходят до 800 с \"геликами\"."
      ],
      "metadata": {
        "id": "nGHSEo0hpxdE"
      }
    },
    {
      "cell_type": "code",
      "source": [
        "boxes = result[['mileage']]\n",
        "ax = sns.boxplot(data=boxes)"
      ],
      "metadata": {
        "id": "Q8S98QU3unpC",
        "colab": {
          "base_uri": "https://localhost:8080/",
          "height": 276
        },
        "outputId": "9fb20249-dbd6-4e91-d7e7-f1bc68927f55"
      },
      "execution_count": 28,
      "outputs": [
        {
          "output_type": "display_data",
          "data": {
            "image/png": "[encoded data removed]",
            "text/plain": [
              "<Figure size 432x288 with 1 Axes>"
            ]
          },
          "metadata": {
            "needs_background": "light"
          }
        }
      ]
    },
    {
      "cell_type": "markdown",
      "source": [
        "330 машин с пробегом более 500 000 киллометров, часть из них в тестовом датасете, поэтому оставляем без изменений."
      ],
      "metadata": {
        "id": "mG3okXdVsIsu"
      }
    },
    {
      "cell_type": "code",
      "source": [
        "boxes = result[['productionDate']]\n",
        "ax = sns.boxplot(data=boxes)"
      ],
      "metadata": {
        "id": "DvAus6YiupJP",
        "colab": {
          "base_uri": "https://localhost:8080/",
          "height": 265
        },
        "outputId": "7f09bcf1-197a-49a7-870f-bbc7e5a6992f"
      },
      "execution_count": 29,
      "outputs": [
        {
          "output_type": "display_data",
          "data": {
            "image/png": "[encoded data removed]",
            "text/plain": [
              "<Figure size 432x288 with 1 Axes>"
            ]
          },
          "metadata": {
            "needs_background": "light"
          }
        }
      ]
    },
    {
      "cell_type": "markdown",
      "source": [
        "В тестовом датасете есть много машин старше 1970 года. Удивляет две машины:\n",
        "+ мерседес 1936 года с одиним владельцем и 1км пробега\n",
        "+ кабриолет мерседес 1904 года с 48 000 пробега\n",
        "Да, антиквариат продают, имеет место быть."
      ],
      "metadata": {
        "id": "qNPGGSGrtoLR"
      }
    },
    {
      "cell_type": "code",
      "source": [
        "boxes = result[['numberOfDoors']]\n",
        "ax = sns.boxplot(data=boxes)"
      ],
      "metadata": {
        "id": "IhrnwZOBudul",
        "colab": {
          "base_uri": "https://localhost:8080/",
          "height": 265
        },
        "outputId": "e5bbcfd5-fb60-4049-f091-deddcdfbef90"
      },
      "execution_count": 30,
      "outputs": [
        {
          "output_type": "display_data",
          "data": {
            "image/png": "[encoded data removed]",
            "text/plain": [
              "<Figure size 432x288 with 1 Axes>"
            ]
          },
          "metadata": {
            "needs_background": "light"
          }
        }
      ]
    },
    {
      "cell_type": "markdown",
      "source": [
        "Машина с одной дверью это как раз мерседес 1904 года выпуска. Учитывая что это машина выпущенная ещё до Ford Model T, то примем за правду только одну дверь."
      ],
      "metadata": {
        "id": "DujpvR9nudZe"
      }
    },
    {
      "cell_type": "markdown",
      "source": [
        "### Убираем лишние значения для категориальных колонок. И проверяем значения.\n",
        "\n",
        "BodyType"
      ],
      "metadata": {
        "id": "1HivVTlrpk8l"
      }
    },
    {
      "cell_type": "code",
      "source": [
        "result.bodyType.value_counts()"
      ],
      "metadata": {
        "id": "hjxLUaKKpWan",
        "colab": {
          "base_uri": "https://localhost:8080/"
        },
        "outputId": "0e705560-132b-4df7-c6e5-a6f9e50e2127"
      },
      "execution_count": 31,
      "outputs": [
        {
          "output_type": "execute_result",
          "data": {
            "text/plain": [
              "внедорожник      55660\n",
              "седан            35392\n",
              "лифтбек           8323\n",
              "хэтчбек           6960\n",
              "универсал         3435\n",
              "минивэн           2370\n",
              "купе              1882\n",
              "компактвэн        1638\n",
              "пикап              779\n",
              "купе-хардтоп       261\n",
              "кабриолет          231\n",
              "фургон             177\n",
              "родстер            160\n",
              "микровэн            62\n",
              "седан-хардтоп       29\n",
              "лимузин              8\n",
              "тарга                2\n",
              "фастбек              1\n",
              "Name: bodyType, dtype: int64"
            ]
          },
          "metadata": {},
          "execution_count": 31
        }
      ]
    },
    {
      "cell_type": "markdown",
      "source": [
        "Множество кузовов, оставим 75% от всех значений, остальное будет Другим"
      ],
      "metadata": {
        "id": "_bXqQ2x0pv7e"
      }
    },
    {
      "cell_type": "code",
      "source": [
        "bodyTypeCnt = result['bodyType'].value_counts() #получаем кол-во кузово\n",
        "allBodyType = result['bodyType'].value_counts() #непосредственно список кузово\n",
        "percentile = (int(np.percentile(bodyTypeCnt, 75))) #75й персентиль\n",
        "topBodyType = list(allBodyType[allBodyType>percentile].index) # оставляем в массиве только нужные нам формы\n",
        "\n",
        "result['bodyType'] = result['bodyType'].apply(lambda x: x if x in topBodyType else 'other') #непосредственно меняем значения в DF"
      ],
      "metadata": {
        "id": "qaiq4HMfpvgC"
      },
      "execution_count": 32,
      "outputs": []
    },
    {
      "cell_type": "markdown",
      "source": [
        "Смотрим что получилось в разрезе типа кузова и цены"
      ],
      "metadata": {
        "id": "0h3kQYPalebb"
      }
    },
    {
      "cell_type": "code",
      "source": [
        "get_box_plot('bodyType')"
      ],
      "metadata": {
        "id": "6Mb4kr2O7_AP",
        "colab": {
          "base_uri": "https://localhost:8080/",
          "height": 527
        },
        "outputId": "2d8dd505-66fd-49df-adfd-c9262398d095"
      },
      "execution_count": 33,
      "outputs": [
        {
          "output_type": "display_data",
          "data": {
            "image/png": "[encoded data removed]",
            "text/plain": [
              "<Figure size 2160x720 with 1 Axes>"
            ]
          },
          "metadata": {
            "needs_background": "light"
          }
        }
      ]
    },
    {
      "cell_type": "markdown",
      "source": [
        "Внедорожники и седаны ценят больше чем хэтчи, среди седанов есть самые дорогие модели.\n",
        "\n",
        "Теперь цвета"
      ],
      "metadata": {
        "id": "QoebcVD9qu8o"
      }
    },
    {
      "cell_type": "code",
      "source": [
        "result.color.value_counts()"
      ],
      "metadata": {
        "id": "tqgpCcs8q2cr",
        "colab": {
          "base_uri": "https://localhost:8080/"
        },
        "outputId": "fbaa343d-1ba6-4683-ef68-5b4d745ae397"
      },
      "execution_count": 34,
      "outputs": [
        {
          "output_type": "execute_result",
          "data": {
            "text/plain": [
              "black         33617\n",
              "white         25755\n",
              "gray          16251\n",
              "silver        11426\n",
              "blue          10925\n",
              "red            5381\n",
              "brown          5220\n",
              "green          2706\n",
              "beige          2073\n",
              "light blue     1123\n",
              "purple          674\n",
              "gold            673\n",
              "violet          570\n",
              "orange          503\n",
              "yellow          436\n",
              "pink             37\n",
              "Name: color, dtype: int64"
            ]
          },
          "metadata": {},
          "execution_count": 34
        }
      ]
    },
    {
      "cell_type": "code",
      "source": [
        "ColorCnt = result['color'].value_counts() #получаем кол-во цветов\n",
        "allColors = result['color'].value_counts() #непосредственно список цветов\n",
        "percentile = (int(np.percentile(ColorCnt, 55))) #55й персентиль\n",
        "topcolor = list(allColors[allColors>percentile].index) # оставляем в массиве только нужные нам цвета\n",
        "\n",
        "result['color'] = result['color'].apply(lambda x: x if x in topcolor else 'other') #непосредственно меняем значения в DF"
      ],
      "metadata": {
        "id": "0YxLdNBQq7pL"
      },
      "execution_count": 35,
      "outputs": []
    },
    {
      "cell_type": "code",
      "source": [
        "get_box_plot('color')"
      ],
      "metadata": {
        "id": "U3_HGJHD8ajM",
        "colab": {
          "base_uri": "https://localhost:8080/",
          "height": 527
        },
        "outputId": "89a09192-4720-466c-d878-b0f2d94473f8"
      },
      "execution_count": 36,
      "outputs": [
        {
          "output_type": "display_data",
          "data": {
            "image/png": "[encoded data removed]",
            "text/plain": [
              "<Figure size 2160x720 with 1 Axes>"
            ]
          },
          "metadata": {}
        }
      ]
    },
    {
      "cell_type": "markdown",
      "source": [
        "---\n",
        "\n",
        "\n",
        "### Теперь посмотрим что по корреляции"
      ],
      "metadata": {
        "id": "zsp-Bx1hYUvd"
      }
    },
    {
      "cell_type": "code",
      "source": [
        "#let see our correlations\n",
        "fig, ax = plt.subplots(1,1, figsize = (10,10))\n",
        "ax = sns.heatmap(result.corr(),annot = True, cmap = 'plasma')"
      ],
      "metadata": {
        "id": "5Io7QPvTwL9O",
        "colab": {
          "base_uri": "https://localhost:8080/",
          "height": 688
        },
        "outputId": "d779ad4c-4ea8-40e9-dd57-765dfacc2502"
      },
      "execution_count": 37,
      "outputs": [
        {
          "output_type": "display_data",
          "data": {
            "image/png": "[encoded data removed]",
            "text/plain": [
              "<Figure size 720x720 with 2 Axes>"
            ]
          },
          "metadata": {}
        }
      ]
    },
    {
      "cell_type": "markdown",
      "source": [
        "Выходит что на цену влияет почти все числовые колонки. Только кол-во дверей не значительно(можно сказать что нет). Остальное очевидные признаки.\n",
        "\n",
        "Из интересного, пробег больше чем больше владельцев, думаю что связь тут пробег-дата выпуска-кол-во владельцев."
      ],
      "metadata": {
        "id": "GEfryadXw0Tq"
      }
    },
    {
      "cell_type": "markdown",
      "source": [
        "### Сформируем dummy-переменные."
      ],
      "metadata": {
        "id": "lSO4c5FNYUdE"
      }
    },
    {
      "cell_type": "code",
      "source": [
        "result = pd.get_dummies(data=result, columns=['color', 'vehicleTransmission', \n",
        "                                              'steering_wheel', 'bodyType', \n",
        "                                              'fuelType', 'gear_type',\n",
        "                                              'vendor', 'brand'])"
      ],
      "metadata": {
        "id": "fhh1xsVnzQRv"
      },
      "execution_count": 38,
      "outputs": []
    },
    {
      "cell_type": "code",
      "source": [
        "result.head(1)"
      ],
      "metadata": {
        "id": "65vlnFJo17jV",
        "colab": {
          "base_uri": "https://localhost:8080/",
          "height": 145
        },
        "outputId": "d61e0d72-bec7-49b0-a657-833a82ecc944"
      },
      "execution_count": 39,
      "outputs": [
        {
          "output_type": "execute_result",
          "data": {
            "text/html": [
              "\n",
              "  <div id=\"df-d983f77b-94b0-430f-8483-b21c711ce9ce\">\n",
              "    <div class=\"colab-df-container\">\n",
              "      <div>\n",
              "<style scoped>\n",
              "    .dataframe tbody tr th:only-of-type {\n",
              "        vertical-align: middle;\n",
              "    }\n",
              "\n",
              "    .dataframe tbody tr th {\n",
              "        vertical-align: top;\n",
              "    }\n",
              "\n",
              "    .dataframe thead th {\n",
              "        text-align: right;\n",
              "    }\n",
              "</style>\n",
              "<table border=\"1\" class=\"dataframe\">\n",
              "  <thead>\n",
              "    <tr style=\"text-align: right;\">\n",
              "      <th></th>\n",
              "      <th>engineDisplacement</th>\n",
              "      <th>enginePower</th>\n",
              "      <th>mileage</th>\n",
              "      <th>numberOfDoors</th>\n",
              "      <th>productionDate</th>\n",
              "      <th>sell_id</th>\n",
              "      <th>owners</th>\n",
              "      <th>pts</th>\n",
              "      <th>price</th>\n",
              "      <th>color_black</th>\n",
              "      <th>color_blue</th>\n",
              "      <th>color_brown</th>\n",
              "      <th>color_gray</th>\n",
              "      <th>color_other</th>\n",
              "      <th>color_red</th>\n",
              "      <th>color_silver</th>\n",
              "      <th>color_white</th>\n",
              "      <th>vehicleTransmission_AUTOMATIC</th>\n",
              "      <th>vehicleTransmission_MECHANICAL</th>\n",
              "      <th>vehicleTransmission_ROBOT</th>\n",
              "      <th>vehicleTransmission_VARIATOR</th>\n",
              "      <th>steering_wheel_LEFT</th>\n",
              "      <th>steering_wheel_RIGHT</th>\n",
              "      <th>bodyType_other</th>\n",
              "      <th>bodyType_внедорожник</th>\n",
              "      <th>bodyType_лифтбек</th>\n",
              "      <th>bodyType_седан</th>\n",
              "      <th>bodyType_универсал</th>\n",
              "      <th>bodyType_хэтчбек</th>\n",
              "      <th>fuelType_DIESEL</th>\n",
              "      <th>fuelType_ELECTRO</th>\n",
              "      <th>fuelType_GASOLINE</th>\n",
              "      <th>fuelType_HYBRID</th>\n",
              "      <th>fuelType_LPG</th>\n",
              "      <th>gear_type_ALL_WHEEL_DRIVE</th>\n",
              "      <th>gear_type_FORWARD_CONTROL</th>\n",
              "      <th>gear_type_REAR_DRIVE</th>\n",
              "      <th>vendor_AMERICAN</th>\n",
              "      <th>vendor_EUROPEAN</th>\n",
              "      <th>vendor_JAPANESE</th>\n",
              "      <th>brand_AUDI</th>\n",
              "      <th>brand_BMW</th>\n",
              "      <th>brand_HONDA</th>\n",
              "      <th>brand_INFINITI</th>\n",
              "      <th>brand_LEXUS</th>\n",
              "      <th>brand_MERCEDES</th>\n",
              "      <th>brand_MITSUBISHI</th>\n",
              "      <th>brand_NISSAN</th>\n",
              "      <th>brand_SKODA</th>\n",
              "      <th>brand_TOYOTA</th>\n",
              "      <th>brand_VOLKSWAGEN</th>\n",
              "      <th>brand_VOLVO</th>\n",
              "    </tr>\n",
              "  </thead>\n",
              "  <tbody>\n",
              "    <tr>\n",
              "      <th>0</th>\n",
              "      <td>1200.0</td>\n",
              "      <td>105.0</td>\n",
              "      <td>74000</td>\n",
              "      <td>5</td>\n",
              "      <td>2014</td>\n",
              "      <td>1100575026</td>\n",
              "      <td>3</td>\n",
              "      <td>1.0</td>\n",
              "      <td>0</td>\n",
              "      <td>0</td>\n",
              "      <td>1</td>\n",
              "      <td>0</td>\n",
              "      <td>0</td>\n",
              "      <td>0</td>\n",
              "      <td>0</td>\n",
              "      <td>0</td>\n",
              "      <td>0</td>\n",
              "      <td>0</td>\n",
              "      <td>0</td>\n",
              "      <td>1</td>\n",
              "      <td>0</td>\n",
              "      <td>1</td>\n",
              "      <td>0</td>\n",
              "      <td>0</td>\n",
              "      <td>0</td>\n",
              "      <td>1</td>\n",
              "      <td>0</td>\n",
              "      <td>0</td>\n",
              "      <td>0</td>\n",
              "      <td>0</td>\n",
              "      <td>0</td>\n",
              "      <td>1</td>\n",
              "      <td>0</td>\n",
              "      <td>0</td>\n",
              "      <td>0</td>\n",
              "      <td>1</td>\n",
              "      <td>0</td>\n",
              "      <td>0</td>\n",
              "      <td>1</td>\n",
              "      <td>0</td>\n",
              "      <td>0</td>\n",
              "      <td>0</td>\n",
              "      <td>0</td>\n",
              "      <td>0</td>\n",
              "      <td>0</td>\n",
              "      <td>0</td>\n",
              "      <td>0</td>\n",
              "      <td>0</td>\n",
              "      <td>1</td>\n",
              "      <td>0</td>\n",
              "      <td>0</td>\n",
              "      <td>0</td>\n",
              "    </tr>\n",
              "  </tbody>\n",
              "</table>\n",
              "</div>\n",
              "      <button class=\"colab-df-convert\" onclick=\"convertToInteractive('df-d983f77b-94b0-430f-8483-b21c711ce9ce')\"\n",
              "              title=\"Convert this dataframe to an interactive table.\"\n",
              "              style=\"display:none;\">\n",
              "        \n",
              "  <svg xmlns=\"http://www.w3.org/2000/svg\" height=\"24px\"viewBox=\"0 0 24 24\"\n",
              "       width=\"24px\">\n",
              "    <path d=\"M0 0h24v24H0V0z\" fill=\"none\"/>\n",
              "    <path d=\"M18.56 5.44l.94 2.06.94-2.06 2.06-.94-2.06-.94-.94-2.06-.94 2.06-2.06.94zm-11 1L8.5 8.5l.94-2.06 2.06-.94-2.06-.94L8.5 2.5l-.94 2.06-2.06.94zm10 10l.94 2.06.94-2.06 2.06-.94-2.06-.94-.94-2.06-.94 2.06-2.06.94z\"/><path d=\"M17.41 7.96l-1.37-1.37c-.4-.4-.92-.59-1.43-.59-.52 0-1.04.2-1.43.59L10.3 9.45l-7.72 7.72c-.78.78-.78 2.05 0 2.83L4 21.41c.39.39.9.59 1.41.59.51 0 1.02-.2 1.41-.59l7.78-7.78 2.81-2.81c.8-.78.8-2.07 0-2.86zM5.41 20L4 18.59l7.72-7.72 1.47 1.35L5.41 20z\"/>\n",
              "  </svg>\n",
              "      </button>\n",
              "      \n",
              "  <style>\n",
              "    .colab-df-container {\n",
              "      display:flex;\n",
              "      flex-wrap:wrap;\n",
              "      gap: 12px;\n",
              "    }\n",
              "\n",
              "    .colab-df-convert {\n",
              "      background-color: #E8F0FE;\n",
              "      border: none;\n",
              "      border-radius: 50%;\n",
              "      cursor: pointer;\n",
              "      display: none;\n",
              "      fill: #1967D2;\n",
              "      height: 32px;\n",
              "      padding: 0 0 0 0;\n",
              "      width: 32px;\n",
              "    }\n",
              "\n",
              "    .colab-df-convert:hover {\n",
              "      background-color: #E2EBFA;\n",
              "      box-shadow: 0px 1px 2px rgba(60, 64, 67, 0.3), 0px 1px 3px 1px rgba(60, 64, 67, 0.15);\n",
              "      fill: #174EA6;\n",
              "    }\n",
              "\n",
              "    [theme=dark] .colab-df-convert {\n",
              "      background-color: #3B4455;\n",
              "      fill: #D2E3FC;\n",
              "    }\n",
              "\n",
              "    [theme=dark] .colab-df-convert:hover {\n",
              "      background-color: #434B5C;\n",
              "      box-shadow: 0px 1px 3px 1px rgba(0, 0, 0, 0.15);\n",
              "      filter: drop-shadow(0px 1px 2px rgba(0, 0, 0, 0.3));\n",
              "      fill: #FFFFFF;\n",
              "    }\n",
              "  </style>\n",
              "\n",
              "      <script>\n",
              "        const buttonEl =\n",
              "          document.querySelector('#df-d983f77b-94b0-430f-8483-b21c711ce9ce button.colab-df-convert');\n",
              "        buttonEl.style.display =\n",
              "          google.colab.kernel.accessAllowed ? 'block' : 'none';\n",
              "\n",
              "        async function convertToInteractive(key) {\n",
              "          const element = document.querySelector('#df-d983f77b-94b0-430f-8483-b21c711ce9ce');\n",
              "          const dataTable =\n",
              "            await google.colab.kernel.invokeFunction('convertToInteractive',\n",
              "                                                     [key], {});\n",
              "          if (!dataTable) return;\n",
              "\n",
              "          const docLinkHtml = 'Like what you see? Visit the ' +\n",
              "            '<a target=\"_blank\" href=https://colab.research.google.com/notebooks/data_table.ipynb>data table notebook</a>'\n",
              "            + ' to learn more about interactive tables.';\n",
              "          element.innerHTML = '';\n",
              "          dataTable['output_type'] = 'display_data';\n",
              "          await google.colab.output.renderOutput(dataTable, element);\n",
              "          const docLink = document.createElement('div');\n",
              "          docLink.innerHTML = docLinkHtml;\n",
              "          element.appendChild(docLink);\n",
              "        }\n",
              "      </script>\n",
              "    </div>\n",
              "  </div>\n",
              "  "
            ],
            "text/plain": [
              "   engineDisplacement  enginePower  ...  brand_VOLKSWAGEN  brand_VOLVO\n",
              "0              1200.0        105.0  ...                 0            0\n",
              "\n",
              "[1 rows x 52 columns]"
            ]
          },
          "metadata": {},
          "execution_count": 39
        }
      ]
    },
    {
      "cell_type": "markdown",
      "source": [
        "После всего посмотрим на корреляцию к цене уже в текстовом виде"
      ],
      "metadata": {
        "id": "JVQdQxPrm1c6"
      }
    },
    {
      "cell_type": "code",
      "source": [
        "s = result.corr().abs().unstack()\n",
        "s.price.sort_values(ascending=False).head(12)\n"
      ],
      "metadata": {
        "id": "RyH_jVIJm7N5",
        "colab": {
          "base_uri": "https://localhost:8080/"
        },
        "outputId": "2dc8a6d1-ecb5-496d-bbfb-2b64265680f9"
      },
      "execution_count": 40,
      "outputs": [
        {
          "output_type": "execute_result",
          "data": {
            "text/plain": [
              "price                             1.000000\n",
              "productionDate                    0.507293\n",
              "mileage                           0.477625\n",
              "enginePower                       0.453216\n",
              "owners                            0.451587\n",
              "gear_type_ALL_WHEEL_DRIVE         0.324315\n",
              "gear_type_FORWARD_CONTROL         0.289347\n",
              "bodyType_внедорожник              0.269534\n",
              "brand_MERCEDES                    0.214951\n",
              "vehicleTransmission_MECHANICAL    0.208581\n",
              "vehicleTransmission_AUTOMATIC     0.205393\n",
              "engineDisplacement                0.192486\n",
              "dtype: float64"
            ]
          },
          "metadata": {},
          "execution_count": 40
        }
      ]
    },
    {
      "cell_type": "markdown",
      "source": [
        "Итого, самая дорогая машина это- свежий полноприводный внедорожник мерседес с мощным двигателем на механике. \n",
        "\n",
        "Нормализируем данные и будем приступать"
      ],
      "metadata": {
        "id": "u1DBh9Y1qQDN"
      }
    },
    {
      "cell_type": "code",
      "source": [
        "num_cols = ['engineDisplacement','enginePower','mileage','productionDate']\n",
        "scaler = MinMaxScaler()\n",
        "result[num_cols] = scaler.fit_transform(result[num_cols].values)"
      ],
      "metadata": {
        "id": "D_djseB3zXXY"
      },
      "execution_count": 41,
      "outputs": []
    },
    {
      "cell_type": "markdown",
      "source": [
        "##Feature Engineering? \n",
        "*пока не делаем.*"
      ],
      "metadata": {
        "id": "WYT6BMkUwvNw"
      }
    },
    {
      "cell_type": "markdown",
      "source": [
        "## Начнём строить модели.\n",
        "\n",
        "Создадим выборки для обучения."
      ],
      "metadata": {
        "id": "O2nnH2Clws6V"
      }
    },
    {
      "cell_type": "code",
      "source": [
        "train = result[result['price']>0]\n",
        "train['price'] = train['price']*0.65\n",
        "\n",
        "y = train[['price']].copy() #'sell_id', \n",
        "X = train.drop(['price', 'sell_id'], axis=1)\n",
        "\n",
        "X_train, X_test, y_train, y_test = train_test_split(X, y, test_size=0.2, random_state=42,shuffle=False)"
      ],
      "metadata": {
        "id": "54k_udDewsaD",
        "colab": {
          "base_uri": "https://localhost:8080/"
        },
        "outputId": "d14f5fd1-0423-44f0-8bac-e8da4c96e05d"
      },
      "execution_count": 42,
      "outputs": [
        {
          "output_type": "stream",
          "name": "stderr",
          "text": [
            "/usr/local/lib/python3.7/dist-packages/ipykernel_launcher.py:2: SettingWithCopyWarning: \n",
            "A value is trying to be set on a copy of a slice from a DataFrame.\n",
            "Try using .loc[row_indexer,col_indexer] = value instead\n",
            "\n",
            "See the caveats in the documentation: https://pandas.pydata.org/pandas-docs/stable/user_guide/indexing.html#returning-a-view-versus-a-copy\n",
            "  \n"
          ]
        }
      ]
    },
    {
      "cell_type": "markdown",
      "source": [
        "Проверяем что всё верно"
      ],
      "metadata": {
        "id": "qGCNryrf8KDV"
      }
    },
    {
      "cell_type": "code",
      "source": [
        "X_train.shape, X_test.shape, y_train.shape, y_test.shape"
      ],
      "metadata": {
        "colab": {
          "base_uri": "https://localhost:8080/"
        },
        "id": "xgb6B7S_7NDW",
        "outputId": "dbd2a78b-068b-44a7-ee13-644ff557a77f"
      },
      "execution_count": 43,
      "outputs": [
        {
          "output_type": "execute_result",
          "data": {
            "text/plain": [
              "((66147, 50), (16537, 50), (66147, 1), (16537, 1))"
            ]
          },
          "metadata": {},
          "execution_count": 43
        }
      ]
    },
    {
      "cell_type": "markdown",
      "source": [
        "Создадим выборку которую надо предсказать"
      ],
      "metadata": {
        "id": "J5uK3HGf38RN"
      }
    },
    {
      "cell_type": "code",
      "source": [
        "kaggle = result[result['price']==0]\n",
        "X_kaggle = kaggle.drop(['price', 'sell_id'], axis=1)\n",
        "X_kaggle.shape"
      ],
      "metadata": {
        "colab": {
          "base_uri": "https://localhost:8080/"
        },
        "id": "dVFSpjcE4DFc",
        "outputId": "f485f678-6975-469b-a9b3-1ffbea79d02a"
      },
      "execution_count": 44,
      "outputs": [
        {
          "output_type": "execute_result",
          "data": {
            "text/plain": [
              "(34686, 50)"
            ]
          },
          "metadata": {},
          "execution_count": 44
        }
      ]
    },
    {
      "cell_type": "markdown",
      "source": [
        "## Обучение моделей"
      ],
      "metadata": {
        "id": "2PdZB3kzUj7v"
      }
    },
    {
      "cell_type": "markdown",
      "source": [
        "### 1. RandomForestRegressor\n"
      ],
      "metadata": {
        "id": "zsRN3sPZUpY5"
      }
    },
    {
      "cell_type": "code",
      "source": [
        "from sklearn.ensemble import RandomForestRegressor\n",
        "rndfrst = RandomForestRegressor(criterion='absolute_error' #используем absolute_error что равно mae\n",
        "                                , n_estimators= 20\n",
        "                                , n_jobs= -1\n",
        "                                , random_state= 42) \n",
        "\n",
        "#max_features - Число признаков для выбора расщепления один из самых важных параметров\n",
        "#max_depth - Максимальная глубина деревьев. Чем меньше тем быстрее, но хуже качество\n",
        "\n",
        "rndfrst.fit(X_train, y_train)\n",
        "y_pred = rndfrst.predict(X_test)\n",
        "\n",
        "print('MAPE тестовой выборки:', mape(y_test, y_pred)) #выводим точность на тестовой выборке\n",
        "#y_pred = rndfrst.predict(X_kaggle) #подсказываем на тестовой выборке\n",
        "#results_df = pd.DataFrame(data={'sell_id':kaggle['sell_id'], 'price':y_pred}) #выгружаем в CSV чтобы проверить результат на kaggle\n",
        "#results_df.to_csv('submission.csv', index=False)"
      ],
      "metadata": {
        "colab": {
          "base_uri": "https://localhost:8080/"
        },
        "id": "2xOsvX038aby",
        "outputId": "91288124-1d48-4ed0-fbe7-6f180d478597"
      },
      "execution_count": null,
      "outputs": [
        {
          "output_type": "stream",
          "name": "stderr",
          "text": [
            "/usr/local/lib/python3.7/dist-packages/ipykernel_launcher.py:4: DataConversionWarning: A column-vector y was passed when a 1d array was expected. Please change the shape of y to (n_samples,), for example using ravel().\n",
            "  after removing the cwd from sys.path.\n"
          ]
        }
      ]
    },
    {
      "cell_type": "markdown",
      "source": [
        "10.5% на тестовой выборке хорошо, даже без подстановки гипперпараметров. Результат на kaggle - 19% ☹\n",
        "посмотрим что по другим моделям.\n",
        "\n",
        "### 2. LinearRegression"
      ],
      "metadata": {
        "id": "4juXdigjVBHG"
      }
    },
    {
      "cell_type": "code",
      "source": [
        "from sklearn.linear_model import LinearRegression\n",
        "reg = LinearRegression()\n",
        "\n",
        "reg.fit(X_train, y_train)\n",
        "y_pred = reg.predict(X_test)\n",
        "\n",
        "print('MAPE тестовой выборки:', mape(y_test, y_pred)) #выводим точность\n",
        "\n",
        "#y_pred = reg.predict(X_kaggle) #подсказываем на тестовой выборке\n",
        "#results_df = pd.DataFrame(data={'sell_id':kaggle['sell_id'], 'price':y_pred.reshape(1, 34686)[0]}) #выгружаем в CSV чтобы проверить результат на kaggle\n",
        "#results_df.to_csv('submission.csv', index=False)"
      ],
      "metadata": {
        "colab": {
          "base_uri": "https://localhost:8080/"
        },
        "id": "9YvzgDyNVB5r",
        "outputId": "054ef031-be3c-4088-ea3b-5003c1b2dfaf"
      },
      "execution_count": 51,
      "outputs": [
        {
          "output_type": "stream",
          "name": "stdout",
          "text": [
            "MAPE тестовой выборки: price    88.701721\n",
            "dtype: float64\n"
          ]
        }
      ]
    },
    {
      "cell_type": "markdown",
      "source": [
        "77.09 на тестовой выборке за гранью добра. И, ожидаемо, крайне низкий результат на kaggle-выборке. \n",
        "\n",
        "### 3. CatBoost"
      ],
      "metadata": {
        "id": "7MXPjIPIxc4p"
      }
    },
    {
      "cell_type": "code",
      "source": [
        "#попробуем ещё catboost\n",
        "!pip install catboost"
      ],
      "metadata": {
        "id": "StKnUqM13UAt",
        "colab": {
          "base_uri": "https://localhost:8080/"
        },
        "outputId": "97327339-5706-43b0-e194-6e084ef752d3"
      },
      "execution_count": 54,
      "outputs": [
        {
          "output_type": "stream",
          "name": "stdout",
          "text": [
            "Collecting catboost\n",
            "  Downloading catboost-1.0.4-cp37-none-manylinux1_x86_64.whl (76.1 MB)\n",
            "\u001b[K     |████████████████████████████████| 76.1 MB 1.2 MB/s \n",
            "\u001b[?25hRequirement already satisfied: numpy>=1.16.0 in /usr/local/lib/python3.7/dist-packages (from catboost) (1.19.5)\n",
            "Requirement already satisfied: plotly in /usr/local/lib/python3.7/dist-packages (from catboost) (4.4.1)\n",
            "Requirement already satisfied: scipy in /usr/local/lib/python3.7/dist-packages (from catboost) (1.4.1)\n",
            "Requirement already satisfied: six in /usr/local/lib/python3.7/dist-packages (from catboost) (1.15.0)\n",
            "Requirement already satisfied: graphviz in /usr/local/lib/python3.7/dist-packages (from catboost) (0.10.1)\n",
            "Requirement already satisfied: pandas>=0.24.0 in /usr/local/lib/python3.7/dist-packages (from catboost) (1.1.5)\n",
            "Requirement already satisfied: matplotlib in /usr/local/lib/python3.7/dist-packages (from catboost) (3.2.2)\n",
            "Requirement already satisfied: pytz>=2017.2 in /usr/local/lib/python3.7/dist-packages (from pandas>=0.24.0->catboost) (2018.9)\n",
            "Requirement already satisfied: python-dateutil>=2.7.3 in /usr/local/lib/python3.7/dist-packages (from pandas>=0.24.0->catboost) (2.8.2)\n",
            "Requirement already satisfied: pyparsing!=2.0.4,!=2.1.2,!=2.1.6,>=2.0.1 in /usr/local/lib/python3.7/dist-packages (from matplotlib->catboost) (3.0.6)\n",
            "Requirement already satisfied: kiwisolver>=1.0.1 in /usr/local/lib/python3.7/dist-packages (from matplotlib->catboost) (1.3.2)\n",
            "Requirement already satisfied: cycler>=0.10 in /usr/local/lib/python3.7/dist-packages (from matplotlib->catboost) (0.11.0)\n",
            "Requirement already satisfied: retrying>=1.3.3 in /usr/local/lib/python3.7/dist-packages (from plotly->catboost) (1.3.3)\n",
            "Installing collected packages: catboost\n",
            "Successfully installed catboost-1.0.4\n"
          ]
        }
      ]
    },
    {
      "cell_type": "code",
      "source": [
        "from catboost import CatBoostRegressor\n",
        "ctbst = CatBoostRegressor()\n",
        "\n",
        "ctbst.fit(X_train, y_train)\n",
        "y_pred = ctbst.predict(X_test)\n",
        "\n",
        "print('MAPE тестовой выборки:', mape(y_test, y_pred)) #выводим точность\n",
        "\n",
        "#y_pred = ctbst.predict(X_kaggle) #подсказываем на тестовой выборке\n",
        "#results_df = pd.DataFrame(data={'sell_id':kaggle['sell_id'], 'price':y_pred.reshape(1, 34686)[0]}) #выгружаем в CSV чтобы проверить результат на kaggle\n",
        "#results_df.to_csv('submission.csv', index=False)"
      ],
      "metadata": {
        "colab": {
          "base_uri": "https://localhost:8080/"
        },
        "id": "w3QwOIpFz_LB",
        "outputId": "3398904c-433d-4d66-9e06-f702ee468d0d"
      },
      "execution_count": 55,
      "outputs": [
        {
          "output_type": "stream",
          "name": "stdout",
          "text": [
            "Learning rate set to 0.0794\n",
            "0:\tlearn: 1956277.3634654\ttotal: 60ms\tremaining: 59.9s\n",
            "1:\tlearn: 1844626.5231726\ttotal: 71.3ms\tremaining: 35.6s\n",
            "2:\tlearn: 1744495.2744739\ttotal: 85.2ms\tremaining: 28.3s\n",
            "3:\tlearn: 1653190.1024809\ttotal: 96.5ms\tremaining: 24s\n",
            "4:\tlearn: 1568763.4038006\ttotal: 108ms\tremaining: 21.5s\n",
            "5:\tlearn: 1492100.1425220\ttotal: 120ms\tremaining: 19.8s\n",
            "6:\tlearn: 1422400.3618517\ttotal: 131ms\tremaining: 18.6s\n",
            "7:\tlearn: 1357794.3851608\ttotal: 143ms\tremaining: 17.7s\n",
            "8:\tlearn: 1300408.7647165\ttotal: 154ms\tremaining: 17s\n",
            "9:\tlearn: 1249796.4578815\ttotal: 165ms\tremaining: 16.4s\n",
            "10:\tlearn: 1203566.9567217\ttotal: 177ms\tremaining: 15.9s\n",
            "11:\tlearn: 1159468.6320946\ttotal: 197ms\tremaining: 16.2s\n",
            "12:\tlearn: 1119643.7228059\ttotal: 209ms\tremaining: 15.8s\n",
            "13:\tlearn: 1085605.6770485\ttotal: 225ms\tremaining: 15.8s\n",
            "14:\tlearn: 1054794.4498274\ttotal: 236ms\tremaining: 15.5s\n",
            "15:\tlearn: 1023624.3385263\ttotal: 247ms\tremaining: 15.2s\n",
            "16:\tlearn: 998353.0002851\ttotal: 259ms\tremaining: 15s\n",
            "17:\tlearn: 972565.1286933\ttotal: 270ms\tremaining: 14.7s\n",
            "18:\tlearn: 952312.4341796\ttotal: 281ms\tremaining: 14.5s\n",
            "19:\tlearn: 930799.7365752\ttotal: 293ms\tremaining: 14.4s\n",
            "20:\tlearn: 912919.2641269\ttotal: 304ms\tremaining: 14.2s\n",
            "21:\tlearn: 895248.6520525\ttotal: 320ms\tremaining: 14.2s\n",
            "22:\tlearn: 877981.3283389\ttotal: 336ms\tremaining: 14.3s\n",
            "23:\tlearn: 864091.0071073\ttotal: 347ms\tremaining: 14.1s\n",
            "24:\tlearn: 848305.7720226\ttotal: 358ms\tremaining: 14s\n",
            "25:\tlearn: 837744.9153547\ttotal: 370ms\tremaining: 13.9s\n",
            "26:\tlearn: 826017.3509316\ttotal: 380ms\tremaining: 13.7s\n",
            "27:\tlearn: 814521.6157884\ttotal: 395ms\tremaining: 13.7s\n",
            "28:\tlearn: 804730.2492150\ttotal: 407ms\tremaining: 13.6s\n",
            "29:\tlearn: 794662.6110592\ttotal: 418ms\tremaining: 13.5s\n",
            "30:\tlearn: 786033.5585023\ttotal: 433ms\tremaining: 13.5s\n",
            "31:\tlearn: 777922.4289974\ttotal: 444ms\tremaining: 13.4s\n",
            "32:\tlearn: 771385.4679621\ttotal: 454ms\tremaining: 13.3s\n",
            "33:\tlearn: 763814.2031133\ttotal: 466ms\tremaining: 13.2s\n",
            "34:\tlearn: 755856.5891161\ttotal: 477ms\tremaining: 13.2s\n",
            "35:\tlearn: 748120.9742374\ttotal: 489ms\tremaining: 13.1s\n",
            "36:\tlearn: 743740.7394433\ttotal: 500ms\tremaining: 13s\n",
            "37:\tlearn: 735942.8308383\ttotal: 511ms\tremaining: 12.9s\n",
            "38:\tlearn: 729670.2662538\ttotal: 522ms\tremaining: 12.9s\n",
            "39:\tlearn: 723634.1362326\ttotal: 532ms\tremaining: 12.8s\n",
            "40:\tlearn: 719302.8651657\ttotal: 544ms\tremaining: 12.7s\n",
            "41:\tlearn: 715002.1929922\ttotal: 554ms\tremaining: 12.6s\n",
            "42:\tlearn: 709129.0924290\ttotal: 569ms\tremaining: 12.7s\n",
            "43:\tlearn: 704626.0340265\ttotal: 581ms\tremaining: 12.6s\n",
            "44:\tlearn: 700907.0038227\ttotal: 593ms\tremaining: 12.6s\n",
            "45:\tlearn: 698565.6078874\ttotal: 605ms\tremaining: 12.5s\n",
            "46:\tlearn: 692589.9990470\ttotal: 615ms\tremaining: 12.5s\n",
            "47:\tlearn: 689010.4900008\ttotal: 626ms\tremaining: 12.4s\n",
            "48:\tlearn: 687458.1768852\ttotal: 635ms\tremaining: 12.3s\n",
            "49:\tlearn: 684016.1325566\ttotal: 646ms\tremaining: 12.3s\n",
            "50:\tlearn: 681869.8325449\ttotal: 657ms\tremaining: 12.2s\n",
            "51:\tlearn: 679919.2570281\ttotal: 673ms\tremaining: 12.3s\n",
            "52:\tlearn: 674566.9749411\ttotal: 683ms\tremaining: 12.2s\n",
            "53:\tlearn: 672086.0319447\ttotal: 693ms\tremaining: 12.1s\n",
            "54:\tlearn: 670399.0699672\ttotal: 708ms\tremaining: 12.2s\n",
            "55:\tlearn: 666090.4123106\ttotal: 720ms\tremaining: 12.1s\n",
            "56:\tlearn: 661546.5764998\ttotal: 732ms\tremaining: 12.1s\n",
            "57:\tlearn: 658679.0040794\ttotal: 742ms\tremaining: 12.1s\n",
            "58:\tlearn: 657264.6983407\ttotal: 753ms\tremaining: 12s\n",
            "59:\tlearn: 655731.4709723\ttotal: 765ms\tremaining: 12s\n",
            "60:\tlearn: 653059.1139528\ttotal: 774ms\tremaining: 11.9s\n",
            "61:\tlearn: 650518.4957414\ttotal: 788ms\tremaining: 11.9s\n",
            "62:\tlearn: 649364.2117796\ttotal: 799ms\tremaining: 11.9s\n",
            "63:\tlearn: 646643.7104029\ttotal: 809ms\tremaining: 11.8s\n",
            "64:\tlearn: 645914.9209043\ttotal: 818ms\tremaining: 11.8s\n",
            "65:\tlearn: 641668.5212700\ttotal: 829ms\tremaining: 11.7s\n",
            "66:\tlearn: 639317.6725968\ttotal: 839ms\tremaining: 11.7s\n",
            "67:\tlearn: 637572.5078267\ttotal: 849ms\tremaining: 11.6s\n",
            "68:\tlearn: 633986.6791370\ttotal: 860ms\tremaining: 11.6s\n",
            "69:\tlearn: 633176.7310452\ttotal: 870ms\tremaining: 11.6s\n",
            "70:\tlearn: 632143.7982590\ttotal: 880ms\tremaining: 11.5s\n",
            "71:\tlearn: 631235.3082797\ttotal: 891ms\tremaining: 11.5s\n",
            "72:\tlearn: 627601.0671498\ttotal: 901ms\tremaining: 11.4s\n",
            "73:\tlearn: 624134.4901882\ttotal: 911ms\tremaining: 11.4s\n",
            "74:\tlearn: 620817.6459324\ttotal: 923ms\tremaining: 11.4s\n",
            "75:\tlearn: 617253.4625768\ttotal: 935ms\tremaining: 11.4s\n",
            "76:\tlearn: 614361.4116819\ttotal: 944ms\tremaining: 11.3s\n",
            "77:\tlearn: 613210.2439375\ttotal: 955ms\tremaining: 11.3s\n",
            "78:\tlearn: 611684.4194427\ttotal: 966ms\tremaining: 11.3s\n",
            "79:\tlearn: 609216.2240504\ttotal: 977ms\tremaining: 11.2s\n",
            "80:\tlearn: 608927.5736150\ttotal: 994ms\tremaining: 11.3s\n",
            "81:\tlearn: 607415.9508313\ttotal: 1s\tremaining: 11.2s\n",
            "82:\tlearn: 606020.1768836\ttotal: 1.01s\tremaining: 11.2s\n",
            "83:\tlearn: 604910.6112806\ttotal: 1.02s\tremaining: 11.2s\n",
            "84:\tlearn: 603369.6756534\ttotal: 1.04s\tremaining: 11.2s\n",
            "85:\tlearn: 602757.7409161\ttotal: 1.05s\tremaining: 11.1s\n",
            "86:\tlearn: 600697.0192125\ttotal: 1.06s\tremaining: 11.1s\n",
            "87:\tlearn: 597739.9301433\ttotal: 1.07s\tremaining: 11.1s\n",
            "88:\tlearn: 595537.0614341\ttotal: 1.08s\tremaining: 11s\n",
            "89:\tlearn: 592698.0297130\ttotal: 1.09s\tremaining: 11s\n",
            "90:\tlearn: 591571.9651426\ttotal: 1.1s\tremaining: 11s\n",
            "91:\tlearn: 590270.5107545\ttotal: 1.11s\tremaining: 10.9s\n",
            "92:\tlearn: 589985.1041142\ttotal: 1.12s\tremaining: 10.9s\n",
            "93:\tlearn: 587547.7761521\ttotal: 1.13s\tremaining: 10.9s\n",
            "94:\tlearn: 585385.3258581\ttotal: 1.14s\tremaining: 10.9s\n",
            "95:\tlearn: 583296.9059018\ttotal: 1.15s\tremaining: 10.8s\n",
            "96:\tlearn: 582611.8334426\ttotal: 1.16s\tremaining: 10.8s\n",
            "97:\tlearn: 581908.1178417\ttotal: 1.17s\tremaining: 10.8s\n",
            "98:\tlearn: 581025.6712972\ttotal: 1.19s\tremaining: 10.9s\n",
            "99:\tlearn: 580158.2765781\ttotal: 1.21s\tremaining: 10.8s\n",
            "100:\tlearn: 578834.5294356\ttotal: 1.22s\tremaining: 10.8s\n",
            "101:\tlearn: 577433.3721991\ttotal: 1.23s\tremaining: 10.8s\n",
            "102:\tlearn: 576671.1124321\ttotal: 1.24s\tremaining: 10.8s\n",
            "103:\tlearn: 574800.4620880\ttotal: 1.25s\tremaining: 10.8s\n",
            "104:\tlearn: 574758.9472873\ttotal: 1.26s\tremaining: 10.7s\n",
            "105:\tlearn: 573921.2657870\ttotal: 1.27s\tremaining: 10.7s\n",
            "106:\tlearn: 573006.4328167\ttotal: 1.28s\tremaining: 10.7s\n",
            "107:\tlearn: 570416.9004446\ttotal: 1.29s\tremaining: 10.6s\n",
            "108:\tlearn: 568158.4688330\ttotal: 1.3s\tremaining: 10.6s\n",
            "109:\tlearn: 567470.7737524\ttotal: 1.31s\tremaining: 10.6s\n",
            "110:\tlearn: 565753.1988636\ttotal: 1.32s\tremaining: 10.6s\n",
            "111:\tlearn: 565408.5620573\ttotal: 1.33s\tremaining: 10.5s\n",
            "112:\tlearn: 564817.6113115\ttotal: 1.34s\tremaining: 10.5s\n",
            "113:\tlearn: 564398.9727875\ttotal: 1.35s\tremaining: 10.5s\n",
            "114:\tlearn: 562571.5281853\ttotal: 1.36s\tremaining: 10.4s\n",
            "115:\tlearn: 561906.1045856\ttotal: 1.37s\tremaining: 10.4s\n",
            "116:\tlearn: 559860.8626700\ttotal: 1.38s\tremaining: 10.4s\n",
            "117:\tlearn: 559570.8767198\ttotal: 1.39s\tremaining: 10.4s\n",
            "118:\tlearn: 557661.6389511\ttotal: 1.4s\tremaining: 10.4s\n",
            "119:\tlearn: 557120.7950791\ttotal: 1.42s\tremaining: 10.4s\n",
            "120:\tlearn: 556053.5632652\ttotal: 1.43s\tremaining: 10.4s\n",
            "121:\tlearn: 555643.0600706\ttotal: 1.44s\tremaining: 10.3s\n",
            "122:\tlearn: 554822.4662291\ttotal: 1.45s\tremaining: 10.3s\n",
            "123:\tlearn: 554354.9915055\ttotal: 1.46s\tremaining: 10.3s\n",
            "124:\tlearn: 553603.1337747\ttotal: 1.47s\tremaining: 10.3s\n",
            "125:\tlearn: 552140.1732887\ttotal: 1.48s\tremaining: 10.3s\n",
            "126:\tlearn: 550984.6439200\ttotal: 1.49s\tremaining: 10.2s\n",
            "127:\tlearn: 550096.3075467\ttotal: 1.5s\tremaining: 10.2s\n",
            "128:\tlearn: 549278.7076310\ttotal: 1.51s\tremaining: 10.2s\n",
            "129:\tlearn: 549017.8950331\ttotal: 1.53s\tremaining: 10.2s\n",
            "130:\tlearn: 548346.9078455\ttotal: 1.54s\tremaining: 10.2s\n",
            "131:\tlearn: 547752.1538095\ttotal: 1.55s\tremaining: 10.2s\n",
            "132:\tlearn: 546372.8465321\ttotal: 1.57s\tremaining: 10.2s\n",
            "133:\tlearn: 544671.4147062\ttotal: 1.58s\tremaining: 10.2s\n",
            "134:\tlearn: 544229.8238057\ttotal: 1.59s\tremaining: 10.2s\n",
            "135:\tlearn: 542963.4089682\ttotal: 1.6s\tremaining: 10.2s\n",
            "136:\tlearn: 542340.7758979\ttotal: 1.61s\tremaining: 10.2s\n",
            "137:\tlearn: 541890.9982217\ttotal: 1.62s\tremaining: 10.1s\n",
            "138:\tlearn: 541502.1099089\ttotal: 1.64s\tremaining: 10.1s\n",
            "139:\tlearn: 540837.9632011\ttotal: 1.65s\tremaining: 10.1s\n",
            "140:\tlearn: 540072.0998666\ttotal: 1.66s\tremaining: 10.1s\n",
            "141:\tlearn: 539441.1818030\ttotal: 1.67s\tremaining: 10.1s\n",
            "142:\tlearn: 538819.5109911\ttotal: 1.68s\tremaining: 10.1s\n",
            "143:\tlearn: 538213.4085826\ttotal: 1.7s\tremaining: 10.1s\n",
            "144:\tlearn: 536937.5278183\ttotal: 1.71s\tremaining: 10.1s\n",
            "145:\tlearn: 536733.4975527\ttotal: 1.72s\tremaining: 10.1s\n",
            "146:\tlearn: 536554.8168418\ttotal: 1.74s\tremaining: 10.1s\n",
            "147:\tlearn: 535854.0380090\ttotal: 1.75s\tremaining: 10.1s\n",
            "148:\tlearn: 535331.3684987\ttotal: 1.76s\tremaining: 10s\n",
            "149:\tlearn: 534050.4351171\ttotal: 1.77s\tremaining: 10s\n",
            "150:\tlearn: 533423.1562413\ttotal: 1.78s\tremaining: 10s\n",
            "151:\tlearn: 532333.6953654\ttotal: 1.79s\tremaining: 10s\n",
            "152:\tlearn: 532092.6677437\ttotal: 1.81s\tremaining: 10s\n",
            "153:\tlearn: 531522.4585686\ttotal: 1.82s\tremaining: 9.99s\n",
            "154:\tlearn: 531332.0098386\ttotal: 1.83s\tremaining: 9.97s\n",
            "155:\tlearn: 530614.6621153\ttotal: 1.84s\tremaining: 9.95s\n",
            "156:\tlearn: 530221.0773842\ttotal: 1.85s\tremaining: 9.93s\n",
            "157:\tlearn: 529781.5389037\ttotal: 1.86s\tremaining: 9.91s\n",
            "158:\tlearn: 528719.2170536\ttotal: 1.87s\tremaining: 9.89s\n",
            "159:\tlearn: 528230.9447610\ttotal: 1.88s\tremaining: 9.87s\n",
            "160:\tlearn: 527259.0187118\ttotal: 1.89s\tremaining: 9.85s\n",
            "161:\tlearn: 527097.7309251\ttotal: 1.9s\tremaining: 9.83s\n",
            "162:\tlearn: 526527.8539113\ttotal: 1.91s\tremaining: 9.82s\n",
            "163:\tlearn: 526178.0163083\ttotal: 1.93s\tremaining: 9.83s\n",
            "164:\tlearn: 525683.7983385\ttotal: 1.94s\tremaining: 9.82s\n",
            "165:\tlearn: 524716.8631915\ttotal: 1.95s\tremaining: 9.8s\n",
            "166:\tlearn: 524436.4879990\ttotal: 1.96s\tremaining: 9.78s\n",
            "167:\tlearn: 523532.0134765\ttotal: 1.97s\tremaining: 9.77s\n",
            "168:\tlearn: 523149.2269772\ttotal: 1.98s\tremaining: 9.75s\n",
            "169:\tlearn: 522445.9198475\ttotal: 1.99s\tremaining: 9.74s\n",
            "170:\tlearn: 521883.7443441\ttotal: 2.01s\tremaining: 9.75s\n",
            "171:\tlearn: 521385.4798526\ttotal: 2.02s\tremaining: 9.75s\n",
            "172:\tlearn: 521209.0535190\ttotal: 2.04s\tremaining: 9.73s\n",
            "173:\tlearn: 520892.4385599\ttotal: 2.05s\tremaining: 9.71s\n",
            "174:\tlearn: 520245.8579773\ttotal: 2.06s\tremaining: 9.69s\n",
            "175:\tlearn: 520182.3219072\ttotal: 2.06s\tremaining: 9.67s\n",
            "176:\tlearn: 520168.8678435\ttotal: 2.07s\tremaining: 9.64s\n",
            "177:\tlearn: 519828.9675724\ttotal: 2.08s\tremaining: 9.62s\n",
            "178:\tlearn: 519189.7997814\ttotal: 2.09s\tremaining: 9.6s\n",
            "179:\tlearn: 518825.0954236\ttotal: 2.1s\tremaining: 9.58s\n",
            "180:\tlearn: 518314.5760798\ttotal: 2.11s\tremaining: 9.57s\n",
            "181:\tlearn: 517535.4526606\ttotal: 2.13s\tremaining: 9.55s\n",
            "182:\tlearn: 517461.1116429\ttotal: 2.13s\tremaining: 9.53s\n",
            "183:\tlearn: 516764.4095901\ttotal: 2.15s\tremaining: 9.52s\n",
            "184:\tlearn: 516145.7700637\ttotal: 2.16s\tremaining: 9.5s\n",
            "185:\tlearn: 515710.9252472\ttotal: 2.17s\tremaining: 9.49s\n",
            "186:\tlearn: 515375.5949688\ttotal: 2.18s\tremaining: 9.47s\n",
            "187:\tlearn: 515292.0851645\ttotal: 2.19s\tremaining: 9.44s\n",
            "188:\tlearn: 514317.3516951\ttotal: 2.2s\tremaining: 9.44s\n",
            "189:\tlearn: 513771.0646159\ttotal: 2.21s\tremaining: 9.45s\n",
            "190:\tlearn: 513465.5713246\ttotal: 2.23s\tremaining: 9.43s\n",
            "191:\tlearn: 513338.3062582\ttotal: 2.24s\tremaining: 9.41s\n",
            "192:\tlearn: 512468.2585215\ttotal: 2.25s\tremaining: 9.4s\n",
            "193:\tlearn: 511750.6978816\ttotal: 2.26s\tremaining: 9.38s\n",
            "194:\tlearn: 511379.6699529\ttotal: 2.27s\tremaining: 9.37s\n",
            "195:\tlearn: 510603.6980605\ttotal: 2.28s\tremaining: 9.35s\n",
            "196:\tlearn: 509972.6017865\ttotal: 2.29s\tremaining: 9.33s\n",
            "197:\tlearn: 509763.6802120\ttotal: 2.3s\tremaining: 9.32s\n",
            "198:\tlearn: 509151.4809743\ttotal: 2.31s\tremaining: 9.31s\n",
            "199:\tlearn: 508837.8223546\ttotal: 2.32s\tremaining: 9.29s\n",
            "200:\tlearn: 508454.7655832\ttotal: 2.33s\tremaining: 9.28s\n",
            "201:\tlearn: 507879.8862442\ttotal: 2.35s\tremaining: 9.26s\n",
            "202:\tlearn: 507752.0421166\ttotal: 2.35s\tremaining: 9.24s\n",
            "203:\tlearn: 507161.6321906\ttotal: 2.37s\tremaining: 9.23s\n",
            "204:\tlearn: 506453.5891294\ttotal: 2.38s\tremaining: 9.22s\n",
            "205:\tlearn: 506328.1824112\ttotal: 2.39s\tremaining: 9.2s\n",
            "206:\tlearn: 505781.1150376\ttotal: 2.4s\tremaining: 9.19s\n",
            "207:\tlearn: 505461.9530349\ttotal: 2.41s\tremaining: 9.18s\n",
            "208:\tlearn: 504810.3685620\ttotal: 2.42s\tremaining: 9.18s\n",
            "209:\tlearn: 504686.8128846\ttotal: 2.43s\tremaining: 9.16s\n",
            "210:\tlearn: 504480.6667202\ttotal: 2.45s\tremaining: 9.16s\n",
            "211:\tlearn: 504280.9738181\ttotal: 2.46s\tremaining: 9.14s\n",
            "212:\tlearn: 504078.1262220\ttotal: 2.47s\tremaining: 9.13s\n",
            "213:\tlearn: 504001.4235183\ttotal: 2.48s\tremaining: 9.11s\n",
            "214:\tlearn: 503571.1218410\ttotal: 2.49s\tremaining: 9.09s\n",
            "215:\tlearn: 503072.3174575\ttotal: 2.5s\tremaining: 9.07s\n",
            "216:\tlearn: 502958.6724763\ttotal: 2.51s\tremaining: 9.06s\n",
            "217:\tlearn: 502727.1944063\ttotal: 2.52s\tremaining: 9.05s\n",
            "218:\tlearn: 502125.2916389\ttotal: 2.53s\tremaining: 9.03s\n",
            "219:\tlearn: 501500.7590097\ttotal: 2.54s\tremaining: 9.02s\n",
            "220:\tlearn: 501492.3477965\ttotal: 2.55s\tremaining: 8.99s\n",
            "221:\tlearn: 501060.3133826\ttotal: 2.56s\tremaining: 8.98s\n",
            "222:\tlearn: 500809.7247187\ttotal: 2.57s\tremaining: 8.96s\n",
            "223:\tlearn: 500586.1554458\ttotal: 2.58s\tremaining: 8.95s\n",
            "224:\tlearn: 500190.5796252\ttotal: 2.59s\tremaining: 8.93s\n",
            "225:\tlearn: 499045.4430246\ttotal: 2.6s\tremaining: 8.92s\n",
            "226:\tlearn: 498689.8495798\ttotal: 2.62s\tremaining: 8.91s\n",
            "227:\tlearn: 498183.7546548\ttotal: 2.63s\tremaining: 8.91s\n",
            "228:\tlearn: 498088.4346866\ttotal: 2.65s\tremaining: 8.91s\n",
            "229:\tlearn: 497886.1321269\ttotal: 2.66s\tremaining: 8.9s\n",
            "230:\tlearn: 497616.8562849\ttotal: 2.67s\tremaining: 8.88s\n",
            "231:\tlearn: 497346.0241882\ttotal: 2.68s\tremaining: 8.87s\n",
            "232:\tlearn: 496965.4620316\ttotal: 2.7s\tremaining: 8.88s\n",
            "233:\tlearn: 496618.6111730\ttotal: 2.71s\tremaining: 8.89s\n",
            "234:\tlearn: 496126.6294341\ttotal: 2.73s\tremaining: 8.87s\n",
            "235:\tlearn: 496049.3483524\ttotal: 2.73s\tremaining: 8.86s\n",
            "236:\tlearn: 495613.4281283\ttotal: 2.75s\tremaining: 8.84s\n",
            "237:\tlearn: 495226.3706132\ttotal: 2.76s\tremaining: 8.82s\n",
            "238:\tlearn: 494814.4127963\ttotal: 2.77s\tremaining: 8.81s\n",
            "239:\tlearn: 494645.1258243\ttotal: 2.78s\tremaining: 8.79s\n",
            "240:\tlearn: 494181.3168952\ttotal: 2.79s\tremaining: 8.78s\n",
            "241:\tlearn: 494076.7990835\ttotal: 2.8s\tremaining: 8.77s\n",
            "242:\tlearn: 493927.4756519\ttotal: 2.81s\tremaining: 8.75s\n",
            "243:\tlearn: 493551.3622276\ttotal: 2.82s\tremaining: 8.73s\n",
            "244:\tlearn: 492854.1315968\ttotal: 2.83s\tremaining: 8.73s\n",
            "245:\tlearn: 492614.7715105\ttotal: 2.84s\tremaining: 8.72s\n",
            "246:\tlearn: 492283.4309275\ttotal: 2.86s\tremaining: 8.72s\n",
            "247:\tlearn: 491719.3323223\ttotal: 2.87s\tremaining: 8.7s\n",
            "248:\tlearn: 491500.9441567\ttotal: 2.88s\tremaining: 8.69s\n",
            "249:\tlearn: 491300.9024456\ttotal: 2.89s\tremaining: 8.68s\n",
            "250:\tlearn: 490910.6460976\ttotal: 2.9s\tremaining: 8.66s\n",
            "251:\tlearn: 490670.3184900\ttotal: 2.91s\tremaining: 8.65s\n",
            "252:\tlearn: 490384.5869170\ttotal: 2.92s\tremaining: 8.63s\n",
            "253:\tlearn: 490117.4710026\ttotal: 2.94s\tremaining: 8.62s\n",
            "254:\tlearn: 490111.4349313\ttotal: 2.94s\tremaining: 8.6s\n",
            "255:\tlearn: 489559.2001254\ttotal: 2.95s\tremaining: 8.59s\n",
            "256:\tlearn: 489396.5073566\ttotal: 2.97s\tremaining: 8.58s\n",
            "257:\tlearn: 489050.2109870\ttotal: 2.98s\tremaining: 8.58s\n",
            "258:\tlearn: 488974.3926496\ttotal: 2.99s\tremaining: 8.56s\n",
            "259:\tlearn: 488665.5209282\ttotal: 3s\tremaining: 8.54s\n",
            "260:\tlearn: 487961.3269608\ttotal: 3.01s\tremaining: 8.53s\n",
            "261:\tlearn: 487769.3982376\ttotal: 3.02s\tremaining: 8.51s\n",
            "262:\tlearn: 487763.9680203\ttotal: 3.03s\tremaining: 8.5s\n",
            "263:\tlearn: 487657.0228598\ttotal: 3.04s\tremaining: 8.49s\n",
            "264:\tlearn: 487390.9716137\ttotal: 3.06s\tremaining: 8.48s\n",
            "265:\tlearn: 487105.1855850\ttotal: 3.07s\tremaining: 8.46s\n",
            "266:\tlearn: 486621.0835757\ttotal: 3.08s\tremaining: 8.45s\n",
            "267:\tlearn: 486616.0767017\ttotal: 3.08s\tremaining: 8.43s\n",
            "268:\tlearn: 486506.9827641\ttotal: 3.09s\tremaining: 8.41s\n",
            "269:\tlearn: 486494.6158399\ttotal: 3.1s\tremaining: 8.39s\n",
            "270:\tlearn: 486404.8577580\ttotal: 3.11s\tremaining: 8.37s\n",
            "271:\tlearn: 485896.0686733\ttotal: 3.12s\tremaining: 8.36s\n",
            "272:\tlearn: 485515.5580053\ttotal: 3.13s\tremaining: 8.34s\n",
            "273:\tlearn: 485255.3891822\ttotal: 3.14s\tremaining: 8.33s\n",
            "274:\tlearn: 484925.6083614\ttotal: 3.15s\tremaining: 8.32s\n",
            "275:\tlearn: 484810.2482685\ttotal: 3.16s\tremaining: 8.3s\n",
            "276:\tlearn: 484379.2474706\ttotal: 3.17s\tremaining: 8.29s\n",
            "277:\tlearn: 483428.7115538\ttotal: 3.19s\tremaining: 8.28s\n",
            "278:\tlearn: 483253.2173062\ttotal: 3.2s\tremaining: 8.27s\n",
            "279:\tlearn: 483056.8524004\ttotal: 3.21s\tremaining: 8.25s\n",
            "280:\tlearn: 482308.2511921\ttotal: 3.22s\tremaining: 8.25s\n",
            "281:\tlearn: 481151.3814483\ttotal: 3.24s\tremaining: 8.25s\n",
            "282:\tlearn: 480686.7808028\ttotal: 3.25s\tremaining: 8.24s\n",
            "283:\tlearn: 480127.7165904\ttotal: 3.26s\tremaining: 8.22s\n",
            "284:\tlearn: 480116.4463221\ttotal: 3.27s\tremaining: 8.2s\n",
            "285:\tlearn: 479824.4751857\ttotal: 3.28s\tremaining: 8.19s\n",
            "286:\tlearn: 479501.1815715\ttotal: 3.29s\tremaining: 8.18s\n",
            "287:\tlearn: 479490.3256674\ttotal: 3.3s\tremaining: 8.16s\n",
            "288:\tlearn: 479036.3794238\ttotal: 3.31s\tremaining: 8.14s\n",
            "289:\tlearn: 478701.8947880\ttotal: 3.32s\tremaining: 8.13s\n",
            "290:\tlearn: 478479.1383443\ttotal: 3.33s\tremaining: 8.12s\n",
            "291:\tlearn: 478468.7926873\ttotal: 3.34s\tremaining: 8.1s\n",
            "292:\tlearn: 478087.6186822\ttotal: 3.35s\tremaining: 8.08s\n",
            "293:\tlearn: 477894.3455043\ttotal: 3.36s\tremaining: 8.08s\n",
            "294:\tlearn: 477526.2549883\ttotal: 3.37s\tremaining: 8.06s\n",
            "295:\tlearn: 476400.3779722\ttotal: 3.38s\tremaining: 8.05s\n",
            "296:\tlearn: 476144.6480075\ttotal: 3.39s\tremaining: 8.04s\n",
            "297:\tlearn: 475872.3919884\ttotal: 3.4s\tremaining: 8.02s\n",
            "298:\tlearn: 475558.1069803\ttotal: 3.42s\tremaining: 8.01s\n",
            "299:\tlearn: 475390.8489991\ttotal: 3.43s\tremaining: 8s\n",
            "300:\tlearn: 475038.5395863\ttotal: 3.44s\tremaining: 7.99s\n",
            "301:\tlearn: 474745.6152332\ttotal: 3.45s\tremaining: 7.98s\n",
            "302:\tlearn: 474588.7718501\ttotal: 3.46s\tremaining: 7.97s\n",
            "303:\tlearn: 474434.6988628\ttotal: 3.49s\tremaining: 8s\n",
            "304:\tlearn: 474183.0896631\ttotal: 3.52s\tremaining: 8.02s\n",
            "305:\tlearn: 474051.1653420\ttotal: 3.53s\tremaining: 8.01s\n",
            "306:\tlearn: 473809.5757688\ttotal: 3.54s\tremaining: 7.99s\n",
            "307:\tlearn: 473435.4902505\ttotal: 3.55s\tremaining: 7.98s\n",
            "308:\tlearn: 473189.8797113\ttotal: 3.56s\tremaining: 7.97s\n",
            "309:\tlearn: 472747.2209957\ttotal: 3.57s\tremaining: 7.95s\n",
            "310:\tlearn: 472406.7726870\ttotal: 3.58s\tremaining: 7.94s\n",
            "311:\tlearn: 471168.0874722\ttotal: 3.59s\tremaining: 7.93s\n",
            "312:\tlearn: 470822.5344779\ttotal: 3.6s\tremaining: 7.91s\n",
            "313:\tlearn: 470634.4651454\ttotal: 3.62s\tremaining: 7.9s\n",
            "314:\tlearn: 470279.0999221\ttotal: 3.63s\tremaining: 7.88s\n",
            "315:\tlearn: 470155.3320374\ttotal: 3.64s\tremaining: 7.87s\n",
            "316:\tlearn: 469955.4909549\ttotal: 3.65s\tremaining: 7.87s\n",
            "317:\tlearn: 469746.9987818\ttotal: 3.66s\tremaining: 7.85s\n",
            "318:\tlearn: 469638.1525666\ttotal: 3.67s\tremaining: 7.84s\n",
            "319:\tlearn: 469445.3442113\ttotal: 3.69s\tremaining: 7.84s\n",
            "320:\tlearn: 469179.3547271\ttotal: 3.71s\tremaining: 7.84s\n",
            "321:\tlearn: 469073.7253978\ttotal: 3.72s\tremaining: 7.83s\n",
            "322:\tlearn: 468735.2766587\ttotal: 3.73s\tremaining: 7.82s\n",
            "323:\tlearn: 468553.0270156\ttotal: 3.74s\tremaining: 7.81s\n",
            "324:\tlearn: 468210.3513373\ttotal: 3.75s\tremaining: 7.8s\n",
            "325:\tlearn: 467952.4305859\ttotal: 3.77s\tremaining: 7.79s\n",
            "326:\tlearn: 467765.5435332\ttotal: 3.78s\tremaining: 7.79s\n",
            "327:\tlearn: 467590.2244809\ttotal: 3.79s\tremaining: 7.78s\n",
            "328:\tlearn: 467297.8064550\ttotal: 3.81s\tremaining: 7.76s\n",
            "329:\tlearn: 467001.9327537\ttotal: 3.82s\tremaining: 7.75s\n",
            "330:\tlearn: 466872.2686176\ttotal: 3.83s\tremaining: 7.73s\n",
            "331:\tlearn: 466713.9576131\ttotal: 3.83s\tremaining: 7.72s\n",
            "332:\tlearn: 466293.0189981\ttotal: 3.85s\tremaining: 7.7s\n",
            "333:\tlearn: 466143.4078881\ttotal: 3.86s\tremaining: 7.7s\n",
            "334:\tlearn: 465868.6219510\ttotal: 3.87s\tremaining: 7.69s\n",
            "335:\tlearn: 465704.5145830\ttotal: 3.88s\tremaining: 7.67s\n",
            "336:\tlearn: 465407.8464722\ttotal: 3.89s\tremaining: 7.66s\n",
            "337:\tlearn: 465142.1892228\ttotal: 3.9s\tremaining: 7.64s\n",
            "338:\tlearn: 464825.1794836\ttotal: 3.91s\tremaining: 7.63s\n",
            "339:\tlearn: 464712.3396605\ttotal: 3.92s\tremaining: 7.62s\n",
            "340:\tlearn: 464567.2756841\ttotal: 3.93s\tremaining: 7.6s\n",
            "341:\tlearn: 464292.8851856\ttotal: 3.94s\tremaining: 7.59s\n",
            "342:\tlearn: 464176.6748428\ttotal: 3.96s\tremaining: 7.58s\n",
            "343:\tlearn: 463840.6055014\ttotal: 3.97s\tremaining: 7.56s\n",
            "344:\tlearn: 463607.5599293\ttotal: 3.98s\tremaining: 7.55s\n",
            "345:\tlearn: 463522.9767510\ttotal: 3.99s\tremaining: 7.54s\n",
            "346:\tlearn: 463359.0653874\ttotal: 4s\tremaining: 7.52s\n",
            "347:\tlearn: 463052.8923978\ttotal: 4.01s\tremaining: 7.51s\n",
            "348:\tlearn: 462871.2216282\ttotal: 4.02s\tremaining: 7.5s\n",
            "349:\tlearn: 462703.4417826\ttotal: 4.04s\tremaining: 7.5s\n",
            "350:\tlearn: 462580.4831708\ttotal: 4.05s\tremaining: 7.48s\n",
            "351:\tlearn: 462304.1654064\ttotal: 4.06s\tremaining: 7.47s\n",
            "352:\tlearn: 462032.4739518\ttotal: 4.07s\tremaining: 7.46s\n",
            "353:\tlearn: 461945.5752407\ttotal: 4.08s\tremaining: 7.44s\n",
            "354:\tlearn: 461739.2506041\ttotal: 4.09s\tremaining: 7.43s\n",
            "355:\tlearn: 461556.0650744\ttotal: 4.1s\tremaining: 7.42s\n",
            "356:\tlearn: 461432.1286147\ttotal: 4.11s\tremaining: 7.4s\n",
            "357:\tlearn: 461191.9131394\ttotal: 4.12s\tremaining: 7.39s\n",
            "358:\tlearn: 460895.4202169\ttotal: 4.13s\tremaining: 7.38s\n",
            "359:\tlearn: 460671.6057376\ttotal: 4.14s\tremaining: 7.37s\n",
            "360:\tlearn: 460567.6956571\ttotal: 4.15s\tremaining: 7.35s\n",
            "361:\tlearn: 460455.6566552\ttotal: 4.17s\tremaining: 7.34s\n",
            "362:\tlearn: 460300.6485679\ttotal: 4.18s\tremaining: 7.33s\n",
            "363:\tlearn: 460047.6105259\ttotal: 4.19s\tremaining: 7.32s\n",
            "364:\tlearn: 459902.1000785\ttotal: 4.2s\tremaining: 7.3s\n",
            "365:\tlearn: 459689.0053069\ttotal: 4.21s\tremaining: 7.29s\n",
            "366:\tlearn: 459529.4545120\ttotal: 4.22s\tremaining: 7.28s\n",
            "367:\tlearn: 459374.8060920\ttotal: 4.23s\tremaining: 7.26s\n",
            "368:\tlearn: 459257.5879177\ttotal: 4.24s\tremaining: 7.25s\n",
            "369:\tlearn: 458951.9477194\ttotal: 4.25s\tremaining: 7.24s\n",
            "370:\tlearn: 458769.1917013\ttotal: 4.27s\tremaining: 7.23s\n",
            "371:\tlearn: 458265.8673576\ttotal: 4.28s\tremaining: 7.22s\n",
            "372:\tlearn: 458091.8138799\ttotal: 4.29s\tremaining: 7.21s\n",
            "373:\tlearn: 457473.9113795\ttotal: 4.3s\tremaining: 7.21s\n",
            "374:\tlearn: 457369.7330161\ttotal: 4.32s\tremaining: 7.19s\n",
            "375:\tlearn: 457210.4657856\ttotal: 4.33s\tremaining: 7.18s\n",
            "376:\tlearn: 456994.4723011\ttotal: 4.34s\tremaining: 7.17s\n",
            "377:\tlearn: 456886.8550981\ttotal: 4.35s\tremaining: 7.16s\n",
            "378:\tlearn: 456603.4750221\ttotal: 4.36s\tremaining: 7.14s\n",
            "379:\tlearn: 456530.2182180\ttotal: 4.37s\tremaining: 7.13s\n",
            "380:\tlearn: 456348.2349025\ttotal: 4.38s\tremaining: 7.12s\n",
            "381:\tlearn: 456073.4233710\ttotal: 4.39s\tremaining: 7.11s\n",
            "382:\tlearn: 455975.7866675\ttotal: 4.4s\tremaining: 7.09s\n",
            "383:\tlearn: 455891.7517351\ttotal: 4.41s\tremaining: 7.08s\n",
            "384:\tlearn: 455604.6571603\ttotal: 4.42s\tremaining: 7.07s\n",
            "385:\tlearn: 455451.7043842\ttotal: 4.43s\tremaining: 7.05s\n",
            "386:\tlearn: 455281.9856771\ttotal: 4.45s\tremaining: 7.04s\n",
            "387:\tlearn: 455141.8004194\ttotal: 4.46s\tremaining: 7.03s\n",
            "388:\tlearn: 454992.5590447\ttotal: 4.48s\tremaining: 7.04s\n",
            "389:\tlearn: 454865.4652536\ttotal: 4.5s\tremaining: 7.03s\n",
            "390:\tlearn: 454796.3789187\ttotal: 4.5s\tremaining: 7.02s\n",
            "391:\tlearn: 454680.7064635\ttotal: 4.51s\tremaining: 7s\n",
            "392:\tlearn: 454458.6487528\ttotal: 4.53s\tremaining: 6.99s\n",
            "393:\tlearn: 454272.5604675\ttotal: 4.54s\tremaining: 6.98s\n",
            "394:\tlearn: 453732.5443861\ttotal: 4.55s\tremaining: 6.97s\n",
            "395:\tlearn: 453566.4354892\ttotal: 4.56s\tremaining: 6.96s\n",
            "396:\tlearn: 453428.1729376\ttotal: 4.57s\tremaining: 6.95s\n",
            "397:\tlearn: 453210.6217254\ttotal: 4.58s\tremaining: 6.93s\n",
            "398:\tlearn: 452654.2018095\ttotal: 4.59s\tremaining: 6.92s\n",
            "399:\tlearn: 452395.0922160\ttotal: 4.61s\tremaining: 6.91s\n",
            "400:\tlearn: 452291.3908856\ttotal: 4.62s\tremaining: 6.9s\n",
            "401:\tlearn: 452130.9213953\ttotal: 4.63s\tremaining: 6.88s\n",
            "402:\tlearn: 452001.8772034\ttotal: 4.64s\tremaining: 6.87s\n",
            "403:\tlearn: 451766.5592218\ttotal: 4.65s\tremaining: 6.86s\n",
            "404:\tlearn: 451573.6601235\ttotal: 4.66s\tremaining: 6.85s\n",
            "405:\tlearn: 451334.8096396\ttotal: 4.67s\tremaining: 6.83s\n",
            "406:\tlearn: 451267.1897581\ttotal: 4.7s\tremaining: 6.84s\n",
            "407:\tlearn: 451088.3854846\ttotal: 4.71s\tremaining: 6.84s\n",
            "408:\tlearn: 451008.6438475\ttotal: 4.72s\tremaining: 6.82s\n",
            "409:\tlearn: 450853.5218888\ttotal: 4.73s\tremaining: 6.81s\n",
            "410:\tlearn: 450702.0719655\ttotal: 4.74s\tremaining: 6.8s\n",
            "411:\tlearn: 450614.8234148\ttotal: 4.75s\tremaining: 6.79s\n",
            "412:\tlearn: 450393.3941745\ttotal: 4.76s\tremaining: 6.77s\n",
            "413:\tlearn: 450248.9147943\ttotal: 4.78s\tremaining: 6.76s\n",
            "414:\tlearn: 450082.2194788\ttotal: 4.79s\tremaining: 6.75s\n",
            "415:\tlearn: 449954.2716737\ttotal: 4.8s\tremaining: 6.73s\n",
            "416:\tlearn: 449822.1152354\ttotal: 4.8s\tremaining: 6.72s\n",
            "417:\tlearn: 449736.1789840\ttotal: 4.82s\tremaining: 6.71s\n",
            "418:\tlearn: 449651.4770800\ttotal: 4.83s\tremaining: 6.7s\n",
            "419:\tlearn: 449389.9420972\ttotal: 4.84s\tremaining: 6.69s\n",
            "420:\tlearn: 449259.7451192\ttotal: 4.85s\tremaining: 6.67s\n",
            "421:\tlearn: 449086.6786058\ttotal: 4.86s\tremaining: 6.66s\n",
            "422:\tlearn: 448937.6828933\ttotal: 4.87s\tremaining: 6.65s\n",
            "423:\tlearn: 448853.7678216\ttotal: 4.88s\tremaining: 6.63s\n",
            "424:\tlearn: 448497.6026910\ttotal: 4.9s\tremaining: 6.63s\n",
            "425:\tlearn: 448326.7281754\ttotal: 4.91s\tremaining: 6.62s\n",
            "426:\tlearn: 448141.4740054\ttotal: 4.92s\tremaining: 6.61s\n",
            "427:\tlearn: 448019.0870393\ttotal: 4.93s\tremaining: 6.6s\n",
            "428:\tlearn: 447812.7102134\ttotal: 4.95s\tremaining: 6.58s\n",
            "429:\tlearn: 447557.2030431\ttotal: 4.96s\tremaining: 6.57s\n",
            "430:\tlearn: 447237.7520916\ttotal: 4.97s\tremaining: 6.56s\n",
            "431:\tlearn: 446846.4490406\ttotal: 4.98s\tremaining: 6.55s\n",
            "432:\tlearn: 446796.9832824\ttotal: 4.99s\tremaining: 6.54s\n",
            "433:\tlearn: 446643.2397230\ttotal: 5s\tremaining: 6.52s\n",
            "434:\tlearn: 446507.5559440\ttotal: 5.01s\tremaining: 6.51s\n",
            "435:\tlearn: 446434.8859196\ttotal: 5.02s\tremaining: 6.5s\n",
            "436:\tlearn: 446277.0773994\ttotal: 5.03s\tremaining: 6.49s\n",
            "437:\tlearn: 446181.0862699\ttotal: 5.04s\tremaining: 6.47s\n",
            "438:\tlearn: 446065.8921252\ttotal: 5.05s\tremaining: 6.46s\n",
            "439:\tlearn: 445890.4919808\ttotal: 5.07s\tremaining: 6.45s\n",
            "440:\tlearn: 445826.4910544\ttotal: 5.08s\tremaining: 6.43s\n",
            "441:\tlearn: 445660.7328796\ttotal: 5.09s\tremaining: 6.42s\n",
            "442:\tlearn: 444720.0031647\ttotal: 5.11s\tremaining: 6.42s\n",
            "443:\tlearn: 444536.2891426\ttotal: 5.12s\tremaining: 6.41s\n",
            "444:\tlearn: 444461.6567413\ttotal: 5.13s\tremaining: 6.4s\n",
            "445:\tlearn: 444332.7814455\ttotal: 5.14s\tremaining: 6.39s\n",
            "446:\tlearn: 444191.7543479\ttotal: 5.15s\tremaining: 6.37s\n",
            "447:\tlearn: 444088.1719198\ttotal: 5.16s\tremaining: 6.36s\n",
            "448:\tlearn: 443888.8094450\ttotal: 5.17s\tremaining: 6.35s\n",
            "449:\tlearn: 443816.6469631\ttotal: 5.18s\tremaining: 6.34s\n",
            "450:\tlearn: 443485.7932359\ttotal: 5.19s\tremaining: 6.32s\n",
            "451:\tlearn: 443283.1597347\ttotal: 5.21s\tremaining: 6.32s\n",
            "452:\tlearn: 443153.2107570\ttotal: 5.24s\tremaining: 6.32s\n",
            "453:\tlearn: 443025.2223716\ttotal: 5.25s\tremaining: 6.31s\n",
            "454:\tlearn: 442887.6398277\ttotal: 5.25s\tremaining: 6.29s\n",
            "455:\tlearn: 442648.0812718\ttotal: 5.27s\tremaining: 6.28s\n",
            "456:\tlearn: 442372.1147245\ttotal: 5.28s\tremaining: 6.27s\n",
            "457:\tlearn: 442262.8578759\ttotal: 5.29s\tremaining: 6.26s\n",
            "458:\tlearn: 442161.4746606\ttotal: 5.3s\tremaining: 6.25s\n",
            "459:\tlearn: 442038.1870528\ttotal: 5.32s\tremaining: 6.24s\n",
            "460:\tlearn: 441959.0975359\ttotal: 5.32s\tremaining: 6.22s\n",
            "461:\tlearn: 441904.1414759\ttotal: 5.34s\tremaining: 6.22s\n",
            "462:\tlearn: 441831.4655403\ttotal: 5.35s\tremaining: 6.2s\n",
            "463:\tlearn: 441694.0298795\ttotal: 5.36s\tremaining: 6.19s\n",
            "464:\tlearn: 441591.1187504\ttotal: 5.37s\tremaining: 6.18s\n",
            "465:\tlearn: 441484.1930294\ttotal: 5.38s\tremaining: 6.16s\n",
            "466:\tlearn: 441367.0754075\ttotal: 5.39s\tremaining: 6.15s\n",
            "467:\tlearn: 441293.3835732\ttotal: 5.4s\tremaining: 6.14s\n",
            "468:\tlearn: 441197.0199218\ttotal: 5.41s\tremaining: 6.13s\n",
            "469:\tlearn: 441126.6540311\ttotal: 5.42s\tremaining: 6.11s\n",
            "470:\tlearn: 440840.9705183\ttotal: 5.43s\tremaining: 6.1s\n",
            "471:\tlearn: 440762.4327743\ttotal: 5.44s\tremaining: 6.09s\n",
            "472:\tlearn: 440724.4952796\ttotal: 5.45s\tremaining: 6.07s\n",
            "473:\tlearn: 440607.1453358\ttotal: 5.46s\tremaining: 6.06s\n",
            "474:\tlearn: 440501.5570235\ttotal: 5.47s\tremaining: 6.05s\n",
            "475:\tlearn: 440358.4871505\ttotal: 5.48s\tremaining: 6.04s\n",
            "476:\tlearn: 440262.4340492\ttotal: 5.49s\tremaining: 6.02s\n",
            "477:\tlearn: 440162.7915581\ttotal: 5.5s\tremaining: 6.01s\n",
            "478:\tlearn: 440017.1811597\ttotal: 5.52s\tremaining: 6s\n",
            "479:\tlearn: 439231.7489477\ttotal: 5.53s\tremaining: 5.99s\n",
            "480:\tlearn: 439040.7688192\ttotal: 5.54s\tremaining: 5.97s\n",
            "481:\tlearn: 438904.2949293\ttotal: 5.55s\tremaining: 5.96s\n",
            "482:\tlearn: 438708.0734894\ttotal: 5.56s\tremaining: 5.95s\n",
            "483:\tlearn: 438613.5098499\ttotal: 5.57s\tremaining: 5.94s\n",
            "484:\tlearn: 438503.3850185\ttotal: 5.58s\tremaining: 5.93s\n",
            "485:\tlearn: 438411.5588387\ttotal: 5.59s\tremaining: 5.92s\n",
            "486:\tlearn: 438234.1371762\ttotal: 5.61s\tremaining: 5.91s\n",
            "487:\tlearn: 437909.1436759\ttotal: 5.62s\tremaining: 5.9s\n",
            "488:\tlearn: 437643.6567644\ttotal: 5.63s\tremaining: 5.88s\n",
            "489:\tlearn: 437551.8122392\ttotal: 5.64s\tremaining: 5.87s\n",
            "490:\tlearn: 437498.3728831\ttotal: 5.65s\tremaining: 5.86s\n",
            "491:\tlearn: 437412.6565906\ttotal: 5.66s\tremaining: 5.84s\n",
            "492:\tlearn: 437315.7957332\ttotal: 5.68s\tremaining: 5.84s\n",
            "493:\tlearn: 437186.1752439\ttotal: 5.69s\tremaining: 5.83s\n",
            "494:\tlearn: 437083.0870980\ttotal: 5.7s\tremaining: 5.82s\n",
            "495:\tlearn: 437038.7434635\ttotal: 5.72s\tremaining: 5.81s\n",
            "496:\tlearn: 436946.3952188\ttotal: 5.73s\tremaining: 5.8s\n",
            "497:\tlearn: 436833.2010103\ttotal: 5.74s\tremaining: 5.79s\n",
            "498:\tlearn: 436663.4057951\ttotal: 5.75s\tremaining: 5.77s\n",
            "499:\tlearn: 436582.7477205\ttotal: 5.76s\tremaining: 5.76s\n",
            "500:\tlearn: 436519.7115770\ttotal: 5.77s\tremaining: 5.75s\n",
            "501:\tlearn: 436432.8384915\ttotal: 5.78s\tremaining: 5.74s\n",
            "502:\tlearn: 436341.5515267\ttotal: 5.79s\tremaining: 5.72s\n",
            "503:\tlearn: 436242.6755144\ttotal: 5.8s\tremaining: 5.71s\n",
            "504:\tlearn: 435980.6840180\ttotal: 5.81s\tremaining: 5.7s\n",
            "505:\tlearn: 435849.3828910\ttotal: 5.82s\tremaining: 5.68s\n",
            "506:\tlearn: 435724.8834471\ttotal: 5.83s\tremaining: 5.67s\n",
            "507:\tlearn: 435584.5657219\ttotal: 5.85s\tremaining: 5.67s\n",
            "508:\tlearn: 435507.7254188\ttotal: 5.86s\tremaining: 5.65s\n",
            "509:\tlearn: 435404.3138003\ttotal: 5.87s\tremaining: 5.64s\n",
            "510:\tlearn: 435276.8094134\ttotal: 5.88s\tremaining: 5.63s\n",
            "511:\tlearn: 435177.7982094\ttotal: 5.89s\tremaining: 5.62s\n",
            "512:\tlearn: 434859.2350154\ttotal: 5.9s\tremaining: 5.61s\n",
            "513:\tlearn: 434747.1967553\ttotal: 5.91s\tremaining: 5.59s\n",
            "514:\tlearn: 434672.3617324\ttotal: 5.93s\tremaining: 5.58s\n",
            "515:\tlearn: 434559.2281110\ttotal: 5.94s\tremaining: 5.57s\n",
            "516:\tlearn: 434444.4406834\ttotal: 5.95s\tremaining: 5.56s\n",
            "517:\tlearn: 434243.9116625\ttotal: 5.96s\tremaining: 5.55s\n",
            "518:\tlearn: 434174.7143504\ttotal: 5.97s\tremaining: 5.53s\n",
            "519:\tlearn: 434068.9578683\ttotal: 5.98s\tremaining: 5.52s\n",
            "520:\tlearn: 433987.3386860\ttotal: 5.99s\tremaining: 5.51s\n",
            "521:\tlearn: 433886.5779932\ttotal: 6s\tremaining: 5.5s\n",
            "522:\tlearn: 433736.3578186\ttotal: 6.01s\tremaining: 5.48s\n",
            "523:\tlearn: 433661.5276807\ttotal: 6.02s\tremaining: 5.47s\n",
            "524:\tlearn: 433614.7185332\ttotal: 6.03s\tremaining: 5.46s\n",
            "525:\tlearn: 433420.3868784\ttotal: 6.04s\tremaining: 5.45s\n",
            "526:\tlearn: 433388.6012985\ttotal: 6.05s\tremaining: 5.43s\n",
            "527:\tlearn: 433188.8721110\ttotal: 6.07s\tremaining: 5.42s\n",
            "528:\tlearn: 433121.7145929\ttotal: 6.08s\tremaining: 5.41s\n",
            "529:\tlearn: 432937.1798623\ttotal: 6.09s\tremaining: 5.4s\n",
            "530:\tlearn: 432759.2024647\ttotal: 6.1s\tremaining: 5.39s\n",
            "531:\tlearn: 432690.8105344\ttotal: 6.11s\tremaining: 5.38s\n",
            "532:\tlearn: 432566.0639215\ttotal: 6.13s\tremaining: 5.37s\n",
            "533:\tlearn: 432488.4484436\ttotal: 6.14s\tremaining: 5.35s\n",
            "534:\tlearn: 432361.0844891\ttotal: 6.15s\tremaining: 5.34s\n",
            "535:\tlearn: 432237.0747491\ttotal: 6.16s\tremaining: 5.33s\n",
            "536:\tlearn: 432080.9539648\ttotal: 6.17s\tremaining: 5.32s\n",
            "537:\tlearn: 431856.4289185\ttotal: 6.18s\tremaining: 5.31s\n",
            "538:\tlearn: 431731.1552036\ttotal: 6.19s\tremaining: 5.29s\n",
            "539:\tlearn: 431542.4099889\ttotal: 6.2s\tremaining: 5.28s\n",
            "540:\tlearn: 431407.4091684\ttotal: 6.21s\tremaining: 5.27s\n",
            "541:\tlearn: 431219.4465264\ttotal: 6.22s\tremaining: 5.26s\n",
            "542:\tlearn: 431066.2004003\ttotal: 6.23s\tremaining: 5.25s\n",
            "543:\tlearn: 430933.8415165\ttotal: 6.24s\tremaining: 5.23s\n",
            "544:\tlearn: 430773.8223241\ttotal: 6.26s\tremaining: 5.22s\n",
            "545:\tlearn: 430556.0547437\ttotal: 6.27s\tremaining: 5.21s\n",
            "546:\tlearn: 430472.2044060\ttotal: 6.28s\tremaining: 5.2s\n",
            "547:\tlearn: 430368.8498610\ttotal: 6.29s\tremaining: 5.19s\n",
            "548:\tlearn: 430236.2416863\ttotal: 6.3s\tremaining: 5.17s\n",
            "549:\tlearn: 430088.2436902\ttotal: 6.31s\tremaining: 5.17s\n",
            "550:\tlearn: 429970.3272390\ttotal: 6.32s\tremaining: 5.15s\n",
            "551:\tlearn: 429835.5829224\ttotal: 6.33s\tremaining: 5.14s\n",
            "552:\tlearn: 429682.9572572\ttotal: 6.34s\tremaining: 5.13s\n",
            "553:\tlearn: 429570.3963998\ttotal: 6.36s\tremaining: 5.12s\n",
            "554:\tlearn: 429424.7787311\ttotal: 6.37s\tremaining: 5.1s\n",
            "555:\tlearn: 429391.5601118\ttotal: 6.38s\tremaining: 5.09s\n",
            "556:\tlearn: 429334.4029949\ttotal: 6.39s\tremaining: 5.08s\n",
            "557:\tlearn: 429282.6897502\ttotal: 6.4s\tremaining: 5.07s\n",
            "558:\tlearn: 428652.0966193\ttotal: 6.41s\tremaining: 5.06s\n",
            "559:\tlearn: 428371.8888114\ttotal: 6.42s\tremaining: 5.04s\n",
            "560:\tlearn: 428228.8191294\ttotal: 6.43s\tremaining: 5.03s\n",
            "561:\tlearn: 428196.3426438\ttotal: 6.44s\tremaining: 5.02s\n",
            "562:\tlearn: 428003.1313779\ttotal: 6.45s\tremaining: 5.01s\n",
            "563:\tlearn: 427901.8507707\ttotal: 6.46s\tremaining: 5s\n",
            "564:\tlearn: 427785.8857923\ttotal: 6.47s\tremaining: 4.99s\n",
            "565:\tlearn: 427656.9024430\ttotal: 6.49s\tremaining: 4.97s\n",
            "566:\tlearn: 427446.2791799\ttotal: 6.5s\tremaining: 4.96s\n",
            "567:\tlearn: 427361.4608706\ttotal: 6.51s\tremaining: 4.95s\n",
            "568:\tlearn: 427238.5198175\ttotal: 6.52s\tremaining: 4.94s\n",
            "569:\tlearn: 427194.7515580\ttotal: 6.53s\tremaining: 4.93s\n",
            "570:\tlearn: 427096.5189500\ttotal: 6.54s\tremaining: 4.92s\n",
            "571:\tlearn: 426988.4404599\ttotal: 6.55s\tremaining: 4.9s\n",
            "572:\tlearn: 426704.6458996\ttotal: 6.56s\tremaining: 4.89s\n",
            "573:\tlearn: 426591.5379853\ttotal: 6.58s\tremaining: 4.88s\n",
            "574:\tlearn: 426518.3544297\ttotal: 6.59s\tremaining: 4.87s\n",
            "575:\tlearn: 426404.0164494\ttotal: 6.6s\tremaining: 4.86s\n",
            "576:\tlearn: 426236.8176816\ttotal: 6.61s\tremaining: 4.85s\n",
            "577:\tlearn: 426163.4976276\ttotal: 6.63s\tremaining: 4.84s\n",
            "578:\tlearn: 426128.5850132\ttotal: 6.64s\tremaining: 4.83s\n",
            "579:\tlearn: 425997.0194977\ttotal: 6.65s\tremaining: 4.82s\n",
            "580:\tlearn: 425868.3641942\ttotal: 6.67s\tremaining: 4.81s\n",
            "581:\tlearn: 425696.4018935\ttotal: 6.68s\tremaining: 4.8s\n",
            "582:\tlearn: 425599.4592803\ttotal: 6.69s\tremaining: 4.79s\n",
            "583:\tlearn: 425529.5978161\ttotal: 6.7s\tremaining: 4.77s\n",
            "584:\tlearn: 425505.1096253\ttotal: 6.71s\tremaining: 4.76s\n",
            "585:\tlearn: 425440.9869917\ttotal: 6.73s\tremaining: 4.75s\n",
            "586:\tlearn: 425334.8003989\ttotal: 6.74s\tremaining: 4.74s\n",
            "587:\tlearn: 425257.1905248\ttotal: 6.75s\tremaining: 4.73s\n",
            "588:\tlearn: 425185.1066653\ttotal: 6.76s\tremaining: 4.72s\n",
            "589:\tlearn: 425093.3614128\ttotal: 6.77s\tremaining: 4.71s\n",
            "590:\tlearn: 425003.4313515\ttotal: 6.78s\tremaining: 4.7s\n",
            "591:\tlearn: 424927.7623840\ttotal: 6.8s\tremaining: 4.68s\n",
            "592:\tlearn: 424861.4005607\ttotal: 6.81s\tremaining: 4.67s\n",
            "593:\tlearn: 424767.9234238\ttotal: 6.82s\tremaining: 4.66s\n",
            "594:\tlearn: 424763.1752805\ttotal: 6.83s\tremaining: 4.65s\n",
            "595:\tlearn: 424704.0994710\ttotal: 6.84s\tremaining: 4.64s\n",
            "596:\tlearn: 424577.1391766\ttotal: 6.86s\tremaining: 4.63s\n",
            "597:\tlearn: 424524.6090117\ttotal: 6.87s\tremaining: 4.62s\n",
            "598:\tlearn: 424424.4792166\ttotal: 6.88s\tremaining: 4.61s\n",
            "599:\tlearn: 424293.9359349\ttotal: 6.89s\tremaining: 4.59s\n",
            "600:\tlearn: 424225.6660977\ttotal: 6.9s\tremaining: 4.58s\n",
            "601:\tlearn: 424111.4475892\ttotal: 6.91s\tremaining: 4.57s\n",
            "602:\tlearn: 424054.3160517\ttotal: 6.92s\tremaining: 4.56s\n",
            "603:\tlearn: 423991.0921042\ttotal: 6.93s\tremaining: 4.55s\n",
            "604:\tlearn: 423909.5684548\ttotal: 6.95s\tremaining: 4.54s\n",
            "605:\tlearn: 423731.7596223\ttotal: 6.96s\tremaining: 4.52s\n",
            "606:\tlearn: 423653.8744758\ttotal: 6.97s\tremaining: 4.51s\n",
            "607:\tlearn: 423547.5393813\ttotal: 6.98s\tremaining: 4.5s\n",
            "608:\tlearn: 423490.2922762\ttotal: 6.99s\tremaining: 4.49s\n",
            "609:\tlearn: 423332.6515892\ttotal: 7s\tremaining: 4.48s\n",
            "610:\tlearn: 423258.8940163\ttotal: 7.02s\tremaining: 4.47s\n",
            "611:\tlearn: 423167.1832829\ttotal: 7.03s\tremaining: 4.46s\n",
            "612:\tlearn: 422960.1328400\ttotal: 7.04s\tremaining: 4.44s\n",
            "613:\tlearn: 422851.8460264\ttotal: 7.05s\tremaining: 4.43s\n",
            "614:\tlearn: 422745.5273980\ttotal: 7.06s\tremaining: 4.42s\n",
            "615:\tlearn: 422662.0397264\ttotal: 7.07s\tremaining: 4.41s\n",
            "616:\tlearn: 422592.4505730\ttotal: 7.08s\tremaining: 4.4s\n",
            "617:\tlearn: 422524.2169632\ttotal: 7.09s\tremaining: 4.38s\n",
            "618:\tlearn: 422423.0856090\ttotal: 7.1s\tremaining: 4.37s\n",
            "619:\tlearn: 422302.8404046\ttotal: 7.12s\tremaining: 4.36s\n",
            "620:\tlearn: 422169.6786635\ttotal: 7.13s\tremaining: 4.35s\n",
            "621:\tlearn: 422098.4259208\ttotal: 7.14s\tremaining: 4.34s\n",
            "622:\tlearn: 422018.8442368\ttotal: 7.16s\tremaining: 4.33s\n",
            "623:\tlearn: 421475.0939906\ttotal: 7.17s\tremaining: 4.32s\n",
            "624:\tlearn: 421427.6401809\ttotal: 7.18s\tremaining: 4.31s\n",
            "625:\tlearn: 421337.4739695\ttotal: 7.19s\tremaining: 4.29s\n",
            "626:\tlearn: 421210.3566103\ttotal: 7.2s\tremaining: 4.28s\n",
            "627:\tlearn: 421103.7412350\ttotal: 7.21s\tremaining: 4.27s\n",
            "628:\tlearn: 421028.9666525\ttotal: 7.22s\tremaining: 4.26s\n",
            "629:\tlearn: 420915.5331848\ttotal: 7.23s\tremaining: 4.25s\n",
            "630:\tlearn: 420823.7711192\ttotal: 7.24s\tremaining: 4.24s\n",
            "631:\tlearn: 420706.3545145\ttotal: 7.25s\tremaining: 4.22s\n",
            "632:\tlearn: 420638.6455927\ttotal: 7.27s\tremaining: 4.21s\n",
            "633:\tlearn: 420595.4392641\ttotal: 7.28s\tremaining: 4.2s\n",
            "634:\tlearn: 420513.7360987\ttotal: 7.29s\tremaining: 4.19s\n",
            "635:\tlearn: 420291.0559332\ttotal: 7.3s\tremaining: 4.18s\n",
            "636:\tlearn: 420247.1046775\ttotal: 7.31s\tremaining: 4.17s\n",
            "637:\tlearn: 420155.7503089\ttotal: 7.32s\tremaining: 4.15s\n",
            "638:\tlearn: 420123.5755910\ttotal: 7.33s\tremaining: 4.14s\n",
            "639:\tlearn: 420050.9006981\ttotal: 7.35s\tremaining: 4.13s\n",
            "640:\tlearn: 419963.7931428\ttotal: 7.36s\tremaining: 4.12s\n",
            "641:\tlearn: 419868.1320290\ttotal: 7.37s\tremaining: 4.11s\n",
            "642:\tlearn: 419773.1281823\ttotal: 7.38s\tremaining: 4.1s\n",
            "643:\tlearn: 419722.2884327\ttotal: 7.39s\tremaining: 4.08s\n",
            "644:\tlearn: 419621.1691483\ttotal: 7.4s\tremaining: 4.07s\n",
            "645:\tlearn: 419499.4269932\ttotal: 7.41s\tremaining: 4.06s\n",
            "646:\tlearn: 419234.2934309\ttotal: 7.42s\tremaining: 4.05s\n",
            "647:\tlearn: 419185.4963261\ttotal: 7.43s\tremaining: 4.04s\n",
            "648:\tlearn: 419029.3613703\ttotal: 7.44s\tremaining: 4.03s\n",
            "649:\tlearn: 418946.9926479\ttotal: 7.46s\tremaining: 4.02s\n",
            "650:\tlearn: 418927.5800924\ttotal: 7.47s\tremaining: 4s\n",
            "651:\tlearn: 418868.6511369\ttotal: 7.48s\tremaining: 3.99s\n",
            "652:\tlearn: 418827.2891611\ttotal: 7.49s\tremaining: 3.98s\n",
            "653:\tlearn: 418653.3606744\ttotal: 7.5s\tremaining: 3.97s\n",
            "654:\tlearn: 418562.2603624\ttotal: 7.51s\tremaining: 3.96s\n",
            "655:\tlearn: 418485.2596706\ttotal: 7.53s\tremaining: 3.95s\n",
            "656:\tlearn: 418408.3283559\ttotal: 7.54s\tremaining: 3.94s\n",
            "657:\tlearn: 418365.2756828\ttotal: 7.55s\tremaining: 3.92s\n",
            "658:\tlearn: 418269.9264921\ttotal: 7.57s\tremaining: 3.92s\n",
            "659:\tlearn: 418199.1372455\ttotal: 7.58s\tremaining: 3.9s\n",
            "660:\tlearn: 418093.6349392\ttotal: 7.59s\tremaining: 3.89s\n",
            "661:\tlearn: 417964.2390088\ttotal: 7.6s\tremaining: 3.88s\n",
            "662:\tlearn: 417874.8847342\ttotal: 7.61s\tremaining: 3.87s\n",
            "663:\tlearn: 417782.4388800\ttotal: 7.62s\tremaining: 3.86s\n",
            "664:\tlearn: 417675.2219632\ttotal: 7.63s\tremaining: 3.85s\n",
            "665:\tlearn: 417613.3949327\ttotal: 7.66s\tremaining: 3.84s\n",
            "666:\tlearn: 417497.5831313\ttotal: 7.67s\tremaining: 3.83s\n",
            "667:\tlearn: 417436.7386369\ttotal: 7.68s\tremaining: 3.82s\n",
            "668:\tlearn: 417281.6886552\ttotal: 7.7s\tremaining: 3.81s\n",
            "669:\tlearn: 417146.9877907\ttotal: 7.71s\tremaining: 3.8s\n",
            "670:\tlearn: 416928.3810733\ttotal: 7.72s\tremaining: 3.78s\n",
            "671:\tlearn: 416830.4759112\ttotal: 7.73s\tremaining: 3.77s\n",
            "672:\tlearn: 416698.3653207\ttotal: 7.74s\tremaining: 3.76s\n",
            "673:\tlearn: 416600.2791835\ttotal: 7.75s\tremaining: 3.75s\n",
            "674:\tlearn: 416517.6899860\ttotal: 7.76s\tremaining: 3.74s\n",
            "675:\tlearn: 416459.5008625\ttotal: 7.78s\tremaining: 3.73s\n",
            "676:\tlearn: 416354.5370455\ttotal: 7.79s\tremaining: 3.71s\n",
            "677:\tlearn: 416279.3480847\ttotal: 7.8s\tremaining: 3.7s\n",
            "678:\tlearn: 416201.2012676\ttotal: 7.81s\tremaining: 3.69s\n",
            "679:\tlearn: 416146.0294581\ttotal: 7.82s\tremaining: 3.68s\n",
            "680:\tlearn: 416030.1093718\ttotal: 7.83s\tremaining: 3.67s\n",
            "681:\tlearn: 415929.6933711\ttotal: 7.84s\tremaining: 3.66s\n",
            "682:\tlearn: 415833.1136407\ttotal: 7.86s\tremaining: 3.65s\n",
            "683:\tlearn: 415712.5469383\ttotal: 7.87s\tremaining: 3.63s\n",
            "684:\tlearn: 415601.1249534\ttotal: 7.88s\tremaining: 3.62s\n",
            "685:\tlearn: 415494.9499971\ttotal: 7.89s\tremaining: 3.61s\n",
            "686:\tlearn: 415262.4510463\ttotal: 7.9s\tremaining: 3.6s\n",
            "687:\tlearn: 415128.0548390\ttotal: 7.91s\tremaining: 3.59s\n",
            "688:\tlearn: 415079.6699612\ttotal: 7.92s\tremaining: 3.58s\n",
            "689:\tlearn: 414985.9616775\ttotal: 7.93s\tremaining: 3.56s\n",
            "690:\tlearn: 414888.9974252\ttotal: 7.94s\tremaining: 3.55s\n",
            "691:\tlearn: 414688.0377639\ttotal: 7.96s\tremaining: 3.54s\n",
            "692:\tlearn: 414603.2706597\ttotal: 7.97s\tremaining: 3.53s\n",
            "693:\tlearn: 414478.6879803\ttotal: 7.99s\tremaining: 3.52s\n",
            "694:\tlearn: 414360.7711628\ttotal: 8s\tremaining: 3.51s\n",
            "695:\tlearn: 414278.7965042\ttotal: 8.01s\tremaining: 3.5s\n",
            "696:\tlearn: 414112.6244829\ttotal: 8.02s\tremaining: 3.48s\n",
            "697:\tlearn: 414047.0775189\ttotal: 8.03s\tremaining: 3.47s\n",
            "698:\tlearn: 414004.6721061\ttotal: 8.04s\tremaining: 3.46s\n",
            "699:\tlearn: 413980.1339760\ttotal: 8.05s\tremaining: 3.45s\n",
            "700:\tlearn: 413913.1257666\ttotal: 8.06s\tremaining: 3.44s\n",
            "701:\tlearn: 413809.8733171\ttotal: 8.07s\tremaining: 3.43s\n",
            "702:\tlearn: 413645.6365113\ttotal: 8.08s\tremaining: 3.41s\n",
            "703:\tlearn: 413539.1953153\ttotal: 8.09s\tremaining: 3.4s\n",
            "704:\tlearn: 413456.8295356\ttotal: 8.1s\tremaining: 3.39s\n",
            "705:\tlearn: 413404.2189743\ttotal: 8.12s\tremaining: 3.38s\n",
            "706:\tlearn: 413306.8565751\ttotal: 8.13s\tremaining: 3.37s\n",
            "707:\tlearn: 413255.4216677\ttotal: 8.14s\tremaining: 3.36s\n",
            "708:\tlearn: 413145.7746059\ttotal: 8.15s\tremaining: 3.34s\n",
            "709:\tlearn: 413076.8639291\ttotal: 8.16s\tremaining: 3.33s\n",
            "710:\tlearn: 413033.0060015\ttotal: 8.18s\tremaining: 3.32s\n",
            "711:\tlearn: 412971.0920056\ttotal: 8.19s\tremaining: 3.31s\n",
            "712:\tlearn: 412909.2140904\ttotal: 8.2s\tremaining: 3.3s\n",
            "713:\tlearn: 412798.3099807\ttotal: 8.21s\tremaining: 3.29s\n",
            "714:\tlearn: 412704.4899153\ttotal: 8.23s\tremaining: 3.28s\n",
            "715:\tlearn: 412644.9671158\ttotal: 8.24s\tremaining: 3.27s\n",
            "716:\tlearn: 412596.6425821\ttotal: 8.25s\tremaining: 3.26s\n",
            "717:\tlearn: 412522.0717273\ttotal: 8.26s\tremaining: 3.25s\n",
            "718:\tlearn: 412447.7884784\ttotal: 8.27s\tremaining: 3.23s\n",
            "719:\tlearn: 412300.7920934\ttotal: 8.28s\tremaining: 3.22s\n",
            "720:\tlearn: 412238.0728090\ttotal: 8.3s\tremaining: 3.21s\n",
            "721:\tlearn: 412169.5593254\ttotal: 8.31s\tremaining: 3.2s\n",
            "722:\tlearn: 412085.6337160\ttotal: 8.32s\tremaining: 3.19s\n",
            "723:\tlearn: 412031.3891945\ttotal: 8.33s\tremaining: 3.17s\n",
            "724:\tlearn: 411981.7330991\ttotal: 8.34s\tremaining: 3.16s\n",
            "725:\tlearn: 411860.6386380\ttotal: 8.35s\tremaining: 3.15s\n",
            "726:\tlearn: 411823.7387572\ttotal: 8.37s\tremaining: 3.14s\n",
            "727:\tlearn: 411754.5228498\ttotal: 8.38s\tremaining: 3.13s\n",
            "728:\tlearn: 411696.1760474\ttotal: 8.39s\tremaining: 3.12s\n",
            "729:\tlearn: 411642.9872506\ttotal: 8.4s\tremaining: 3.11s\n",
            "730:\tlearn: 411538.9068400\ttotal: 8.41s\tremaining: 3.1s\n",
            "731:\tlearn: 411485.8159682\ttotal: 8.43s\tremaining: 3.09s\n",
            "732:\tlearn: 411426.2986488\ttotal: 8.45s\tremaining: 3.08s\n",
            "733:\tlearn: 411370.5856713\ttotal: 8.46s\tremaining: 3.06s\n",
            "734:\tlearn: 411315.9776072\ttotal: 8.47s\tremaining: 3.05s\n",
            "735:\tlearn: 411226.3713764\ttotal: 8.48s\tremaining: 3.04s\n",
            "736:\tlearn: 411162.0624196\ttotal: 8.49s\tremaining: 3.03s\n",
            "737:\tlearn: 411101.0398576\ttotal: 8.51s\tremaining: 3.02s\n",
            "738:\tlearn: 410994.7649894\ttotal: 8.52s\tremaining: 3.01s\n",
            "739:\tlearn: 410942.0979226\ttotal: 8.53s\tremaining: 3s\n",
            "740:\tlearn: 410761.8644433\ttotal: 8.54s\tremaining: 2.98s\n",
            "741:\tlearn: 410728.6573773\ttotal: 8.55s\tremaining: 2.97s\n",
            "742:\tlearn: 410666.4826684\ttotal: 8.56s\tremaining: 2.96s\n",
            "743:\tlearn: 410570.2575368\ttotal: 8.58s\tremaining: 2.95s\n",
            "744:\tlearn: 410461.8547664\ttotal: 8.59s\tremaining: 2.94s\n",
            "745:\tlearn: 410429.0396314\ttotal: 8.6s\tremaining: 2.93s\n",
            "746:\tlearn: 410311.9720330\ttotal: 8.61s\tremaining: 2.92s\n",
            "747:\tlearn: 410239.5502114\ttotal: 8.62s\tremaining: 2.9s\n",
            "748:\tlearn: 410148.1136337\ttotal: 8.64s\tremaining: 2.89s\n",
            "749:\tlearn: 410016.1482475\ttotal: 8.65s\tremaining: 2.88s\n",
            "750:\tlearn: 409933.7184145\ttotal: 8.66s\tremaining: 2.87s\n",
            "751:\tlearn: 409778.6815146\ttotal: 8.67s\tremaining: 2.86s\n",
            "752:\tlearn: 409692.7675026\ttotal: 8.68s\tremaining: 2.85s\n",
            "753:\tlearn: 409623.5623986\ttotal: 8.7s\tremaining: 2.84s\n",
            "754:\tlearn: 409535.5371986\ttotal: 8.71s\tremaining: 2.83s\n",
            "755:\tlearn: 409371.2579405\ttotal: 8.72s\tremaining: 2.81s\n",
            "756:\tlearn: 409260.2597028\ttotal: 8.73s\tremaining: 2.8s\n",
            "757:\tlearn: 409193.0281935\ttotal: 8.75s\tremaining: 2.79s\n",
            "758:\tlearn: 409135.9608432\ttotal: 8.76s\tremaining: 2.78s\n",
            "759:\tlearn: 409050.1251962\ttotal: 8.77s\tremaining: 2.77s\n",
            "760:\tlearn: 408952.3405643\ttotal: 8.79s\tremaining: 2.76s\n",
            "761:\tlearn: 408896.8527464\ttotal: 8.8s\tremaining: 2.75s\n",
            "762:\tlearn: 408825.7233598\ttotal: 8.81s\tremaining: 2.74s\n",
            "763:\tlearn: 408734.2631989\ttotal: 8.83s\tremaining: 2.73s\n",
            "764:\tlearn: 408672.7906881\ttotal: 8.84s\tremaining: 2.71s\n",
            "765:\tlearn: 408559.4391166\ttotal: 8.85s\tremaining: 2.7s\n",
            "766:\tlearn: 408495.2509120\ttotal: 8.86s\tremaining: 2.69s\n",
            "767:\tlearn: 408474.1014578\ttotal: 8.87s\tremaining: 2.68s\n",
            "768:\tlearn: 408408.4086828\ttotal: 8.88s\tremaining: 2.67s\n",
            "769:\tlearn: 408262.0654462\ttotal: 8.89s\tremaining: 2.65s\n",
            "770:\tlearn: 408219.0549980\ttotal: 8.9s\tremaining: 2.64s\n",
            "771:\tlearn: 408111.6660765\ttotal: 8.91s\tremaining: 2.63s\n",
            "772:\tlearn: 407905.3291603\ttotal: 8.93s\tremaining: 2.62s\n",
            "773:\tlearn: 407852.1144724\ttotal: 8.94s\tremaining: 2.61s\n",
            "774:\tlearn: 407787.3125579\ttotal: 8.95s\tremaining: 2.6s\n",
            "775:\tlearn: 407693.8382825\ttotal: 8.96s\tremaining: 2.58s\n",
            "776:\tlearn: 407631.5336762\ttotal: 8.97s\tremaining: 2.57s\n",
            "777:\tlearn: 407574.9583239\ttotal: 8.98s\tremaining: 2.56s\n",
            "778:\tlearn: 407529.6890031\ttotal: 9s\tremaining: 2.55s\n",
            "779:\tlearn: 407397.1344392\ttotal: 9.01s\tremaining: 2.54s\n",
            "780:\tlearn: 407316.4093852\ttotal: 9.03s\tremaining: 2.53s\n",
            "781:\tlearn: 407254.0469958\ttotal: 9.04s\tremaining: 2.52s\n",
            "782:\tlearn: 407196.6262651\ttotal: 9.05s\tremaining: 2.51s\n",
            "783:\tlearn: 407143.6429927\ttotal: 9.06s\tremaining: 2.5s\n",
            "784:\tlearn: 407099.5549632\ttotal: 9.07s\tremaining: 2.48s\n",
            "785:\tlearn: 406932.3014273\ttotal: 9.08s\tremaining: 2.47s\n",
            "786:\tlearn: 406824.3088678\ttotal: 9.09s\tremaining: 2.46s\n",
            "787:\tlearn: 406794.0151125\ttotal: 9.1s\tremaining: 2.45s\n",
            "788:\tlearn: 406747.7486037\ttotal: 9.11s\tremaining: 2.44s\n",
            "789:\tlearn: 406650.5489829\ttotal: 9.12s\tremaining: 2.42s\n",
            "790:\tlearn: 406576.0114916\ttotal: 9.13s\tremaining: 2.41s\n",
            "791:\tlearn: 406505.7816740\ttotal: 9.14s\tremaining: 2.4s\n",
            "792:\tlearn: 406448.4153522\ttotal: 9.15s\tremaining: 2.39s\n",
            "793:\tlearn: 406264.6163595\ttotal: 9.17s\tremaining: 2.38s\n",
            "794:\tlearn: 406149.1252046\ttotal: 9.18s\tremaining: 2.37s\n",
            "795:\tlearn: 406086.4857462\ttotal: 9.19s\tremaining: 2.35s\n",
            "796:\tlearn: 406030.9745803\ttotal: 9.2s\tremaining: 2.34s\n",
            "797:\tlearn: 405916.2121337\ttotal: 9.21s\tremaining: 2.33s\n",
            "798:\tlearn: 405869.2245398\ttotal: 9.23s\tremaining: 2.32s\n",
            "799:\tlearn: 405797.9332155\ttotal: 9.24s\tremaining: 2.31s\n",
            "800:\tlearn: 405758.7987327\ttotal: 9.25s\tremaining: 2.3s\n",
            "801:\tlearn: 405670.4907864\ttotal: 9.26s\tremaining: 2.29s\n",
            "802:\tlearn: 405641.5273408\ttotal: 9.28s\tremaining: 2.27s\n",
            "803:\tlearn: 405591.4378402\ttotal: 9.29s\tremaining: 2.26s\n",
            "804:\tlearn: 405443.2627755\ttotal: 9.3s\tremaining: 2.25s\n",
            "805:\tlearn: 405395.0194562\ttotal: 9.31s\tremaining: 2.24s\n",
            "806:\tlearn: 405344.8935988\ttotal: 9.32s\tremaining: 2.23s\n",
            "807:\tlearn: 405300.2708539\ttotal: 9.33s\tremaining: 2.22s\n",
            "808:\tlearn: 405205.5469264\ttotal: 9.34s\tremaining: 2.21s\n",
            "809:\tlearn: 405168.8161320\ttotal: 9.35s\tremaining: 2.19s\n",
            "810:\tlearn: 405126.3701651\ttotal: 9.36s\tremaining: 2.18s\n",
            "811:\tlearn: 405050.0376893\ttotal: 9.37s\tremaining: 2.17s\n",
            "812:\tlearn: 404987.0414228\ttotal: 9.38s\tremaining: 2.16s\n",
            "813:\tlearn: 404932.8491891\ttotal: 9.4s\tremaining: 2.15s\n",
            "814:\tlearn: 404886.4295764\ttotal: 9.41s\tremaining: 2.14s\n",
            "815:\tlearn: 404825.7793261\ttotal: 9.42s\tremaining: 2.12s\n",
            "816:\tlearn: 404680.7749087\ttotal: 9.43s\tremaining: 2.11s\n",
            "817:\tlearn: 404588.2016567\ttotal: 9.44s\tremaining: 2.1s\n",
            "818:\tlearn: 404529.8388059\ttotal: 9.45s\tremaining: 2.09s\n",
            "819:\tlearn: 404471.3591113\ttotal: 9.46s\tremaining: 2.08s\n",
            "820:\tlearn: 404416.9272364\ttotal: 9.48s\tremaining: 2.07s\n",
            "821:\tlearn: 404358.0517230\ttotal: 9.49s\tremaining: 2.05s\n",
            "822:\tlearn: 404281.3488441\ttotal: 9.5s\tremaining: 2.04s\n",
            "823:\tlearn: 404247.8931250\ttotal: 9.52s\tremaining: 2.03s\n",
            "824:\tlearn: 404143.6369609\ttotal: 9.53s\tremaining: 2.02s\n",
            "825:\tlearn: 404030.2040686\ttotal: 9.54s\tremaining: 2.01s\n",
            "826:\tlearn: 403975.1899256\ttotal: 9.55s\tremaining: 2s\n",
            "827:\tlearn: 403920.2528251\ttotal: 9.56s\tremaining: 1.99s\n",
            "828:\tlearn: 403869.8920794\ttotal: 9.57s\tremaining: 1.97s\n",
            "829:\tlearn: 403824.0442359\ttotal: 9.58s\tremaining: 1.96s\n",
            "830:\tlearn: 403749.5312078\ttotal: 9.59s\tremaining: 1.95s\n",
            "831:\tlearn: 403731.1171818\ttotal: 9.6s\tremaining: 1.94s\n",
            "832:\tlearn: 403677.4876421\ttotal: 9.62s\tremaining: 1.93s\n",
            "833:\tlearn: 403607.0876853\ttotal: 9.63s\tremaining: 1.92s\n",
            "834:\tlearn: 403530.1213031\ttotal: 9.65s\tremaining: 1.91s\n",
            "835:\tlearn: 403474.7906263\ttotal: 9.67s\tremaining: 1.9s\n",
            "836:\tlearn: 403422.0625018\ttotal: 9.68s\tremaining: 1.88s\n",
            "837:\tlearn: 403387.9174394\ttotal: 9.69s\tremaining: 1.87s\n",
            "838:\tlearn: 403326.9440999\ttotal: 9.7s\tremaining: 1.86s\n",
            "839:\tlearn: 403242.1369028\ttotal: 9.71s\tremaining: 1.85s\n",
            "840:\tlearn: 403188.1165238\ttotal: 9.72s\tremaining: 1.84s\n",
            "841:\tlearn: 403150.9232195\ttotal: 9.73s\tremaining: 1.83s\n",
            "842:\tlearn: 403113.3839827\ttotal: 9.74s\tremaining: 1.81s\n",
            "843:\tlearn: 403081.7393466\ttotal: 9.75s\tremaining: 1.8s\n",
            "844:\tlearn: 403046.3702278\ttotal: 9.77s\tremaining: 1.79s\n",
            "845:\tlearn: 402992.1243151\ttotal: 9.78s\tremaining: 1.78s\n",
            "846:\tlearn: 402919.1572907\ttotal: 9.79s\tremaining: 1.77s\n",
            "847:\tlearn: 402878.2862942\ttotal: 9.8s\tremaining: 1.76s\n",
            "848:\tlearn: 402779.7324986\ttotal: 9.82s\tremaining: 1.75s\n",
            "849:\tlearn: 402647.8226861\ttotal: 9.83s\tremaining: 1.73s\n",
            "850:\tlearn: 402552.9196251\ttotal: 9.84s\tremaining: 1.72s\n",
            "851:\tlearn: 402487.5548609\ttotal: 9.85s\tremaining: 1.71s\n",
            "852:\tlearn: 402425.3301900\ttotal: 9.86s\tremaining: 1.7s\n",
            "853:\tlearn: 402358.6059936\ttotal: 9.87s\tremaining: 1.69s\n",
            "854:\tlearn: 402240.4299357\ttotal: 9.88s\tremaining: 1.68s\n",
            "855:\tlearn: 402214.9409394\ttotal: 9.89s\tremaining: 1.66s\n",
            "856:\tlearn: 402121.2039102\ttotal: 9.91s\tremaining: 1.65s\n",
            "857:\tlearn: 402046.6538286\ttotal: 9.92s\tremaining: 1.64s\n",
            "858:\tlearn: 402025.8608143\ttotal: 9.93s\tremaining: 1.63s\n",
            "859:\tlearn: 401950.8435205\ttotal: 9.94s\tremaining: 1.62s\n",
            "860:\tlearn: 401894.3724807\ttotal: 9.95s\tremaining: 1.61s\n",
            "861:\tlearn: 401863.1463492\ttotal: 9.96s\tremaining: 1.59s\n",
            "862:\tlearn: 401799.2543712\ttotal: 9.97s\tremaining: 1.58s\n",
            "863:\tlearn: 401705.7044543\ttotal: 9.98s\tremaining: 1.57s\n",
            "864:\tlearn: 401659.3429146\ttotal: 9.99s\tremaining: 1.56s\n",
            "865:\tlearn: 401600.0022780\ttotal: 10s\tremaining: 1.55s\n",
            "866:\tlearn: 401506.1913222\ttotal: 10s\tremaining: 1.54s\n",
            "867:\tlearn: 401392.4250091\ttotal: 10s\tremaining: 1.53s\n",
            "868:\tlearn: 401352.4595668\ttotal: 10s\tremaining: 1.51s\n",
            "869:\tlearn: 401264.6816425\ttotal: 10.1s\tremaining: 1.5s\n",
            "870:\tlearn: 401228.8435953\ttotal: 10.1s\tremaining: 1.49s\n",
            "871:\tlearn: 401190.7016855\ttotal: 10.1s\tremaining: 1.48s\n",
            "872:\tlearn: 401139.4206593\ttotal: 10.1s\tremaining: 1.47s\n",
            "873:\tlearn: 401103.8736509\ttotal: 10.1s\tremaining: 1.46s\n",
            "874:\tlearn: 401039.2961823\ttotal: 10.1s\tremaining: 1.44s\n",
            "875:\tlearn: 400978.1825687\ttotal: 10.1s\tremaining: 1.43s\n",
            "876:\tlearn: 400905.3793991\ttotal: 10.1s\tremaining: 1.42s\n",
            "877:\tlearn: 400850.2980353\ttotal: 10.1s\tremaining: 1.41s\n",
            "878:\tlearn: 400804.3878286\ttotal: 10.2s\tremaining: 1.4s\n",
            "879:\tlearn: 400765.7452141\ttotal: 10.2s\tremaining: 1.39s\n",
            "880:\tlearn: 400732.0692635\ttotal: 10.2s\tremaining: 1.37s\n",
            "881:\tlearn: 400675.5368438\ttotal: 10.2s\tremaining: 1.36s\n",
            "882:\tlearn: 400638.0004305\ttotal: 10.2s\tremaining: 1.35s\n",
            "883:\tlearn: 400562.9310568\ttotal: 10.2s\tremaining: 1.34s\n",
            "884:\tlearn: 400518.3586557\ttotal: 10.2s\tremaining: 1.33s\n",
            "885:\tlearn: 400471.3510795\ttotal: 10.2s\tremaining: 1.32s\n",
            "886:\tlearn: 400433.3583668\ttotal: 10.2s\tremaining: 1.3s\n",
            "887:\tlearn: 400320.5159738\ttotal: 10.3s\tremaining: 1.29s\n",
            "888:\tlearn: 400254.7270929\ttotal: 10.3s\tremaining: 1.28s\n",
            "889:\tlearn: 400127.2989175\ttotal: 10.3s\tremaining: 1.27s\n",
            "890:\tlearn: 400076.6022606\ttotal: 10.3s\tremaining: 1.26s\n",
            "891:\tlearn: 399959.5490945\ttotal: 10.3s\tremaining: 1.25s\n",
            "892:\tlearn: 399892.4302560\ttotal: 10.3s\tremaining: 1.24s\n",
            "893:\tlearn: 399811.0188551\ttotal: 10.3s\tremaining: 1.22s\n",
            "894:\tlearn: 399793.8492936\ttotal: 10.3s\tremaining: 1.21s\n",
            "895:\tlearn: 399633.8938371\ttotal: 10.3s\tremaining: 1.2s\n",
            "896:\tlearn: 399589.5852086\ttotal: 10.4s\tremaining: 1.19s\n",
            "897:\tlearn: 399507.4625996\ttotal: 10.4s\tremaining: 1.18s\n",
            "898:\tlearn: 399443.1302422\ttotal: 10.4s\tremaining: 1.17s\n",
            "899:\tlearn: 399386.2663835\ttotal: 10.4s\tremaining: 1.15s\n",
            "900:\tlearn: 399328.7412271\ttotal: 10.4s\tremaining: 1.14s\n",
            "901:\tlearn: 399283.6150388\ttotal: 10.4s\tremaining: 1.13s\n",
            "902:\tlearn: 399195.5907969\ttotal: 10.4s\tremaining: 1.12s\n",
            "903:\tlearn: 399098.7263051\ttotal: 10.4s\tremaining: 1.11s\n",
            "904:\tlearn: 398971.8940988\ttotal: 10.4s\tremaining: 1.1s\n",
            "905:\tlearn: 398920.7914809\ttotal: 10.5s\tremaining: 1.08s\n",
            "906:\tlearn: 398909.1923052\ttotal: 10.5s\tremaining: 1.07s\n",
            "907:\tlearn: 398869.4054229\ttotal: 10.5s\tremaining: 1.06s\n",
            "908:\tlearn: 398831.4647830\ttotal: 10.5s\tremaining: 1.05s\n",
            "909:\tlearn: 398758.1347249\ttotal: 10.5s\tremaining: 1.04s\n",
            "910:\tlearn: 398726.2036845\ttotal: 10.5s\tremaining: 1.03s\n",
            "911:\tlearn: 398682.2171069\ttotal: 10.5s\tremaining: 1.01s\n",
            "912:\tlearn: 398651.9048796\ttotal: 10.5s\tremaining: 1s\n",
            "913:\tlearn: 398603.5243122\ttotal: 10.5s\tremaining: 993ms\n",
            "914:\tlearn: 398529.0774007\ttotal: 10.6s\tremaining: 981ms\n",
            "915:\tlearn: 398491.6844005\ttotal: 10.6s\tremaining: 969ms\n",
            "916:\tlearn: 398413.4909494\ttotal: 10.6s\tremaining: 958ms\n",
            "917:\tlearn: 398368.1913538\ttotal: 10.6s\tremaining: 946ms\n",
            "918:\tlearn: 398293.2064441\ttotal: 10.6s\tremaining: 935ms\n",
            "919:\tlearn: 398225.8827768\ttotal: 10.6s\tremaining: 923ms\n",
            "920:\tlearn: 398169.2085494\ttotal: 10.6s\tremaining: 913ms\n",
            "921:\tlearn: 398127.6182931\ttotal: 10.7s\tremaining: 901ms\n",
            "922:\tlearn: 398058.6490611\ttotal: 10.7s\tremaining: 890ms\n",
            "923:\tlearn: 398013.8942041\ttotal: 10.7s\tremaining: 878ms\n",
            "924:\tlearn: 397940.5192342\ttotal: 10.7s\tremaining: 867ms\n",
            "925:\tlearn: 397886.1572068\ttotal: 10.7s\tremaining: 855ms\n",
            "926:\tlearn: 397847.1949026\ttotal: 10.7s\tremaining: 843ms\n",
            "927:\tlearn: 397822.7083497\ttotal: 10.7s\tremaining: 832ms\n",
            "928:\tlearn: 397780.8482285\ttotal: 10.7s\tremaining: 820ms\n",
            "929:\tlearn: 397687.1533662\ttotal: 10.7s\tremaining: 809ms\n",
            "930:\tlearn: 397624.7899433\ttotal: 10.8s\tremaining: 798ms\n",
            "931:\tlearn: 397555.1944767\ttotal: 10.8s\tremaining: 786ms\n",
            "932:\tlearn: 397493.6456498\ttotal: 10.8s\tremaining: 774ms\n",
            "933:\tlearn: 397458.8908147\ttotal: 10.8s\tremaining: 763ms\n",
            "934:\tlearn: 397417.5418207\ttotal: 10.8s\tremaining: 752ms\n",
            "935:\tlearn: 397328.6679408\ttotal: 10.8s\tremaining: 740ms\n",
            "936:\tlearn: 397262.4540525\ttotal: 10.8s\tremaining: 728ms\n",
            "937:\tlearn: 397241.6999018\ttotal: 10.8s\tremaining: 717ms\n",
            "938:\tlearn: 397203.4153617\ttotal: 10.9s\tremaining: 706ms\n",
            "939:\tlearn: 397173.3060579\ttotal: 10.9s\tremaining: 694ms\n",
            "940:\tlearn: 397117.4559060\ttotal: 10.9s\tremaining: 682ms\n",
            "941:\tlearn: 397098.5663057\ttotal: 10.9s\tremaining: 671ms\n",
            "942:\tlearn: 397077.7273383\ttotal: 10.9s\tremaining: 659ms\n",
            "943:\tlearn: 397004.3214925\ttotal: 10.9s\tremaining: 648ms\n",
            "944:\tlearn: 396968.9906243\ttotal: 10.9s\tremaining: 636ms\n",
            "945:\tlearn: 396915.1906933\ttotal: 10.9s\tremaining: 625ms\n",
            "946:\tlearn: 396885.3183063\ttotal: 11s\tremaining: 613ms\n",
            "947:\tlearn: 396639.5360765\ttotal: 11s\tremaining: 601ms\n",
            "948:\tlearn: 396611.3027476\ttotal: 11s\tremaining: 590ms\n",
            "949:\tlearn: 396568.6753955\ttotal: 11s\tremaining: 578ms\n",
            "950:\tlearn: 396546.2670102\ttotal: 11s\tremaining: 567ms\n",
            "951:\tlearn: 396518.9128204\ttotal: 11s\tremaining: 555ms\n",
            "952:\tlearn: 396471.3292312\ttotal: 11s\tremaining: 544ms\n",
            "953:\tlearn: 396436.8205810\ttotal: 11s\tremaining: 532ms\n",
            "954:\tlearn: 396228.9246657\ttotal: 11s\tremaining: 520ms\n",
            "955:\tlearn: 396190.1057308\ttotal: 11.1s\tremaining: 509ms\n",
            "956:\tlearn: 396152.6829545\ttotal: 11.1s\tremaining: 497ms\n",
            "957:\tlearn: 396100.1075416\ttotal: 11.1s\tremaining: 486ms\n",
            "958:\tlearn: 396043.5754223\ttotal: 11.1s\tremaining: 474ms\n",
            "959:\tlearn: 396002.7573767\ttotal: 11.1s\tremaining: 463ms\n",
            "960:\tlearn: 395958.3363866\ttotal: 11.1s\tremaining: 451ms\n",
            "961:\tlearn: 395931.3561962\ttotal: 11.1s\tremaining: 439ms\n",
            "962:\tlearn: 395878.7111529\ttotal: 11.1s\tremaining: 428ms\n",
            "963:\tlearn: 395870.3286527\ttotal: 11.1s\tremaining: 416ms\n",
            "964:\tlearn: 395813.4320123\ttotal: 11.2s\tremaining: 405ms\n",
            "965:\tlearn: 395778.5468213\ttotal: 11.2s\tremaining: 393ms\n",
            "966:\tlearn: 395751.2756065\ttotal: 11.2s\tremaining: 381ms\n",
            "967:\tlearn: 395701.8961181\ttotal: 11.2s\tremaining: 370ms\n",
            "968:\tlearn: 395613.7451578\ttotal: 11.2s\tremaining: 358ms\n",
            "969:\tlearn: 395572.9831595\ttotal: 11.2s\tremaining: 347ms\n",
            "970:\tlearn: 395548.5347681\ttotal: 11.2s\tremaining: 335ms\n",
            "971:\tlearn: 395502.9081742\ttotal: 11.2s\tremaining: 324ms\n",
            "972:\tlearn: 395442.8206676\ttotal: 11.2s\tremaining: 312ms\n",
            "973:\tlearn: 395419.3502090\ttotal: 11.3s\tremaining: 301ms\n",
            "974:\tlearn: 395333.6320783\ttotal: 11.3s\tremaining: 289ms\n",
            "975:\tlearn: 395286.9281036\ttotal: 11.3s\tremaining: 277ms\n",
            "976:\tlearn: 395262.4039538\ttotal: 11.3s\tremaining: 266ms\n",
            "977:\tlearn: 395239.5191359\ttotal: 11.3s\tremaining: 254ms\n",
            "978:\tlearn: 395172.1756813\ttotal: 11.3s\tremaining: 243ms\n",
            "979:\tlearn: 395086.8296547\ttotal: 11.3s\tremaining: 231ms\n",
            "980:\tlearn: 395041.3964761\ttotal: 11.3s\tremaining: 220ms\n",
            "981:\tlearn: 394953.9692260\ttotal: 11.4s\tremaining: 208ms\n",
            "982:\tlearn: 394911.1378805\ttotal: 11.4s\tremaining: 197ms\n",
            "983:\tlearn: 394875.2129792\ttotal: 11.4s\tremaining: 185ms\n",
            "984:\tlearn: 394838.9309244\ttotal: 11.4s\tremaining: 173ms\n",
            "985:\tlearn: 394790.1824862\ttotal: 11.4s\tremaining: 162ms\n",
            "986:\tlearn: 394716.9748949\ttotal: 11.4s\tremaining: 150ms\n",
            "987:\tlearn: 394677.8208820\ttotal: 11.4s\tremaining: 139ms\n",
            "988:\tlearn: 394631.6258474\ttotal: 11.4s\tremaining: 127ms\n",
            "989:\tlearn: 394597.9766665\ttotal: 11.4s\tremaining: 116ms\n",
            "990:\tlearn: 394560.5213558\ttotal: 11.5s\tremaining: 104ms\n",
            "991:\tlearn: 394535.5735172\ttotal: 11.5s\tremaining: 92.5ms\n",
            "992:\tlearn: 394475.9175499\ttotal: 11.5s\tremaining: 81ms\n",
            "993:\tlearn: 394431.5963113\ttotal: 11.5s\tremaining: 69.4ms\n",
            "994:\tlearn: 394367.9555460\ttotal: 11.5s\tremaining: 57.8ms\n",
            "995:\tlearn: 394321.6115743\ttotal: 11.5s\tremaining: 46.3ms\n",
            "996:\tlearn: 394195.2807078\ttotal: 11.5s\tremaining: 34.7ms\n",
            "997:\tlearn: 394114.4712614\ttotal: 11.5s\tremaining: 23.1ms\n",
            "998:\tlearn: 394094.7821725\ttotal: 11.6s\tremaining: 11.6ms\n",
            "999:\tlearn: 394060.7106813\ttotal: 11.6s\tremaining: 0us\n",
            "MAPE тестовой выборки: price    15.219389\n",
            "dtype: float64\n"
          ]
        }
      ]
    },
    {
      "cell_type": "markdown",
      "source": [
        "14% тестовой выборке, не будем откидывать в сторону, но не первый выбор. На kaggle результат 20.06787\n",
        "\n",
        "### 4. ExtraTreesRegressor"
      ],
      "metadata": {
        "id": "xiyjJD250moU"
      }
    },
    {
      "cell_type": "code",
      "source": [
        "from sklearn.ensemble import ExtraTreesRegressor\n",
        "\n",
        "xtr = ExtraTreesRegressor()\n",
        "xtr.fit(X_train, y_train)\n",
        "y_pred = xtr.predict(X_test)\n",
        "\n",
        "print('MAPE тестовой выборки:', mape(y_test, y_pred)) #выводим точность\n",
        "\n",
        "y_pred = ctbst.predict(X_kaggle) #подсказываем на тестовой выборке\n",
        "results_df = pd.DataFrame(data={'sell_id':kaggle['sell_id'], 'price':y_pred}) #выгружаем в CSV чтобы проверить результат на kaggle\n",
        "results_df.to_csv('submission.csv', index=False)"
      ],
      "metadata": {
        "colab": {
          "base_uri": "https://localhost:8080/"
        },
        "id": "FsXJKYyu0_h1",
        "outputId": "d4295440-85ba-4a18-ac2d-6a0bc735890a"
      },
      "execution_count": 151,
      "outputs": [
        {
          "output_type": "stream",
          "name": "stderr",
          "text": [
            "/usr/local/lib/python3.7/dist-packages/ipykernel_launcher.py:4: DataConversionWarning: A column-vector y was passed when a 1d array was expected. Please change the shape of y to (n_samples,), for example using ravel().\n",
            "  after removing the cwd from sys.path.\n"
          ]
        },
        {
          "output_type": "stream",
          "name": "stdout",
          "text": [
            "MAPE тестовой выборки: price    8.773143\n",
            "dtype: float64\n"
          ]
        }
      ]
    },
    {
      "cell_type": "markdown",
      "source": [
        "Очень хороший показатель в 8.8! Пока лидер, посмотрим ещё модели обучения, но ExtraTreesRegressor даже с базовыми параметрами показал хороший результат. На kaggle результат 20.06787, меньше чем RandomForestRegressor\n",
        "\n",
        "### XGBRegressor"
      ],
      "metadata": {
        "id": "5Z2L4Wg41mFc"
      }
    },
    {
      "cell_type": "code",
      "source": [
        "import xgboost as xgb\n",
        "\n",
        "xgbr = xgb.XGBRegressor()\n",
        "xgbr.fit(X_train, y_train)\n",
        "y_pred = xgbr.predict(X_test)\n",
        "\n",
        "print('MAPE тестовой выборки:', mape(y_test, y_pred)) #выводим точность"
      ],
      "metadata": {
        "colab": {
          "base_uri": "https://localhost:8080/"
        },
        "id": "7XqfgBtG2BBj",
        "outputId": "cc94c72b-d27b-4804-ec02-4e4e8a0c46da"
      },
      "execution_count": null,
      "outputs": [
        {
          "output_type": "stream",
          "name": "stdout",
          "text": [
            "[21:03:59] WARNING: /workspace/src/objective/regression_obj.cu:152: reg:linear is now deprecated in favor of reg:squarederror.\n"
          ]
        },
        {
          "output_type": "execute_result",
          "data": {
            "text/plain": [
              "price    20.063578\n",
              "dtype: float32"
            ]
          },
          "metadata": {},
          "execution_count": 60
        }
      ]
    },
    {
      "cell_type": "markdown",
      "source": [
        "20% не так хорошо как хотелось бы.\n",
        "\n",
        "наш выбор - ExtraTreesRegressor и RandomForestRegressor. Посмотрим что они смогут при подстройке гипперпараметрами."
      ],
      "metadata": {
        "id": "5i0aAf9J3ZTH"
      }
    },
    {
      "cell_type": "code",
      "source": [
        "#начнём с подбора параметров для RandomForestRegressor\n",
        "from sklearn.model_selection import RandomizedSearchCV\n",
        "n_estimators = [10, 50, 100]\n",
        "max_features = ['auto', 'sqrt']\n",
        "max_depth = [5, 10, 20]\n",
        "max_depth.append(None)\n",
        "min_samples_split = [2, 5, 10]\n",
        "min_samples_leaf = [1, 2, 4]\n",
        "bootstrap = [True, False]\n",
        "random_grid = {'n_estimators': n_estimators,\n",
        "               'max_features': max_features,\n",
        "               'max_depth': max_depth,\n",
        "               'min_samples_split': min_samples_split,\n",
        "               'min_samples_leaf': min_samples_leaf,\n",
        "               'bootstrap': bootstrap}"
      ],
      "metadata": {
        "id": "jd0MKvSqDplx"
      },
      "execution_count": 160,
      "outputs": []
    },
    {
      "cell_type": "code",
      "source": [
        "random_grid"
      ],
      "metadata": {
        "colab": {
          "base_uri": "https://localhost:8080/"
        },
        "id": "6Bb87UrDKORO",
        "outputId": "519ebc5e-f409-4fc8-b392-0e5da3f2edbb"
      },
      "execution_count": 161,
      "outputs": [
        {
          "output_type": "execute_result",
          "data": {
            "text/plain": [
              "{'bootstrap': [True, False],\n",
              " 'max_depth': [5, 10, 20, None],\n",
              " 'max_features': ['auto', 'sqrt'],\n",
              " 'min_samples_leaf': [1, 2, 4],\n",
              " 'min_samples_split': [2, 5, 10],\n",
              " 'n_estimators': [10, 50, 100]}"
            ]
          },
          "metadata": {},
          "execution_count": 161
        }
      ]
    },
    {
      "cell_type": "code",
      "source": [
        "rf = RandomForestRegressor(random_state=42)\n",
        "rf_random = RandomizedSearchCV(estimator=rf, param_distributions=random_grid, n_iter=100, \n",
        "                               cv=3, verbose=2, random_state=42, n_jobs=-1)\n",
        "rf_random.fit(X_train, y_train)"
      ],
      "metadata": {
        "colab": {
          "base_uri": "https://localhost:8080/",
          "height": 378
        },
        "id": "XBoRm0AYDzMV",
        "outputId": "5cb917dd-1ac9-408e-ea3b-732fde909661"
      },
      "execution_count": 162,
      "outputs": [
        {
          "output_type": "stream",
          "name": "stdout",
          "text": [
            "Fitting 3 folds for each of 100 candidates, totalling 300 fits\n"
          ]
        },
        {
          "output_type": "error",
          "ename": "KeyboardInterrupt",
          "evalue": "ignored",
          "traceback": [
            "\u001b[0;31m---------------------------------------------------------------------------\u001b[0m",
            "\u001b[0;31mKeyboardInterrupt\u001b[0m                         Traceback (most recent call last)",
            "\u001b[0;32m<ipython-input-162-816b6502e648>\u001b[0m in \u001b[0;36m<module>\u001b[0;34m()\u001b[0m\n\u001b[1;32m      2\u001b[0m rf_random = RandomizedSearchCV(estimator=rf, param_distributions=random_grid, n_iter=100, \n\u001b[1;32m      3\u001b[0m                                cv=3, verbose=2, random_state=42, n_jobs=-1)\n\u001b[0;32m----> 4\u001b[0;31m \u001b[0mrf_random\u001b[0m\u001b[0;34m.\u001b[0m\u001b[0mfit\u001b[0m\u001b[0;34m(\u001b[0m\u001b[0mX_train\u001b[0m\u001b[0;34m,\u001b[0m \u001b[0my_train\u001b[0m\u001b[0;34m)\u001b[0m\u001b[0;34m\u001b[0m\u001b[0;34m\u001b[0m\u001b[0m\n\u001b[0m",
            "\u001b[0;32m/usr/local/lib/python3.7/dist-packages/sklearn/model_selection/_search.py\u001b[0m in \u001b[0;36mfit\u001b[0;34m(self, X, y, groups, **fit_params)\u001b[0m\n\u001b[1;32m    889\u001b[0m                 \u001b[0;32mreturn\u001b[0m \u001b[0mresults\u001b[0m\u001b[0;34m\u001b[0m\u001b[0;34m\u001b[0m\u001b[0m\n\u001b[1;32m    890\u001b[0m \u001b[0;34m\u001b[0m\u001b[0m\n\u001b[0;32m--> 891\u001b[0;31m             \u001b[0mself\u001b[0m\u001b[0;34m.\u001b[0m\u001b[0m_run_search\u001b[0m\u001b[0;34m(\u001b[0m\u001b[0mevaluate_candidates\u001b[0m\u001b[0;34m)\u001b[0m\u001b[0;34m\u001b[0m\u001b[0;34m\u001b[0m\u001b[0m\n\u001b[0m\u001b[1;32m    892\u001b[0m \u001b[0;34m\u001b[0m\u001b[0m\n\u001b[1;32m    893\u001b[0m             \u001b[0;31m# multimetric is determined here because in the case of a callable\u001b[0m\u001b[0;34m\u001b[0m\u001b[0;34m\u001b[0m\u001b[0;34m\u001b[0m\u001b[0m\n",
            "\u001b[0;32m/usr/local/lib/python3.7/dist-packages/sklearn/model_selection/_search.py\u001b[0m in \u001b[0;36m_run_search\u001b[0;34m(self, evaluate_candidates)\u001b[0m\n\u001b[1;32m   1766\u001b[0m         evaluate_candidates(\n\u001b[1;32m   1767\u001b[0m             ParameterSampler(\n\u001b[0;32m-> 1768\u001b[0;31m                 \u001b[0mself\u001b[0m\u001b[0;34m.\u001b[0m\u001b[0mparam_distributions\u001b[0m\u001b[0;34m,\u001b[0m \u001b[0mself\u001b[0m\u001b[0;34m.\u001b[0m\u001b[0mn_iter\u001b[0m\u001b[0;34m,\u001b[0m \u001b[0mrandom_state\u001b[0m\u001b[0;34m=\u001b[0m\u001b[0mself\u001b[0m\u001b[0;34m.\u001b[0m\u001b[0mrandom_state\u001b[0m\u001b[0;34m\u001b[0m\u001b[0;34m\u001b[0m\u001b[0m\n\u001b[0m\u001b[1;32m   1769\u001b[0m             )\n\u001b[1;32m   1770\u001b[0m         )\n",
            "\u001b[0;32m/usr/local/lib/python3.7/dist-packages/sklearn/model_selection/_search.py\u001b[0m in \u001b[0;36mevaluate_candidates\u001b[0;34m(candidate_params, cv, more_results)\u001b[0m\n\u001b[1;32m    849\u001b[0m                     )\n\u001b[1;32m    850\u001b[0m                     for (cand_idx, parameters), (split_idx, (train, test)) in product(\n\u001b[0;32m--> 851\u001b[0;31m                         \u001b[0menumerate\u001b[0m\u001b[0;34m(\u001b[0m\u001b[0mcandidate_params\u001b[0m\u001b[0;34m)\u001b[0m\u001b[0;34m,\u001b[0m \u001b[0menumerate\u001b[0m\u001b[0;34m(\u001b[0m\u001b[0mcv\u001b[0m\u001b[0;34m.\u001b[0m\u001b[0msplit\u001b[0m\u001b[0;34m(\u001b[0m\u001b[0mX\u001b[0m\u001b[0;34m,\u001b[0m \u001b[0my\u001b[0m\u001b[0;34m,\u001b[0m \u001b[0mgroups\u001b[0m\u001b[0;34m)\u001b[0m\u001b[0;34m)\u001b[0m\u001b[0;34m\u001b[0m\u001b[0;34m\u001b[0m\u001b[0m\n\u001b[0m\u001b[1;32m    852\u001b[0m                     )\n\u001b[1;32m    853\u001b[0m                 )\n",
            "\u001b[0;32m/usr/local/lib/python3.7/dist-packages/joblib/parallel.py\u001b[0m in \u001b[0;36m__call__\u001b[0;34m(self, iterable)\u001b[0m\n\u001b[1;32m   1054\u001b[0m \u001b[0;34m\u001b[0m\u001b[0m\n\u001b[1;32m   1055\u001b[0m             \u001b[0;32mwith\u001b[0m \u001b[0mself\u001b[0m\u001b[0;34m.\u001b[0m\u001b[0m_backend\u001b[0m\u001b[0;34m.\u001b[0m\u001b[0mretrieval_context\u001b[0m\u001b[0;34m(\u001b[0m\u001b[0;34m)\u001b[0m\u001b[0;34m:\u001b[0m\u001b[0;34m\u001b[0m\u001b[0;34m\u001b[0m\u001b[0m\n\u001b[0;32m-> 1056\u001b[0;31m                 \u001b[0mself\u001b[0m\u001b[0;34m.\u001b[0m\u001b[0mretrieve\u001b[0m\u001b[0;34m(\u001b[0m\u001b[0;34m)\u001b[0m\u001b[0;34m\u001b[0m\u001b[0;34m\u001b[0m\u001b[0m\n\u001b[0m\u001b[1;32m   1057\u001b[0m             \u001b[0;31m# Make sure that we get a last message telling us we are done\u001b[0m\u001b[0;34m\u001b[0m\u001b[0;34m\u001b[0m\u001b[0;34m\u001b[0m\u001b[0m\n\u001b[1;32m   1058\u001b[0m             \u001b[0melapsed_time\u001b[0m \u001b[0;34m=\u001b[0m \u001b[0mtime\u001b[0m\u001b[0;34m.\u001b[0m\u001b[0mtime\u001b[0m\u001b[0;34m(\u001b[0m\u001b[0;34m)\u001b[0m \u001b[0;34m-\u001b[0m \u001b[0mself\u001b[0m\u001b[0;34m.\u001b[0m\u001b[0m_start_time\u001b[0m\u001b[0;34m\u001b[0m\u001b[0;34m\u001b[0m\u001b[0m\n",
            "\u001b[0;32m/usr/local/lib/python3.7/dist-packages/joblib/parallel.py\u001b[0m in \u001b[0;36mretrieve\u001b[0;34m(self)\u001b[0m\n\u001b[1;32m    933\u001b[0m             \u001b[0;32mtry\u001b[0m\u001b[0;34m:\u001b[0m\u001b[0;34m\u001b[0m\u001b[0;34m\u001b[0m\u001b[0m\n\u001b[1;32m    934\u001b[0m                 \u001b[0;32mif\u001b[0m \u001b[0mgetattr\u001b[0m\u001b[0;34m(\u001b[0m\u001b[0mself\u001b[0m\u001b[0;34m.\u001b[0m\u001b[0m_backend\u001b[0m\u001b[0;34m,\u001b[0m \u001b[0;34m'supports_timeout'\u001b[0m\u001b[0;34m,\u001b[0m \u001b[0;32mFalse\u001b[0m\u001b[0;34m)\u001b[0m\u001b[0;34m:\u001b[0m\u001b[0;34m\u001b[0m\u001b[0;34m\u001b[0m\u001b[0m\n\u001b[0;32m--> 935\u001b[0;31m                     \u001b[0mself\u001b[0m\u001b[0;34m.\u001b[0m\u001b[0m_output\u001b[0m\u001b[0;34m.\u001b[0m\u001b[0mextend\u001b[0m\u001b[0;34m(\u001b[0m\u001b[0mjob\u001b[0m\u001b[0;34m.\u001b[0m\u001b[0mget\u001b[0m\u001b[0;34m(\u001b[0m\u001b[0mtimeout\u001b[0m\u001b[0;34m=\u001b[0m\u001b[0mself\u001b[0m\u001b[0;34m.\u001b[0m\u001b[0mtimeout\u001b[0m\u001b[0;34m)\u001b[0m\u001b[0;34m)\u001b[0m\u001b[0;34m\u001b[0m\u001b[0;34m\u001b[0m\u001b[0m\n\u001b[0m\u001b[1;32m    936\u001b[0m                 \u001b[0;32melse\u001b[0m\u001b[0;34m:\u001b[0m\u001b[0;34m\u001b[0m\u001b[0;34m\u001b[0m\u001b[0m\n\u001b[1;32m    937\u001b[0m                     \u001b[0mself\u001b[0m\u001b[0;34m.\u001b[0m\u001b[0m_output\u001b[0m\u001b[0;34m.\u001b[0m\u001b[0mextend\u001b[0m\u001b[0;34m(\u001b[0m\u001b[0mjob\u001b[0m\u001b[0;34m.\u001b[0m\u001b[0mget\u001b[0m\u001b[0;34m(\u001b[0m\u001b[0;34m)\u001b[0m\u001b[0;34m)\u001b[0m\u001b[0;34m\u001b[0m\u001b[0;34m\u001b[0m\u001b[0m\n",
            "\u001b[0;32m/usr/local/lib/python3.7/dist-packages/joblib/_parallel_backends.py\u001b[0m in \u001b[0;36mwrap_future_result\u001b[0;34m(future, timeout)\u001b[0m\n\u001b[1;32m    540\u001b[0m         AsyncResults.get from multiprocessing.\"\"\"\n\u001b[1;32m    541\u001b[0m         \u001b[0;32mtry\u001b[0m\u001b[0;34m:\u001b[0m\u001b[0;34m\u001b[0m\u001b[0;34m\u001b[0m\u001b[0m\n\u001b[0;32m--> 542\u001b[0;31m             \u001b[0;32mreturn\u001b[0m \u001b[0mfuture\u001b[0m\u001b[0;34m.\u001b[0m\u001b[0mresult\u001b[0m\u001b[0;34m(\u001b[0m\u001b[0mtimeout\u001b[0m\u001b[0;34m=\u001b[0m\u001b[0mtimeout\u001b[0m\u001b[0;34m)\u001b[0m\u001b[0;34m\u001b[0m\u001b[0;34m\u001b[0m\u001b[0m\n\u001b[0m\u001b[1;32m    543\u001b[0m         \u001b[0;32mexcept\u001b[0m \u001b[0mCfTimeoutError\u001b[0m \u001b[0;32mas\u001b[0m \u001b[0me\u001b[0m\u001b[0;34m:\u001b[0m\u001b[0;34m\u001b[0m\u001b[0;34m\u001b[0m\u001b[0m\n\u001b[1;32m    544\u001b[0m             \u001b[0;32mraise\u001b[0m \u001b[0mTimeoutError\u001b[0m \u001b[0;32mfrom\u001b[0m \u001b[0me\u001b[0m\u001b[0;34m\u001b[0m\u001b[0;34m\u001b[0m\u001b[0m\n",
            "\u001b[0;32m/usr/lib/python3.7/concurrent/futures/_base.py\u001b[0m in \u001b[0;36mresult\u001b[0;34m(self, timeout)\u001b[0m\n\u001b[1;32m    428\u001b[0m                 \u001b[0;32mreturn\u001b[0m \u001b[0mself\u001b[0m\u001b[0;34m.\u001b[0m\u001b[0m__get_result\u001b[0m\u001b[0;34m(\u001b[0m\u001b[0;34m)\u001b[0m\u001b[0;34m\u001b[0m\u001b[0;34m\u001b[0m\u001b[0m\n\u001b[1;32m    429\u001b[0m \u001b[0;34m\u001b[0m\u001b[0m\n\u001b[0;32m--> 430\u001b[0;31m             \u001b[0mself\u001b[0m\u001b[0;34m.\u001b[0m\u001b[0m_condition\u001b[0m\u001b[0;34m.\u001b[0m\u001b[0mwait\u001b[0m\u001b[0;34m(\u001b[0m\u001b[0mtimeout\u001b[0m\u001b[0;34m)\u001b[0m\u001b[0;34m\u001b[0m\u001b[0;34m\u001b[0m\u001b[0m\n\u001b[0m\u001b[1;32m    431\u001b[0m \u001b[0;34m\u001b[0m\u001b[0m\n\u001b[1;32m    432\u001b[0m             \u001b[0;32mif\u001b[0m \u001b[0mself\u001b[0m\u001b[0;34m.\u001b[0m\u001b[0m_state\u001b[0m \u001b[0;32min\u001b[0m \u001b[0;34m[\u001b[0m\u001b[0mCANCELLED\u001b[0m\u001b[0;34m,\u001b[0m \u001b[0mCANCELLED_AND_NOTIFIED\u001b[0m\u001b[0;34m]\u001b[0m\u001b[0;34m:\u001b[0m\u001b[0;34m\u001b[0m\u001b[0;34m\u001b[0m\u001b[0m\n",
            "\u001b[0;32m/usr/lib/python3.7/threading.py\u001b[0m in \u001b[0;36mwait\u001b[0;34m(self, timeout)\u001b[0m\n\u001b[1;32m    294\u001b[0m         \u001b[0;32mtry\u001b[0m\u001b[0;34m:\u001b[0m    \u001b[0;31m# restore state no matter what (e.g., KeyboardInterrupt)\u001b[0m\u001b[0;34m\u001b[0m\u001b[0;34m\u001b[0m\u001b[0m\n\u001b[1;32m    295\u001b[0m             \u001b[0;32mif\u001b[0m \u001b[0mtimeout\u001b[0m \u001b[0;32mis\u001b[0m \u001b[0;32mNone\u001b[0m\u001b[0;34m:\u001b[0m\u001b[0;34m\u001b[0m\u001b[0;34m\u001b[0m\u001b[0m\n\u001b[0;32m--> 296\u001b[0;31m                 \u001b[0mwaiter\u001b[0m\u001b[0;34m.\u001b[0m\u001b[0macquire\u001b[0m\u001b[0;34m(\u001b[0m\u001b[0;34m)\u001b[0m\u001b[0;34m\u001b[0m\u001b[0;34m\u001b[0m\u001b[0m\n\u001b[0m\u001b[1;32m    297\u001b[0m                 \u001b[0mgotit\u001b[0m \u001b[0;34m=\u001b[0m \u001b[0;32mTrue\u001b[0m\u001b[0;34m\u001b[0m\u001b[0;34m\u001b[0m\u001b[0m\n\u001b[1;32m    298\u001b[0m             \u001b[0;32melse\u001b[0m\u001b[0;34m:\u001b[0m\u001b[0;34m\u001b[0m\u001b[0;34m\u001b[0m\u001b[0m\n",
            "\u001b[0;31mKeyboardInterrupt\u001b[0m: "
          ]
        }
      ]
    },
    {
      "cell_type": "code",
      "source": [
        "clsf.best_params_"
      ],
      "metadata": {
        "id": "qw5Y2DUmD1-v"
      },
      "execution_count": null,
      "outputs": []
    },
    {
      "cell_type": "markdown",
      "source": [
        "KFOLD"
      ],
      "metadata": {
        "id": "T-qnlB1yH87U"
      }
    },
    {
      "cell_type": "code",
      "source": [
        "from sklearn.model_selection import train_test_split, KFold, RandomizedSearchCV, cross_val_score\n",
        "\n",
        "etr_log = ExtraTreesRegressor(random_state=42, n_jobs=-1, verbose=1)\n",
        "\n",
        "skf = KFold(n_splits=4, random_state=42, shuffle=True)\n",
        "etr_log_mape_values = []\n",
        "\n",
        "for train_index, test_index in skf.split(X_train, y_train):\n",
        "    print(\"TRAIN:\", train_index, \"TEST:\", test_index)\n",
        "    X_train, X_test = X[X.index.isin(train_index)], X[X.index.isin(test_index)]\n",
        "    y_train, y_test = y[y.index.isin(train_index)], y[y.index.isin(test_index)]\n",
        "    \n",
        "    # For training, fit() is used\n",
        "    etr_log.fit(X_train, np.log(y_train))\n",
        "\n",
        "    # For MAPE metric (or any other), we need the predictions of the model\n",
        "    y_pred = np.exp(etr_log.predict(X_test))\n",
        "\n",
        "    etr_log_mape_value = mape(y_test, y_pred)\n",
        "    etr_log_mape_values.append(etr_log_mape_value)\n",
        "    print(etr_log_mape_value)"
      ],
      "metadata": {
        "colab": {
          "base_uri": "https://localhost:8080/"
        },
        "id": "xNzOuGVVH-v4",
        "outputId": "9f0c0dc7-1c4f-491b-a285-456cd21af7b5"
      },
      "execution_count": 168,
      "outputs": [
        {
          "output_type": "stream",
          "name": "stdout",
          "text": [
            "TRAIN: [    0     2     3 ... 51854 51855 51856] TEST: [    1     4     6 ... 51845 51846 51853]\n"
          ]
        },
        {
          "output_type": "stream",
          "name": "stderr",
          "text": [
            "/usr/local/lib/python3.7/dist-packages/ipykernel_launcher.py:14: DataConversionWarning: A column-vector y was passed when a 1d array was expected. Please change the shape of y to (n_samples,), for example using ravel().\n",
            "  \n",
            "[Parallel(n_jobs=-1)]: Using backend ThreadingBackend with 2 concurrent workers.\n",
            "[Parallel(n_jobs=-1)]: Done  46 tasks      | elapsed:   10.3s\n",
            "[Parallel(n_jobs=-1)]: Done 100 out of 100 | elapsed:   22.0s finished\n",
            "[Parallel(n_jobs=2)]: Using backend ThreadingBackend with 2 concurrent workers.\n",
            "[Parallel(n_jobs=2)]: Done  46 tasks      | elapsed:    0.2s\n",
            "[Parallel(n_jobs=2)]: Done 100 out of 100 | elapsed:    0.4s finished\n",
            "/usr/local/lib/python3.7/dist-packages/ipykernel_launcher.py:14: DataConversionWarning: A column-vector y was passed when a 1d array was expected. Please change the shape of y to (n_samples,), for example using ravel().\n",
            "  \n"
          ]
        },
        {
          "output_type": "stream",
          "name": "stdout",
          "text": [
            "price    13.804276\n",
            "dtype: float64\n",
            "TRAIN: [    1     2     3 ... 51853 51854 51856] TEST: [    0     8    11 ... 51849 51850 51855]\n"
          ]
        },
        {
          "output_type": "stream",
          "name": "stderr",
          "text": [
            "[Parallel(n_jobs=-1)]: Using backend ThreadingBackend with 2 concurrent workers.\n",
            "[Parallel(n_jobs=-1)]: Done  46 tasks      | elapsed:   10.3s\n",
            "[Parallel(n_jobs=-1)]: Done 100 out of 100 | elapsed:   22.4s finished\n",
            "[Parallel(n_jobs=2)]: Using backend ThreadingBackend with 2 concurrent workers.\n",
            "[Parallel(n_jobs=2)]: Done  46 tasks      | elapsed:    0.2s\n",
            "[Parallel(n_jobs=2)]: Done 100 out of 100 | elapsed:    0.5s finished\n",
            "/usr/local/lib/python3.7/dist-packages/ipykernel_launcher.py:14: DataConversionWarning: A column-vector y was passed when a 1d array was expected. Please change the shape of y to (n_samples,), for example using ravel().\n",
            "  \n"
          ]
        },
        {
          "output_type": "stream",
          "name": "stdout",
          "text": [
            "price    13.691279\n",
            "dtype: float64\n",
            "TRAIN: [    0     1     2 ... 51853 51854 51855] TEST: [    3     5    14 ... 51841 51851 51856]\n"
          ]
        },
        {
          "output_type": "stream",
          "name": "stderr",
          "text": [
            "[Parallel(n_jobs=-1)]: Using backend ThreadingBackend with 2 concurrent workers.\n",
            "[Parallel(n_jobs=-1)]: Done  46 tasks      | elapsed:   10.4s\n",
            "[Parallel(n_jobs=-1)]: Done 100 out of 100 | elapsed:   22.7s finished\n",
            "[Parallel(n_jobs=2)]: Using backend ThreadingBackend with 2 concurrent workers.\n",
            "[Parallel(n_jobs=2)]: Done  46 tasks      | elapsed:    0.2s\n",
            "[Parallel(n_jobs=2)]: Done 100 out of 100 | elapsed:    0.4s finished\n",
            "/usr/local/lib/python3.7/dist-packages/ipykernel_launcher.py:14: DataConversionWarning: A column-vector y was passed when a 1d array was expected. Please change the shape of y to (n_samples,), for example using ravel().\n",
            "  \n"
          ]
        },
        {
          "output_type": "stream",
          "name": "stdout",
          "text": [
            "price    13.963926\n",
            "dtype: float64\n",
            "TRAIN: [    0     1     3 ... 51853 51855 51856] TEST: [    2     9    10 ... 51842 51852 51854]\n"
          ]
        },
        {
          "output_type": "stream",
          "name": "stderr",
          "text": [
            "[Parallel(n_jobs=-1)]: Using backend ThreadingBackend with 2 concurrent workers.\n",
            "[Parallel(n_jobs=-1)]: Done  46 tasks      | elapsed:   10.8s\n",
            "[Parallel(n_jobs=-1)]: Done 100 out of 100 | elapsed:   23.0s finished\n",
            "[Parallel(n_jobs=2)]: Using backend ThreadingBackend with 2 concurrent workers.\n",
            "[Parallel(n_jobs=2)]: Done  46 tasks      | elapsed:    0.2s\n"
          ]
        },
        {
          "output_type": "stream",
          "name": "stdout",
          "text": [
            "price    13.75156\n",
            "dtype: float64\n"
          ]
        },
        {
          "output_type": "stream",
          "name": "stderr",
          "text": [
            "[Parallel(n_jobs=2)]: Done 100 out of 100 | elapsed:    0.4s finished\n"
          ]
        }
      ]
    },
    {
      "cell_type": "code",
      "source": [
        "y_pred = etr_log.predict(X_kaggle) #подсказываем на тестовой выборке\n",
        "results_df = pd.DataFrame(data={'sell_id':kaggle['sell_id'], 'price':y_pred}) #выгружаем в CSV чтобы проверить результат на kaggle\n",
        "results_df.to_csv('submission.csv', index=False)"
      ],
      "metadata": {
        "colab": {
          "base_uri": "https://localhost:8080/"
        },
        "id": "dlmsRpylPi8t",
        "outputId": "05f9b907-034b-426f-d166-2ecc0d173c6a"
      },
      "execution_count": 169,
      "outputs": [
        {
          "output_type": "stream",
          "name": "stderr",
          "text": [
            "[Parallel(n_jobs=2)]: Using backend ThreadingBackend with 2 concurrent workers.\n",
            "[Parallel(n_jobs=2)]: Done  46 tasks      | elapsed:    0.4s\n",
            "[Parallel(n_jobs=2)]: Done 100 out of 100 | elapsed:    0.9s finished\n"
          ]
        }
      ]
    }
  ]
}
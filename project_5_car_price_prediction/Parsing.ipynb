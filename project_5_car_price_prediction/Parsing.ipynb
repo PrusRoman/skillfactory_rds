{
  "nbformat": 4,
  "nbformat_minor": 0,
  "metadata": {
    "colab": {
      "name": "parsing",
      "provenance": [],
      "collapsed_sections": []
    },
    "kernelspec": {
      "name": "python3",
      "display_name": "Python 3"
    },
    "language_info": {
      "name": "python"
    }
  },
  "cells": [
    {
      "cell_type": "markdown",
      "source": [
        "Для выполнения задания нужно майнить данные. Для этого надо обращаться к автору за данными.\n",
        "\n",
        "В данных для предикта всего 12 марок авто: *BMW, VOLKSWAGEN, NISSAN, MERCEDES, TOYOTA, AUDI, MITSUBISHI, SKODA, VOLVO, HONDA, INFINITI, LEXUS* по ним и будем парсить данные.\n",
        "\n",
        "Какие поля нужны: Тип кузова, производитель, цвет, объём двигателя, мощность в ЛС, тип топлива, пробег, кол-во дверей, дата производства, id объявления, тип кпп, регион марки(япония, европа), кол-во владельцев, оригинальный ПТС? тип привода, положение руля, цена\n",
        "\n",
        "План на парсинг:\n",
        "*    Создаём массив нужных марок.\n",
        "*    Обращаемся к странице с объявлениями об авто\n",
        "*    На страницах с объявлениями в теге `<script id=\"initial-state\" .... type=\"application/json\">` блок `listing: { ... \"offers\": [{ ` содержит нужную нам информацию. Его нужно распарсить по каждой машине.\n"
      ],
      "metadata": {
        "id": "2JMX93Jq-o5-"
      }
    },
    {
      "cell_type": "code",
      "execution_count": 1,
      "metadata": {
        "id": "b83yPxMOwVaX"
      },
      "outputs": [],
      "source": [
        "from google.colab import files\n",
        "import pandas as pd\n",
        "import requests\n",
        "from bs4 import BeautifulSoup as bs\n",
        "import json\n",
        "import glob"
      ]
    },
    {
      "cell_type": "code",
      "source": [
        "#создаём метод, который объединяет 95% работы в один блок. На вход массив брендов по которым собираем информацию и страница ОТ и ДО\n",
        "def parse_autoru(brands, pagefrom= 1, pageto= 50):\n",
        "  #создаём датафрейм с нужными колонками\n",
        "  parsed = pd.DataFrame(columns=['bodyType','brand','color','engineDisplacement','enginePower','fuelType', 'mileage','numberOfDoors',\n",
        "                        'productionDate','sell_id','vehicleTransmission','vendor', 'owners','pts', 'gear_type', 'steering_wheel', 'price'])\n",
        "\n",
        "  #цикл для каждого из переданных брендов\n",
        "  for brand in brands:\n",
        "    print('Начали парсить', brand, '...')\n",
        "    pagestart = pagefrom #странная строчка, нужно чтобы цикл каждый раз начинался со страницы которую передал пользователь\n",
        "\n",
        "    while pagestart <= pageto: #до 50 страницы\n",
        "      url = 'https://auto.ru/cars/'+brand+'/all/?page='+str(pagestart) #сформировали url для запроса\n",
        "      response = requests.get(url, headers={'User-Agent': 'Mozilla/5.0'}) #кинули запрос на автору\n",
        "      \n",
        "      response.encoding = \"utf-8\"\n",
        "      page = bs(response.content, 'html.parser') #получили всю страницу\n",
        "      \n",
        "      try: #бывают ошибки при получении JSON настранице, так что выполяем в блоке try\n",
        "        allParamsJson = json.loads(page.find('script', id=\"initial-state\").string) #получаем JSON на странице со всеми параметрами автомобилей\n",
        "      except: #если не вышло, сохраним фрейм\n",
        "          print('End. Total parsed:', len(parsed))\n",
        "          return(parsed) #возвращаем датафрейм\n",
        "      else: #или начинаем обрабатывать\n",
        "        for car in allParamsJson[\"listing\"][\"data\"][\"offers\"]: #и циклом для каждого авто все параметры в словарь\n",
        "          new_row = {'bodyType' : car[\"vehicle_info\"][\"configuration\"].get(\"human_name\",\"\")\n",
        "                    ,'brand': car[\"vehicle_info\"][\"mark_info\"][\"code\"]\n",
        "                    ,'color': car[\"color_hex\"]\n",
        "                    ,'engineDisplacement': car[\"vehicle_info\"][\"tech_param\"][\"displacement\"]\n",
        "                    ,'enginePower': car[\"vehicle_info\"][\"tech_param\"][\"power\"]\n",
        "                    ,'fuelType': car[\"vehicle_info\"][\"tech_param\"][\"engine_type\"]\n",
        "                    ,'mileage': car[\"state\"][\"mileage\"]\n",
        "                    ,'numberOfDoors': car[\"vehicle_info\"][\"configuration\"][\"doors_count\"]\n",
        "                    ,'productionDate': car[\"documents\"][\"year\"]\n",
        "                    ,'sell_id': car['saleId']\n",
        "                    ,'vehicleTransmission': car[\"vehicle_info\"][\"tech_param\"][\"transmission\"]\n",
        "                    ,'vendor': car['vehicle_info']['vendor']\n",
        "                    ,'owners': car[\"documents\"].get(\"owners_number\", 0) #в некоторых случаях нет владельцев, новые авто?\n",
        "                    ,'pts': car[\"documents\"].get(\"pts_original\", False) #и не указано наличие ПТС\n",
        "                    ,'gear_type': car[\"vehicle_info\"][\"tech_param\"][\"gear_type\"]\n",
        "                    ,'steering_wheel': car[\"vehicle_info\"][\"steering_wheel\"]\n",
        "                    ,'price':car[\"price_info\"].get(\"RUR\", 0)} #и нет цены\n",
        "          #добавляем новую строчку в датафрейм\n",
        "          parsed = parsed.append(new_row, ignore_index=True)\n",
        "      pagestart +=1\n",
        "  print('End. Total parsed:', len(parsed))\n",
        "  return(parsed) #возвращаем датафрейм"
      ],
      "metadata": {
        "id": "reaozYel-g3H"
      },
      "execution_count": 2,
      "outputs": []
    },
    {
      "cell_type": "code",
      "source": [
        "brands = ['BMW', 'VOLKSWAGEN', 'NISSAN', 'MERCEDES', 'TOYOTA', 'AUDI', 'MITSUBISHI', 'SKODA', 'VOLVO', 'HONDA', 'INFINITI', 'LEXUS'] #список брендов\n",
        "results_df = parse_autoru(brands, 50, 100) #вызываем функцию\n",
        "\n",
        "results_df.to_csv('parsed.csv', index=False) #сохраняем ДФ"
      ],
      "metadata": {
        "colab": {
          "base_uri": "https://localhost:8080/"
        },
        "id": "wyYYOx9b-nmB",
        "outputId": "f94a97dc-3933-4a67-cd13-68b3d3c1c717"
      },
      "execution_count": 3,
      "outputs": [
        {
          "output_type": "stream",
          "name": "stdout",
          "text": [
            "Начали парсить BMW ...\n",
            "Начали парсить VOLKSWAGEN ...\n",
            "Начали парсить NISSAN ...\n",
            "Начали парсить MERCEDES ...\n",
            "Начали парсить TOYOTA ...\n",
            "Начали парсить AUDI ...\n",
            "Начали парсить MITSUBISHI ...\n",
            "Начали парсить SKODA ...\n",
            "Начали парсить VOLVO ...\n",
            "Начали парсить HONDA ...\n",
            "Начали парсить INFINITI ...\n",
            "Начали парсить LEXUS ...\n",
            "End. Total parsed: 20806\n"
          ]
        }
      ]
    },
    {
      "cell_type": "markdown",
      "source": [
        "Код выше запускаем пачками по 25 страниц, парсим n-раз. Вручную сохранил и перенёс на гугл диск для работы в Colab далее.\n",
        "\n",
        "Прочитаем файлы, объединим их в один датафрейм и далее будем работать с ним."
      ],
      "metadata": {
        "id": "WHJkHHTwzr0L"
      }
    },
    {
      "cell_type": "code",
      "source": [
        "#пустой массив\n",
        "appended_data = []\n",
        "\n",
        "#циклом читаем всё что попадает под условие parsed*.csv и добавляем в один огромный датафрейм\n",
        "for path in glob.glob(\"/content/drive/My Drive/Colab Notebooks/car_price/parsed*.csv\"):\n",
        "  data = pd.read_csv(path, sep=',')\n",
        "  appended_data.append(data)\n",
        "    \n",
        "result = pd.concat(appended_data)\n",
        "result.head()"
      ],
      "metadata": {
        "colab": {
          "base_uri": "https://localhost:8080/",
          "height": 322
        },
        "id": "FRQya-lkz419",
        "outputId": "6529bf88-19fc-437f-89b1-1824ec3fed06"
      },
      "execution_count": 4,
      "outputs": [
        {
          "output_type": "execute_result",
          "data": {
            "text/html": [
              "\n",
              "  <div id=\"df-2b0b1008-bed8-408a-966e-60d72cac3b1f\">\n",
              "    <div class=\"colab-df-container\">\n",
              "      <div>\n",
              "<style scoped>\n",
              "    .dataframe tbody tr th:only-of-type {\n",
              "        vertical-align: middle;\n",
              "    }\n",
              "\n",
              "    .dataframe tbody tr th {\n",
              "        vertical-align: top;\n",
              "    }\n",
              "\n",
              "    .dataframe thead th {\n",
              "        text-align: right;\n",
              "    }\n",
              "</style>\n",
              "<table border=\"1\" class=\"dataframe\">\n",
              "  <thead>\n",
              "    <tr style=\"text-align: right;\">\n",
              "      <th></th>\n",
              "      <th>bodyType</th>\n",
              "      <th>brand</th>\n",
              "      <th>color</th>\n",
              "      <th>engineDisplacement</th>\n",
              "      <th>enginePower</th>\n",
              "      <th>fuelType</th>\n",
              "      <th>mileage</th>\n",
              "      <th>numberOfDoors</th>\n",
              "      <th>productionDate</th>\n",
              "      <th>sell_id</th>\n",
              "      <th>vehicleTransmission</th>\n",
              "      <th>vendor</th>\n",
              "      <th>owners</th>\n",
              "      <th>pts</th>\n",
              "      <th>gear_type</th>\n",
              "      <th>steering_wheel</th>\n",
              "      <th>price</th>\n",
              "    </tr>\n",
              "  </thead>\n",
              "  <tbody>\n",
              "    <tr>\n",
              "      <th>0</th>\n",
              "      <td>Седан</td>\n",
              "      <td>BMW</td>\n",
              "      <td>0000CC</td>\n",
              "      <td>2979</td>\n",
              "      <td>231</td>\n",
              "      <td>GASOLINE</td>\n",
              "      <td>225000</td>\n",
              "      <td>4</td>\n",
              "      <td>2003</td>\n",
              "      <td>1106147691-38665f2c</td>\n",
              "      <td>MECHANICAL</td>\n",
              "      <td>EUROPEAN</td>\n",
              "      <td>4</td>\n",
              "      <td>False</td>\n",
              "      <td>REAR_DRIVE</td>\n",
              "      <td>LEFT</td>\n",
              "      <td>700000</td>\n",
              "    </tr>\n",
              "    <tr>\n",
              "      <th>1</th>\n",
              "      <td>Внедорожник 5 дв.</td>\n",
              "      <td>BMW</td>\n",
              "      <td>0000CC</td>\n",
              "      <td>1998</td>\n",
              "      <td>192</td>\n",
              "      <td>GASOLINE</td>\n",
              "      <td>95000</td>\n",
              "      <td>5</td>\n",
              "      <td>2019</td>\n",
              "      <td>1106546953-d8199219</td>\n",
              "      <td>AUTOMATIC</td>\n",
              "      <td>EUROPEAN</td>\n",
              "      <td>1</td>\n",
              "      <td>True</td>\n",
              "      <td>ALL_WHEEL_DRIVE</td>\n",
              "      <td>LEFT</td>\n",
              "      <td>3080000</td>\n",
              "    </tr>\n",
              "    <tr>\n",
              "      <th>2</th>\n",
              "      <td>Седан</td>\n",
              "      <td>BMW</td>\n",
              "      <td>97948F</td>\n",
              "      <td>1998</td>\n",
              "      <td>184</td>\n",
              "      <td>GASOLINE</td>\n",
              "      <td>5000</td>\n",
              "      <td>4</td>\n",
              "      <td>2021</td>\n",
              "      <td>1106289403-d7bf1d02</td>\n",
              "      <td>AUTOMATIC</td>\n",
              "      <td>EUROPEAN</td>\n",
              "      <td>1</td>\n",
              "      <td>True</td>\n",
              "      <td>ALL_WHEEL_DRIVE</td>\n",
              "      <td>LEFT</td>\n",
              "      <td>5020000</td>\n",
              "    </tr>\n",
              "    <tr>\n",
              "      <th>3</th>\n",
              "      <td>Внедорожник 5 дв.</td>\n",
              "      <td>BMW</td>\n",
              "      <td>040001</td>\n",
              "      <td>2993</td>\n",
              "      <td>265</td>\n",
              "      <td>DIESEL</td>\n",
              "      <td>29000</td>\n",
              "      <td>5</td>\n",
              "      <td>2019</td>\n",
              "      <td>1106243521-b287283f</td>\n",
              "      <td>AUTOMATIC</td>\n",
              "      <td>EUROPEAN</td>\n",
              "      <td>2</td>\n",
              "      <td>True</td>\n",
              "      <td>ALL_WHEEL_DRIVE</td>\n",
              "      <td>LEFT</td>\n",
              "      <td>9880000</td>\n",
              "    </tr>\n",
              "    <tr>\n",
              "      <th>4</th>\n",
              "      <td>Внедорожник 5 дв.</td>\n",
              "      <td>BMW</td>\n",
              "      <td>040001</td>\n",
              "      <td>2993</td>\n",
              "      <td>340</td>\n",
              "      <td>DIESEL</td>\n",
              "      <td>0</td>\n",
              "      <td>5</td>\n",
              "      <td>2021</td>\n",
              "      <td>1106611443-7880a32b</td>\n",
              "      <td>AUTOMATIC</td>\n",
              "      <td>EUROPEAN</td>\n",
              "      <td>0</td>\n",
              "      <td>True</td>\n",
              "      <td>ALL_WHEEL_DRIVE</td>\n",
              "      <td>LEFT</td>\n",
              "      <td>12740000</td>\n",
              "    </tr>\n",
              "  </tbody>\n",
              "</table>\n",
              "</div>\n",
              "      <button class=\"colab-df-convert\" onclick=\"convertToInteractive('df-2b0b1008-bed8-408a-966e-60d72cac3b1f')\"\n",
              "              title=\"Convert this dataframe to an interactive table.\"\n",
              "              style=\"display:none;\">\n",
              "        \n",
              "  <svg xmlns=\"http://www.w3.org/2000/svg\" height=\"24px\"viewBox=\"0 0 24 24\"\n",
              "       width=\"24px\">\n",
              "    <path d=\"M0 0h24v24H0V0z\" fill=\"none\"/>\n",
              "    <path d=\"M18.56 5.44l.94 2.06.94-2.06 2.06-.94-2.06-.94-.94-2.06-.94 2.06-2.06.94zm-11 1L8.5 8.5l.94-2.06 2.06-.94-2.06-.94L8.5 2.5l-.94 2.06-2.06.94zm10 10l.94 2.06.94-2.06 2.06-.94-2.06-.94-.94-2.06-.94 2.06-2.06.94z\"/><path d=\"M17.41 7.96l-1.37-1.37c-.4-.4-.92-.59-1.43-.59-.52 0-1.04.2-1.43.59L10.3 9.45l-7.72 7.72c-.78.78-.78 2.05 0 2.83L4 21.41c.39.39.9.59 1.41.59.51 0 1.02-.2 1.41-.59l7.78-7.78 2.81-2.81c.8-.78.8-2.07 0-2.86zM5.41 20L4 18.59l7.72-7.72 1.47 1.35L5.41 20z\"/>\n",
              "  </svg>\n",
              "      </button>\n",
              "      \n",
              "  <style>\n",
              "    .colab-df-container {\n",
              "      display:flex;\n",
              "      flex-wrap:wrap;\n",
              "      gap: 12px;\n",
              "    }\n",
              "\n",
              "    .colab-df-convert {\n",
              "      background-color: #E8F0FE;\n",
              "      border: none;\n",
              "      border-radius: 50%;\n",
              "      cursor: pointer;\n",
              "      display: none;\n",
              "      fill: #1967D2;\n",
              "      height: 32px;\n",
              "      padding: 0 0 0 0;\n",
              "      width: 32px;\n",
              "    }\n",
              "\n",
              "    .colab-df-convert:hover {\n",
              "      background-color: #E2EBFA;\n",
              "      box-shadow: 0px 1px 2px rgba(60, 64, 67, 0.3), 0px 1px 3px 1px rgba(60, 64, 67, 0.15);\n",
              "      fill: #174EA6;\n",
              "    }\n",
              "\n",
              "    [theme=dark] .colab-df-convert {\n",
              "      background-color: #3B4455;\n",
              "      fill: #D2E3FC;\n",
              "    }\n",
              "\n",
              "    [theme=dark] .colab-df-convert:hover {\n",
              "      background-color: #434B5C;\n",
              "      box-shadow: 0px 1px 3px 1px rgba(0, 0, 0, 0.15);\n",
              "      filter: drop-shadow(0px 1px 2px rgba(0, 0, 0, 0.3));\n",
              "      fill: #FFFFFF;\n",
              "    }\n",
              "  </style>\n",
              "\n",
              "      <script>\n",
              "        const buttonEl =\n",
              "          document.querySelector('#df-2b0b1008-bed8-408a-966e-60d72cac3b1f button.colab-df-convert');\n",
              "        buttonEl.style.display =\n",
              "          google.colab.kernel.accessAllowed ? 'block' : 'none';\n",
              "\n",
              "        async function convertToInteractive(key) {\n",
              "          const element = document.querySelector('#df-2b0b1008-bed8-408a-966e-60d72cac3b1f');\n",
              "          const dataTable =\n",
              "            await google.colab.kernel.invokeFunction('convertToInteractive',\n",
              "                                                     [key], {});\n",
              "          if (!dataTable) return;\n",
              "\n",
              "          const docLinkHtml = 'Like what you see? Visit the ' +\n",
              "            '<a target=\"_blank\" href=https://colab.research.google.com/notebooks/data_table.ipynb>data table notebook</a>'\n",
              "            + ' to learn more about interactive tables.';\n",
              "          element.innerHTML = '';\n",
              "          dataTable['output_type'] = 'display_data';\n",
              "          await google.colab.output.renderOutput(dataTable, element);\n",
              "          const docLink = document.createElement('div');\n",
              "          docLink.innerHTML = docLinkHtml;\n",
              "          element.appendChild(docLink);\n",
              "        }\n",
              "      </script>\n",
              "    </div>\n",
              "  </div>\n",
              "  "
            ],
            "text/plain": [
              "            bodyType brand   color  ...        gear_type  steering_wheel     price\n",
              "0              Седан   BMW  0000CC  ...       REAR_DRIVE            LEFT    700000\n",
              "1  Внедорожник 5 дв.   BMW  0000CC  ...  ALL_WHEEL_DRIVE            LEFT   3080000\n",
              "2              Седан   BMW  97948F  ...  ALL_WHEEL_DRIVE            LEFT   5020000\n",
              "3  Внедорожник 5 дв.   BMW  040001  ...  ALL_WHEEL_DRIVE            LEFT   9880000\n",
              "4  Внедорожник 5 дв.   BMW  040001  ...  ALL_WHEEL_DRIVE            LEFT  12740000\n",
              "\n",
              "[5 rows x 17 columns]"
            ]
          },
          "metadata": {},
          "execution_count": 4
        }
      ]
    },
    {
      "cell_type": "code",
      "source": [
        "print('Всего строк:',len(result)) \n",
        "print('Всего уникальных:', len(result.sell_id.unique()))"
      ],
      "metadata": {
        "colab": {
          "base_uri": "https://localhost:8080/"
        },
        "id": "d6W0PcZj5-Ye",
        "outputId": "b0d5e00f-8fdd-4be8-9b25-b75022689a53"
      },
      "execution_count": 5,
      "outputs": [
        {
          "output_type": "stream",
          "name": "stdout",
          "text": [
            "Всего строк: 473166\n",
            "Всего уникальных: 86133\n"
          ]
        }
      ]
    },
    {
      "cell_type": "code",
      "source": [
        "#Удалим дубли\n",
        "result.drop_duplicates(subset=['sell_id'], inplace=True)\n",
        "\n",
        "#Удалим пустые цены\n",
        "result.drop(result[result.price < 50].index, inplace=True)"
      ],
      "metadata": {
        "id": "hOlsPrjTdEyX"
      },
      "execution_count": 6,
      "outputs": []
    },
    {
      "cell_type": "markdown",
      "source": [
        "### Теперь приведём данные к единому виду.\n",
        "\n",
        "Цвета заданы в hex-color надо привести к английским наименованиям"
      ],
      "metadata": {
        "id": "0i0qv8IdNnos"
      }
    },
    {
      "cell_type": "code",
      "source": [
        "result.color.unique()"
      ],
      "metadata": {
        "colab": {
          "base_uri": "https://localhost:8080/"
        },
        "id": "xD88mkUaNr6s",
        "outputId": "e9571017-dd8b-4869-bf37-0f78a088f492"
      },
      "execution_count": 7,
      "outputs": [
        {
          "output_type": "execute_result",
          "data": {
            "text/plain": [
              "array(['0000CC', '97948F', '040001', 'FAFBFB', '200204', '007F00',\n",
              "       'C49648', '4A2197', '22A0F8', 'EE1D19', 'CACECB', 'FF8649',\n",
              "       'DEA522', '660099', 'FFD600', 'FFC0CB'], dtype=object)"
            ]
          },
          "metadata": {},
          "execution_count": 7
        }
      ]
    },
    {
      "cell_type": "code",
      "source": [
        "#цвета в eng\n",
        "color_dict = {'040001': 'black',\n",
        "                  'FAFBFB': 'white',\n",
        "                  '97948F': 'gray' ,\n",
        "                  '200204': 'brown',\n",
        "                  '0000CC': 'blue',\n",
        "                  'CACECB': 'silver',\n",
        "                  '660099': 'purple', \n",
        "                  '007F00': 'green',\n",
        "                  'FF8649': 'orange',\n",
        "                  'EE1D19': 'red',\n",
        "                  '22A0F8': 'light blue',\n",
        "                  'C49648': 'beige',\n",
        "                  '4A2197': 'violet',\n",
        "                  'FFD600': 'yellow',\n",
        "                  'DEA522': 'gold',\n",
        "                  'FFC0CB': 'pink' }\n",
        "\n",
        "\n",
        "result['color'] = result['color'].map(color_dict)"
      ],
      "metadata": {
        "id": "CMmDBl0UNJpb"
      },
      "execution_count": 8,
      "outputs": []
    },
    {
      "cell_type": "markdown",
      "source": [
        "Теперь тип кузова"
      ],
      "metadata": {
        "id": "T_h8HxOpOj-f"
      }
    },
    {
      "cell_type": "code",
      "source": [
        "result.bodyType.unique()"
      ],
      "metadata": {
        "colab": {
          "base_uri": "https://localhost:8080/"
        },
        "id": "iyW_fyWkOBHw",
        "outputId": "875391e1-0094-46bc-8944-d1da8b719e73"
      },
      "execution_count": 9,
      "outputs": [
        {
          "output_type": "execute_result",
          "data": {
            "text/plain": [
              "array(['Седан', 'Внедорожник 5 дв.', 'Хэтчбек 5 дв.',\n",
              "       'Лифтбек Gran Turismo', 'Купе', 'Седан Gran Coupe', 'Седан Long',\n",
              "       'Универсал 5 дв.', 'Лифтбек Gran Coupe', 'Кабриолет',\n",
              "       'Хэтчбек 3 дв.', 'Седан 2 дв.', 'Компактвэн Gran Tourer',\n",
              "       'Родстер', 'Хэтчбек 3 дв. Compact', 'Компактвэн', 'Минивэн Long',\n",
              "       'Минивэн', 'Пикап Двойная кабина Double Cab', 'Лифтбек', 'Фургон',\n",
              "       'Фургон Kasten', 'Внедорожник 5 дв. Allspace', 'Минивэн SWB',\n",
              "       'Пикап Двойная кабина', 'Компактвэн Life Maxi', 'Компактвэн Life',\n",
              "       'Компактвэн Maxi', 'Минивэн LWB', 'Универсал 5 дв. Alltrack',\n",
              "       'Фургон Maxi', 'Седан Latio', 'Универсал 5 дв. California',\n",
              "       'Внедорожник 3 дв.', 'Минивэн L', 'Купе-хардтоп', 'Минивэн XL',\n",
              "       'Минивэн Extralong', 'Минивэн L3', 'Минивэн L2', 'Минивэн L1',\n",
              "       'Универсал 5 дв. All-Terrain', 'Внедорожник открытый',\n",
              "       'Минивэн Extra-long', 'Седан Japan Market',\n",
              "       'Универсал 5 дв. Fielder', 'Седан-хардтоп',\n",
              "       'Пикап Двойная кабина Arctic Trucks', 'Пикап Одинарная кабина',\n",
              "       'Пикап Двойная кабина CrewMax', 'Седан Premio',\n",
              "       'Пикап Одинарная кабина Regular Cab',\n",
              "       'Пикап Полуторная кабина Long Bed', 'Седан-хардтоп Ceres',\n",
              "       'Компактвэн Noah', 'Седан US Market', 'Внедорожник 3 дв. 78',\n",
              "       'Седан Axio', 'Хэтчбек 5 дв. PHV', 'Внедорожник 5 дв. Long',\n",
              "       'Хэтчбек 5 дв. Sportback', 'Лифтбек Sportback',\n",
              "       'Кабриолет Roadster', 'Пикап Полуторная кабина',\n",
              "       'Хэтчбек 5 дв. Scout', 'Универсал 5 дв. Scout', 'Компактвэн Scout',\n",
              "       'Компактвэн Spike', 'Минивэн Spada', 'Седан Type-S',\n",
              "       'Родстер del Sol', 'Универсал 5 дв. Shuttle', 'Микровэн',\n",
              "       'Микровэн Hobio', 'Внедорожник 5 дв. L',\n",
              "       'Внедорожник 5 дв. Arctic Trucks', 'Компактвэн Joy',\n",
              "       'Минивэн Extra Long', 'Лимузин Pullman', 'Универсал 5 дв. Qualis',\n",
              "       'Минивэн Lucida', 'Купе Asti', 'Седан 105', 'Минивэн Cargo',\n",
              "       'Минивэн Caravan Elgrand', 'Фургон Kasten Maxi', 'Седан Gracia',\n",
              "       'Внедорожник 5 дв. 4x4', 'Универсал 5 дв. Ardeo',\n",
              "       'Внедорожник 5 дв. 76', 'Универсал 5 дв. Plus', 'Лифтбек Liftback',\n",
              "       'Хэтчбек 5 дв. Runx'], dtype=object)"
            ]
          },
          "metadata": {},
          "execution_count": 9
        }
      ]
    },
    {
      "cell_type": "markdown",
      "source": [
        "Очень много вариантов. Думаю что можно вырезать первое слово из всех наименований, привести в нижний регистр и уже с ним работать."
      ],
      "metadata": {
        "id": "MkMAJcnqOoIE"
      }
    },
    {
      "cell_type": "code",
      "source": [
        "result['bodyType'] = result['bodyType'].apply(lambda x: x.split(' ')[0].lower())\n",
        "result.bodyType.unique()"
      ],
      "metadata": {
        "colab": {
          "base_uri": "https://localhost:8080/"
        },
        "id": "KbXQ7jdbO4gp",
        "outputId": "f6a6fdf4-17ad-4b87-e13a-a500dd056168"
      },
      "execution_count": 10,
      "outputs": [
        {
          "output_type": "execute_result",
          "data": {
            "text/plain": [
              "array(['седан', 'внедорожник', 'хэтчбек', 'лифтбек', 'купе', 'универсал',\n",
              "       'кабриолет', 'компактвэн', 'родстер', 'минивэн', 'пикап', 'фургон',\n",
              "       'купе-хардтоп', 'седан-хардтоп', 'микровэн', 'лимузин'],\n",
              "      dtype=object)"
            ]
          },
          "metadata": {},
          "execution_count": 10
        }
      ]
    },
    {
      "cell_type": "code",
      "source": [
        "pts_dict = { True: 1,\n",
        "              False: 0}\n",
        "\n",
        "#маппим и заменяем на eng\n",
        "result['pts'] = result['pts'].map(pts_dict)"
      ],
      "metadata": {
        "id": "kVoLTthWin09"
      },
      "execution_count": 11,
      "outputs": []
    },
    {
      "cell_type": "markdown",
      "source": [
        "Значительно лучше. Смотрим что вышло."
      ],
      "metadata": {
        "id": "8mugx33CP8BO"
      }
    },
    {
      "cell_type": "code",
      "source": [
        "result.head()"
      ],
      "metadata": {
        "colab": {
          "base_uri": "https://localhost:8080/",
          "height": 287
        },
        "id": "YJ-7kWn_QARD",
        "outputId": "12c33a73-ea77-4a47-837c-297645b7973d"
      },
      "execution_count": 12,
      "outputs": [
        {
          "output_type": "execute_result",
          "data": {
            "text/html": [
              "\n",
              "  <div id=\"df-5d2c318f-e8ae-4988-9677-b1b23d685ee0\">\n",
              "    <div class=\"colab-df-container\">\n",
              "      <div>\n",
              "<style scoped>\n",
              "    .dataframe tbody tr th:only-of-type {\n",
              "        vertical-align: middle;\n",
              "    }\n",
              "\n",
              "    .dataframe tbody tr th {\n",
              "        vertical-align: top;\n",
              "    }\n",
              "\n",
              "    .dataframe thead th {\n",
              "        text-align: right;\n",
              "    }\n",
              "</style>\n",
              "<table border=\"1\" class=\"dataframe\">\n",
              "  <thead>\n",
              "    <tr style=\"text-align: right;\">\n",
              "      <th></th>\n",
              "      <th>bodyType</th>\n",
              "      <th>brand</th>\n",
              "      <th>color</th>\n",
              "      <th>engineDisplacement</th>\n",
              "      <th>enginePower</th>\n",
              "      <th>fuelType</th>\n",
              "      <th>mileage</th>\n",
              "      <th>numberOfDoors</th>\n",
              "      <th>productionDate</th>\n",
              "      <th>sell_id</th>\n",
              "      <th>vehicleTransmission</th>\n",
              "      <th>vendor</th>\n",
              "      <th>owners</th>\n",
              "      <th>pts</th>\n",
              "      <th>gear_type</th>\n",
              "      <th>steering_wheel</th>\n",
              "      <th>price</th>\n",
              "    </tr>\n",
              "  </thead>\n",
              "  <tbody>\n",
              "    <tr>\n",
              "      <th>0</th>\n",
              "      <td>седан</td>\n",
              "      <td>BMW</td>\n",
              "      <td>blue</td>\n",
              "      <td>2979</td>\n",
              "      <td>231</td>\n",
              "      <td>GASOLINE</td>\n",
              "      <td>225000</td>\n",
              "      <td>4</td>\n",
              "      <td>2003</td>\n",
              "      <td>1106147691-38665f2c</td>\n",
              "      <td>MECHANICAL</td>\n",
              "      <td>EUROPEAN</td>\n",
              "      <td>4</td>\n",
              "      <td>0</td>\n",
              "      <td>REAR_DRIVE</td>\n",
              "      <td>LEFT</td>\n",
              "      <td>700000</td>\n",
              "    </tr>\n",
              "    <tr>\n",
              "      <th>1</th>\n",
              "      <td>внедорожник</td>\n",
              "      <td>BMW</td>\n",
              "      <td>blue</td>\n",
              "      <td>1998</td>\n",
              "      <td>192</td>\n",
              "      <td>GASOLINE</td>\n",
              "      <td>95000</td>\n",
              "      <td>5</td>\n",
              "      <td>2019</td>\n",
              "      <td>1106546953-d8199219</td>\n",
              "      <td>AUTOMATIC</td>\n",
              "      <td>EUROPEAN</td>\n",
              "      <td>1</td>\n",
              "      <td>1</td>\n",
              "      <td>ALL_WHEEL_DRIVE</td>\n",
              "      <td>LEFT</td>\n",
              "      <td>3080000</td>\n",
              "    </tr>\n",
              "    <tr>\n",
              "      <th>2</th>\n",
              "      <td>седан</td>\n",
              "      <td>BMW</td>\n",
              "      <td>gray</td>\n",
              "      <td>1998</td>\n",
              "      <td>184</td>\n",
              "      <td>GASOLINE</td>\n",
              "      <td>5000</td>\n",
              "      <td>4</td>\n",
              "      <td>2021</td>\n",
              "      <td>1106289403-d7bf1d02</td>\n",
              "      <td>AUTOMATIC</td>\n",
              "      <td>EUROPEAN</td>\n",
              "      <td>1</td>\n",
              "      <td>1</td>\n",
              "      <td>ALL_WHEEL_DRIVE</td>\n",
              "      <td>LEFT</td>\n",
              "      <td>5020000</td>\n",
              "    </tr>\n",
              "    <tr>\n",
              "      <th>3</th>\n",
              "      <td>внедорожник</td>\n",
              "      <td>BMW</td>\n",
              "      <td>black</td>\n",
              "      <td>2993</td>\n",
              "      <td>265</td>\n",
              "      <td>DIESEL</td>\n",
              "      <td>29000</td>\n",
              "      <td>5</td>\n",
              "      <td>2019</td>\n",
              "      <td>1106243521-b287283f</td>\n",
              "      <td>AUTOMATIC</td>\n",
              "      <td>EUROPEAN</td>\n",
              "      <td>2</td>\n",
              "      <td>1</td>\n",
              "      <td>ALL_WHEEL_DRIVE</td>\n",
              "      <td>LEFT</td>\n",
              "      <td>9880000</td>\n",
              "    </tr>\n",
              "    <tr>\n",
              "      <th>4</th>\n",
              "      <td>внедорожник</td>\n",
              "      <td>BMW</td>\n",
              "      <td>black</td>\n",
              "      <td>2993</td>\n",
              "      <td>340</td>\n",
              "      <td>DIESEL</td>\n",
              "      <td>0</td>\n",
              "      <td>5</td>\n",
              "      <td>2021</td>\n",
              "      <td>1106611443-7880a32b</td>\n",
              "      <td>AUTOMATIC</td>\n",
              "      <td>EUROPEAN</td>\n",
              "      <td>0</td>\n",
              "      <td>1</td>\n",
              "      <td>ALL_WHEEL_DRIVE</td>\n",
              "      <td>LEFT</td>\n",
              "      <td>12740000</td>\n",
              "    </tr>\n",
              "  </tbody>\n",
              "</table>\n",
              "</div>\n",
              "      <button class=\"colab-df-convert\" onclick=\"convertToInteractive('df-5d2c318f-e8ae-4988-9677-b1b23d685ee0')\"\n",
              "              title=\"Convert this dataframe to an interactive table.\"\n",
              "              style=\"display:none;\">\n",
              "        \n",
              "  <svg xmlns=\"http://www.w3.org/2000/svg\" height=\"24px\"viewBox=\"0 0 24 24\"\n",
              "       width=\"24px\">\n",
              "    <path d=\"M0 0h24v24H0V0z\" fill=\"none\"/>\n",
              "    <path d=\"M18.56 5.44l.94 2.06.94-2.06 2.06-.94-2.06-.94-.94-2.06-.94 2.06-2.06.94zm-11 1L8.5 8.5l.94-2.06 2.06-.94-2.06-.94L8.5 2.5l-.94 2.06-2.06.94zm10 10l.94 2.06.94-2.06 2.06-.94-2.06-.94-.94-2.06-.94 2.06-2.06.94z\"/><path d=\"M17.41 7.96l-1.37-1.37c-.4-.4-.92-.59-1.43-.59-.52 0-1.04.2-1.43.59L10.3 9.45l-7.72 7.72c-.78.78-.78 2.05 0 2.83L4 21.41c.39.39.9.59 1.41.59.51 0 1.02-.2 1.41-.59l7.78-7.78 2.81-2.81c.8-.78.8-2.07 0-2.86zM5.41 20L4 18.59l7.72-7.72 1.47 1.35L5.41 20z\"/>\n",
              "  </svg>\n",
              "      </button>\n",
              "      \n",
              "  <style>\n",
              "    .colab-df-container {\n",
              "      display:flex;\n",
              "      flex-wrap:wrap;\n",
              "      gap: 12px;\n",
              "    }\n",
              "\n",
              "    .colab-df-convert {\n",
              "      background-color: #E8F0FE;\n",
              "      border: none;\n",
              "      border-radius: 50%;\n",
              "      cursor: pointer;\n",
              "      display: none;\n",
              "      fill: #1967D2;\n",
              "      height: 32px;\n",
              "      padding: 0 0 0 0;\n",
              "      width: 32px;\n",
              "    }\n",
              "\n",
              "    .colab-df-convert:hover {\n",
              "      background-color: #E2EBFA;\n",
              "      box-shadow: 0px 1px 2px rgba(60, 64, 67, 0.3), 0px 1px 3px 1px rgba(60, 64, 67, 0.15);\n",
              "      fill: #174EA6;\n",
              "    }\n",
              "\n",
              "    [theme=dark] .colab-df-convert {\n",
              "      background-color: #3B4455;\n",
              "      fill: #D2E3FC;\n",
              "    }\n",
              "\n",
              "    [theme=dark] .colab-df-convert:hover {\n",
              "      background-color: #434B5C;\n",
              "      box-shadow: 0px 1px 3px 1px rgba(0, 0, 0, 0.15);\n",
              "      filter: drop-shadow(0px 1px 2px rgba(0, 0, 0, 0.3));\n",
              "      fill: #FFFFFF;\n",
              "    }\n",
              "  </style>\n",
              "\n",
              "      <script>\n",
              "        const buttonEl =\n",
              "          document.querySelector('#df-5d2c318f-e8ae-4988-9677-b1b23d685ee0 button.colab-df-convert');\n",
              "        buttonEl.style.display =\n",
              "          google.colab.kernel.accessAllowed ? 'block' : 'none';\n",
              "\n",
              "        async function convertToInteractive(key) {\n",
              "          const element = document.querySelector('#df-5d2c318f-e8ae-4988-9677-b1b23d685ee0');\n",
              "          const dataTable =\n",
              "            await google.colab.kernel.invokeFunction('convertToInteractive',\n",
              "                                                     [key], {});\n",
              "          if (!dataTable) return;\n",
              "\n",
              "          const docLinkHtml = 'Like what you see? Visit the ' +\n",
              "            '<a target=\"_blank\" href=https://colab.research.google.com/notebooks/data_table.ipynb>data table notebook</a>'\n",
              "            + ' to learn more about interactive tables.';\n",
              "          element.innerHTML = '';\n",
              "          dataTable['output_type'] = 'display_data';\n",
              "          await google.colab.output.renderOutput(dataTable, element);\n",
              "          const docLink = document.createElement('div');\n",
              "          docLink.innerHTML = docLinkHtml;\n",
              "          element.appendChild(docLink);\n",
              "        }\n",
              "      </script>\n",
              "    </div>\n",
              "  </div>\n",
              "  "
            ],
            "text/plain": [
              "      bodyType brand  color  ...        gear_type  steering_wheel     price\n",
              "0        седан   BMW   blue  ...       REAR_DRIVE            LEFT    700000\n",
              "1  внедорожник   BMW   blue  ...  ALL_WHEEL_DRIVE            LEFT   3080000\n",
              "2        седан   BMW   gray  ...  ALL_WHEEL_DRIVE            LEFT   5020000\n",
              "3  внедорожник   BMW  black  ...  ALL_WHEEL_DRIVE            LEFT   9880000\n",
              "4  внедорожник   BMW  black  ...  ALL_WHEEL_DRIVE            LEFT  12740000\n",
              "\n",
              "[5 rows x 17 columns]"
            ]
          },
          "metadata": {},
          "execution_count": 12
        }
      ]
    },
    {
      "cell_type": "markdown",
      "source": [
        "Выглядит как то что нам надо. Сохраним всё в отдельную CSV для дальнейшей работы."
      ],
      "metadata": {
        "id": "D-lgevpK4es1"
      }
    },
    {
      "cell_type": "code",
      "source": [
        "result.to_csv('train.csv', index=False) #сохраняем ДФ"
      ],
      "metadata": {
        "id": "7P-6PxG3b_aP"
      },
      "execution_count": 13,
      "outputs": []
    }
  ]
}
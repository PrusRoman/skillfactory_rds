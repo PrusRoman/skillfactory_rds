{
  "nbformat": 4,
  "nbformat_minor": 0,
  "metadata": {
    "colab": {
      "name": "РЕШЕНИЕ Проект 4. Компьютер говорит «Нет»",
      "provenance": [],
      "collapsed_sections": []
    },
    "kernelspec": {
      "name": "python3",
      "display_name": "Python 3"
    },
    "language_info": {
      "name": "python"
    }
  },
  "cells": [
    {
      "cell_type": "markdown",
      "metadata": {
        "id": "SYBqCIZc_kKD"
      },
      "source": [
        "Добро пожаловать на хакатон по машинному обучению!\n",
        "\n",
        "Разрабатываем скоринг модель для вторичных клиентов банка, которая бы предсказывала вероятность дефолта клиента. Для этого:\n",
        "1. Проанализировать данные, которые есть \"на руках\".\n",
        "2. Провести EDA и Feature Engeniring.\n",
        "2. Определить значимые параметры заемщика.\n",
        "3. запустить нашу модель и тд\n",
        "\n",
        "# Go-go!"
      ]
    },
    {
      "cell_type": "code",
      "metadata": {
        "id": "gLnfDxnA_emv"
      },
      "source": [
        "#Сперва, конечно, подключаем нужные библиотеки\n",
        "import pandas as pd\n",
        "from pandas import Series\n",
        "import numpy as np\n",
        "\n",
        "import matplotlib.pyplot as plt\n",
        "import seaborn as sns\n",
        "\n",
        "from sklearn.feature_selection import f_classif, mutual_info_classif\n",
        "from sklearn.preprocessing import LabelEncoder, OneHotEncoder, StandardScaler\n",
        "from sklearn.model_selection import train_test_split\n",
        "from sklearn.model_selection import GridSearchCV\n",
        "from sklearn.linear_model import LogisticRegression\n",
        "from sklearn.metrics import confusion_matrix\n",
        "from sklearn.metrics import auc, roc_auc_score, roc_curve\n",
        "\n",
        "import warnings\n",
        "warnings.filterwarnings('ignore')"
      ],
      "execution_count": 2,
      "outputs": []
    },
    {
      "cell_type": "markdown",
      "metadata": {
        "id": "VivaAql8KQNt"
      },
      "source": [
        "Вынесем блок с функциями"
      ]
    },
    {
      "cell_type": "code",
      "metadata": {
        "id": "hzQHTsxNKO0H"
      },
      "source": [
        "#функция для создания boxPlot по набору колонок\n",
        "def get_boxplot(column):\n",
        "    #на вход наименование колоноки, в ответе боКсплоты\n",
        "    fig, ax = plt.subplots(figsize = (14, 4))\n",
        "    sns.boxplot(x='default', y=column, \n",
        "                data=data[data.Train == 1].loc[data[data.Train == 1].loc[:, column].isin(data[data.Train == 1].loc[:, column].value_counts().index[:10])],\n",
        "               ax=ax)\n",
        "    plt.xticks(rotation=45)\n",
        "    ax.set_title('Boxplot for ' + column)\n",
        "    plt.show()\n",
        "\n",
        "#создание cat_plot\n",
        "def get_catplot(column):\n",
        "  g = sns.catplot(\"default\", col=column, col_wrap=7,\n",
        "                data=data[data.Train == 1],\n",
        "                kind=\"count\", height=3.5, aspect=.8, \n",
        "                palette='tab20')\n",
        "  #fig.suptitle('sf')\n",
        "  plt.show()\n",
        "\n",
        "#создание displot для числовых переменных\n",
        "def get_displot(column):\n",
        "  plt.figure()\n",
        "  sns.distplot(data[data.Train == 1][column], kde = False, rug=False)\n",
        "  plt.title(i)\n",
        "  plt.show()\n"
      ],
      "execution_count": 30,
      "outputs": []
    },
    {
      "cell_type": "code",
      "metadata": {
        "colab": {
          "resources": {
            "http://localhost:8080/nbextensions/google.colab/files.js": {
              "data": "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",
              "ok": true,
              "headers": [
                [
                  "content-type",
                  "application/javascript"
                ]
              ],
              "status": 200,
              "status_text": "OK"
            }
          },
          "base_uri": "https://localhost:8080/",
          "height": 111
        },
        "id": "f4er6e1jAfsS",
        "outputId": "fdf60bdd-0c2f-4609-835c-8ced1a4b14fd"
      },
      "source": [
        "#работаю в collab, поэтому модуль для загрузки данных\n",
        "from google.colab import files\n",
        "upload = files.upload()"
      ],
      "execution_count": 4,
      "outputs": [
        {
          "output_type": "display_data",
          "data": {
            "text/html": [
              "\n",
              "     <input type=\"file\" id=\"files-5dcb71c9-5956-42bb-911d-bf63f458bf32\" name=\"files[]\" multiple disabled\n",
              "        style=\"border:none\" />\n",
              "     <output id=\"result-5dcb71c9-5956-42bb-911d-bf63f458bf32\">\n",
              "      Upload widget is only available when the cell has been executed in the\n",
              "      current browser session. Please rerun this cell to enable.\n",
              "      </output>\n",
              "      <script src=\"/nbextensions/google.colab/files.js\"></script> "
            ],
            "text/plain": [
              "<IPython.core.display.HTML object>"
            ]
          },
          "metadata": {
            "tags": []
          }
        },
        {
          "output_type": "stream",
          "text": [
            "Saving test.csv to test (1).csv\n",
            "Saving train.csv to train (1).csv\n"
          ],
          "name": "stdout"
        }
      ]
    },
    {
      "cell_type": "code",
      "metadata": {
        "id": "5bBGMbHTBMMv"
      },
      "source": [
        "#блок для kagle, куда потом переносить решение\n",
        "#data_directory = '/kaggle/input/sf-dst-scoring/'\n",
        "#df_train = pd.read_csv(data_directory+'train.csv')\n",
        "#df_test = pd.read_csv(data_directory+'test.csv')"
      ],
      "execution_count": 5,
      "outputs": []
    },
    {
      "cell_type": "code",
      "metadata": {
        "colab": {
          "base_uri": "https://localhost:8080/",
          "height": 226
        },
        "id": "yUxGI-GGBUCs",
        "outputId": "4c2de6ab-3a79-4665-9d15-2d949ff098c4"
      },
      "source": [
        "#Читаем данные, заодно смотрим что там творится\n",
        "df_train = pd.read_csv(\"train.csv\", sep=',')\n",
        "df_test = pd.read_csv(\"test.csv\", sep=',')\n",
        "df_train.head()"
      ],
      "execution_count": 11,
      "outputs": [
        {
          "output_type": "execute_result",
          "data": {
            "text/html": [
              "<div>\n",
              "<style scoped>\n",
              "    .dataframe tbody tr th:only-of-type {\n",
              "        vertical-align: middle;\n",
              "    }\n",
              "\n",
              "    .dataframe tbody tr th {\n",
              "        vertical-align: top;\n",
              "    }\n",
              "\n",
              "    .dataframe thead th {\n",
              "        text-align: right;\n",
              "    }\n",
              "</style>\n",
              "<table border=\"1\" class=\"dataframe\">\n",
              "  <thead>\n",
              "    <tr style=\"text-align: right;\">\n",
              "      <th></th>\n",
              "      <th>client_id</th>\n",
              "      <th>app_date</th>\n",
              "      <th>education</th>\n",
              "      <th>sex</th>\n",
              "      <th>age</th>\n",
              "      <th>car</th>\n",
              "      <th>car_type</th>\n",
              "      <th>decline_app_cnt</th>\n",
              "      <th>good_work</th>\n",
              "      <th>score_bki</th>\n",
              "      <th>bki_request_cnt</th>\n",
              "      <th>region_rating</th>\n",
              "      <th>home_address</th>\n",
              "      <th>work_address</th>\n",
              "      <th>income</th>\n",
              "      <th>sna</th>\n",
              "      <th>first_time</th>\n",
              "      <th>foreign_passport</th>\n",
              "      <th>default</th>\n",
              "    </tr>\n",
              "  </thead>\n",
              "  <tbody>\n",
              "    <tr>\n",
              "      <th>0</th>\n",
              "      <td>25905</td>\n",
              "      <td>01FEB2014</td>\n",
              "      <td>SCH</td>\n",
              "      <td>M</td>\n",
              "      <td>62</td>\n",
              "      <td>Y</td>\n",
              "      <td>Y</td>\n",
              "      <td>0</td>\n",
              "      <td>0</td>\n",
              "      <td>-2.008753</td>\n",
              "      <td>1</td>\n",
              "      <td>50</td>\n",
              "      <td>1</td>\n",
              "      <td>2</td>\n",
              "      <td>18000</td>\n",
              "      <td>4</td>\n",
              "      <td>1</td>\n",
              "      <td>N</td>\n",
              "      <td>0</td>\n",
              "    </tr>\n",
              "    <tr>\n",
              "      <th>1</th>\n",
              "      <td>63161</td>\n",
              "      <td>12MAR2014</td>\n",
              "      <td>SCH</td>\n",
              "      <td>F</td>\n",
              "      <td>59</td>\n",
              "      <td>N</td>\n",
              "      <td>N</td>\n",
              "      <td>0</td>\n",
              "      <td>0</td>\n",
              "      <td>-1.532276</td>\n",
              "      <td>3</td>\n",
              "      <td>50</td>\n",
              "      <td>2</td>\n",
              "      <td>3</td>\n",
              "      <td>19000</td>\n",
              "      <td>4</td>\n",
              "      <td>1</td>\n",
              "      <td>N</td>\n",
              "      <td>0</td>\n",
              "    </tr>\n",
              "    <tr>\n",
              "      <th>2</th>\n",
              "      <td>25887</td>\n",
              "      <td>01FEB2014</td>\n",
              "      <td>SCH</td>\n",
              "      <td>M</td>\n",
              "      <td>25</td>\n",
              "      <td>Y</td>\n",
              "      <td>N</td>\n",
              "      <td>2</td>\n",
              "      <td>0</td>\n",
              "      <td>-1.408142</td>\n",
              "      <td>1</td>\n",
              "      <td>80</td>\n",
              "      <td>1</td>\n",
              "      <td>2</td>\n",
              "      <td>30000</td>\n",
              "      <td>1</td>\n",
              "      <td>4</td>\n",
              "      <td>Y</td>\n",
              "      <td>0</td>\n",
              "    </tr>\n",
              "    <tr>\n",
              "      <th>3</th>\n",
              "      <td>16222</td>\n",
              "      <td>23JAN2014</td>\n",
              "      <td>SCH</td>\n",
              "      <td>F</td>\n",
              "      <td>53</td>\n",
              "      <td>N</td>\n",
              "      <td>N</td>\n",
              "      <td>0</td>\n",
              "      <td>0</td>\n",
              "      <td>-2.057471</td>\n",
              "      <td>2</td>\n",
              "      <td>50</td>\n",
              "      <td>2</td>\n",
              "      <td>3</td>\n",
              "      <td>10000</td>\n",
              "      <td>1</td>\n",
              "      <td>3</td>\n",
              "      <td>N</td>\n",
              "      <td>0</td>\n",
              "    </tr>\n",
              "    <tr>\n",
              "      <th>4</th>\n",
              "      <td>101655</td>\n",
              "      <td>18APR2014</td>\n",
              "      <td>GRD</td>\n",
              "      <td>M</td>\n",
              "      <td>48</td>\n",
              "      <td>N</td>\n",
              "      <td>N</td>\n",
              "      <td>0</td>\n",
              "      <td>1</td>\n",
              "      <td>-1.244723</td>\n",
              "      <td>1</td>\n",
              "      <td>60</td>\n",
              "      <td>2</td>\n",
              "      <td>3</td>\n",
              "      <td>30000</td>\n",
              "      <td>1</td>\n",
              "      <td>4</td>\n",
              "      <td>Y</td>\n",
              "      <td>0</td>\n",
              "    </tr>\n",
              "  </tbody>\n",
              "</table>\n",
              "</div>"
            ],
            "text/plain": [
              "   client_id   app_date education  ... first_time  foreign_passport default\n",
              "0      25905  01FEB2014       SCH  ...          1                 N       0\n",
              "1      63161  12MAR2014       SCH  ...          1                 N       0\n",
              "2      25887  01FEB2014       SCH  ...          4                 Y       0\n",
              "3      16222  23JAN2014       SCH  ...          3                 N       0\n",
              "4     101655  18APR2014       GRD  ...          4                 Y       0\n",
              "\n",
              "[5 rows x 19 columns]"
            ]
          },
          "metadata": {
            "tags": []
          },
          "execution_count": 11
        }
      ]
    },
    {
      "cell_type": "markdown",
      "metadata": {
        "id": "v96ZUWoACMuX"
      },
      "source": [
        "*   client_id \tидентификатор клиента\n",
        "*   app_date  - дата подачи заявки\n",
        "*   education \tуровень образования\n",
        "*   sex \tпол заёмщика\n",
        "*   age \tвозраст заёмщика\n",
        "*   car \tфлаг наличия автомобиля\n",
        "*   car_type \tфлаг автомобиля-иномарки\n",
        "*   decline_app_cnt \tколичество отказанных прошлых заявок\n",
        "*   good_work \tфлаг наличия «хорошей» работы\n",
        "*   score_bki некий скор из БКИ(Бюро Кредитной Истории)\n",
        "*   bki_request_cnt \tколичество запросов в БКИ\n",
        "*   region_rating - рейтинг региона\n",
        "*   home_address \tкатегоризатор домашнего адреса\n",
        "*   work_address \tкатегоризатор рабочего адреса\n",
        "*   income \tдоход заёмщика\n",
        "*   sna - связь заемщика с клиентами банка\n",
        "*   first_time - давность наличия информации о заемщике\n",
        "*   foreign_passport \tналичие загранпаспорта\n",
        "*   default - шанс дефолта по кредиту "
      ]
    },
    {
      "cell_type": "code",
      "metadata": {
        "id": "BtvToLcPKYsz"
      },
      "source": [
        "#разделим колонки по типам, так будет проще строить графики\n",
        "num_cols = ['age', 'decline_app_cnt', 'bki_request_cnt', 'income', 'score_bki', 'region_rating']\n",
        "bin_cols = ['sex', 'car', 'car_type', 'foreign_passport', 'good_work']\n",
        "cat_cols = ['education', 'work_address', 'home_address', 'sna', 'first_time']\n",
        "time_cols = ['app_date']"
      ],
      "execution_count": 13,
      "outputs": []
    },
    {
      "cell_type": "code",
      "metadata": {
        "colab": {
          "base_uri": "https://localhost:8080/",
          "height": 320
        },
        "id": "GX8KwEodCGsg",
        "outputId": "120fa87b-62de-4d0f-ebbf-53ab037b2481"
      },
      "source": [
        "df_train.describe()"
      ],
      "execution_count": 12,
      "outputs": [
        {
          "output_type": "execute_result",
          "data": {
            "text/html": [
              "<div>\n",
              "<style scoped>\n",
              "    .dataframe tbody tr th:only-of-type {\n",
              "        vertical-align: middle;\n",
              "    }\n",
              "\n",
              "    .dataframe tbody tr th {\n",
              "        vertical-align: top;\n",
              "    }\n",
              "\n",
              "    .dataframe thead th {\n",
              "        text-align: right;\n",
              "    }\n",
              "</style>\n",
              "<table border=\"1\" class=\"dataframe\">\n",
              "  <thead>\n",
              "    <tr style=\"text-align: right;\">\n",
              "      <th></th>\n",
              "      <th>client_id</th>\n",
              "      <th>age</th>\n",
              "      <th>decline_app_cnt</th>\n",
              "      <th>good_work</th>\n",
              "      <th>score_bki</th>\n",
              "      <th>bki_request_cnt</th>\n",
              "      <th>region_rating</th>\n",
              "      <th>home_address</th>\n",
              "      <th>work_address</th>\n",
              "      <th>income</th>\n",
              "      <th>sna</th>\n",
              "      <th>first_time</th>\n",
              "      <th>default</th>\n",
              "    </tr>\n",
              "  </thead>\n",
              "  <tbody>\n",
              "    <tr>\n",
              "      <th>count</th>\n",
              "      <td>73799.000000</td>\n",
              "      <td>73799.000000</td>\n",
              "      <td>73799.000000</td>\n",
              "      <td>73799.000000</td>\n",
              "      <td>73799.000000</td>\n",
              "      <td>73799.000000</td>\n",
              "      <td>73799.000000</td>\n",
              "      <td>73799.000000</td>\n",
              "      <td>73799.000000</td>\n",
              "      <td>73799.000000</td>\n",
              "      <td>73799.000000</td>\n",
              "      <td>73799.000000</td>\n",
              "      <td>73799.000000</td>\n",
              "    </tr>\n",
              "    <tr>\n",
              "      <th>mean</th>\n",
              "      <td>55137.965094</td>\n",
              "      <td>39.280641</td>\n",
              "      <td>0.275749</td>\n",
              "      <td>0.164894</td>\n",
              "      <td>-1.904724</td>\n",
              "      <td>2.000339</td>\n",
              "      <td>56.725701</td>\n",
              "      <td>1.575509</td>\n",
              "      <td>2.496280</td>\n",
              "      <td>41099.775417</td>\n",
              "      <td>1.733330</td>\n",
              "      <td>2.765458</td>\n",
              "      <td>0.126994</td>\n",
              "    </tr>\n",
              "    <tr>\n",
              "      <th>std</th>\n",
              "      <td>31841.921168</td>\n",
              "      <td>11.520378</td>\n",
              "      <td>0.804272</td>\n",
              "      <td>0.371087</td>\n",
              "      <td>0.498231</td>\n",
              "      <td>2.252073</td>\n",
              "      <td>13.055717</td>\n",
              "      <td>0.527631</td>\n",
              "      <td>0.689818</td>\n",
              "      <td>46166.322400</td>\n",
              "      <td>1.123622</td>\n",
              "      <td>1.009463</td>\n",
              "      <td>0.332968</td>\n",
              "    </tr>\n",
              "    <tr>\n",
              "      <th>min</th>\n",
              "      <td>1.000000</td>\n",
              "      <td>21.000000</td>\n",
              "      <td>0.000000</td>\n",
              "      <td>0.000000</td>\n",
              "      <td>-3.624586</td>\n",
              "      <td>0.000000</td>\n",
              "      <td>20.000000</td>\n",
              "      <td>1.000000</td>\n",
              "      <td>1.000000</td>\n",
              "      <td>1000.000000</td>\n",
              "      <td>1.000000</td>\n",
              "      <td>1.000000</td>\n",
              "      <td>0.000000</td>\n",
              "    </tr>\n",
              "    <tr>\n",
              "      <th>25%</th>\n",
              "      <td>27440.500000</td>\n",
              "      <td>30.000000</td>\n",
              "      <td>0.000000</td>\n",
              "      <td>0.000000</td>\n",
              "      <td>-2.259534</td>\n",
              "      <td>0.000000</td>\n",
              "      <td>50.000000</td>\n",
              "      <td>1.000000</td>\n",
              "      <td>2.000000</td>\n",
              "      <td>20000.000000</td>\n",
              "      <td>1.000000</td>\n",
              "      <td>2.000000</td>\n",
              "      <td>0.000000</td>\n",
              "    </tr>\n",
              "    <tr>\n",
              "      <th>50%</th>\n",
              "      <td>55274.000000</td>\n",
              "      <td>37.000000</td>\n",
              "      <td>0.000000</td>\n",
              "      <td>0.000000</td>\n",
              "      <td>-1.920823</td>\n",
              "      <td>1.000000</td>\n",
              "      <td>50.000000</td>\n",
              "      <td>2.000000</td>\n",
              "      <td>3.000000</td>\n",
              "      <td>30000.000000</td>\n",
              "      <td>1.000000</td>\n",
              "      <td>3.000000</td>\n",
              "      <td>0.000000</td>\n",
              "    </tr>\n",
              "    <tr>\n",
              "      <th>75%</th>\n",
              "      <td>82758.500000</td>\n",
              "      <td>48.000000</td>\n",
              "      <td>0.000000</td>\n",
              "      <td>0.000000</td>\n",
              "      <td>-1.569831</td>\n",
              "      <td>3.000000</td>\n",
              "      <td>60.000000</td>\n",
              "      <td>2.000000</td>\n",
              "      <td>3.000000</td>\n",
              "      <td>48000.000000</td>\n",
              "      <td>2.000000</td>\n",
              "      <td>4.000000</td>\n",
              "      <td>0.000000</td>\n",
              "    </tr>\n",
              "    <tr>\n",
              "      <th>max</th>\n",
              "      <td>110147.000000</td>\n",
              "      <td>72.000000</td>\n",
              "      <td>33.000000</td>\n",
              "      <td>1.000000</td>\n",
              "      <td>0.199773</td>\n",
              "      <td>53.000000</td>\n",
              "      <td>80.000000</td>\n",
              "      <td>3.000000</td>\n",
              "      <td>3.000000</td>\n",
              "      <td>1000000.000000</td>\n",
              "      <td>4.000000</td>\n",
              "      <td>4.000000</td>\n",
              "      <td>1.000000</td>\n",
              "    </tr>\n",
              "  </tbody>\n",
              "</table>\n",
              "</div>"
            ],
            "text/plain": [
              "           client_id           age  ...    first_time       default\n",
              "count   73799.000000  73799.000000  ...  73799.000000  73799.000000\n",
              "mean    55137.965094     39.280641  ...      2.765458      0.126994\n",
              "std     31841.921168     11.520378  ...      1.009463      0.332968\n",
              "min         1.000000     21.000000  ...      1.000000      0.000000\n",
              "25%     27440.500000     30.000000  ...      2.000000      0.000000\n",
              "50%     55274.000000     37.000000  ...      3.000000      0.000000\n",
              "75%     82758.500000     48.000000  ...      4.000000      0.000000\n",
              "max    110147.000000     72.000000  ...      4.000000      1.000000\n",
              "\n",
              "[8 rows x 13 columns]"
            ]
          },
          "metadata": {
            "tags": []
          },
          "execution_count": 12
        }
      ]
    },
    {
      "cell_type": "code",
      "metadata": {
        "id": "YdiuWtH6HPbc"
      },
      "source": [
        "df_train['Train'] = 1 # отметим где фрейм для тренировки\n",
        "df_test['Train'] = 0 # а где для теста\n",
        "\n",
        "data = pd.concat([df_train, df_test], ignore_index=True) #соединим чтобы работать сразу с признаками во всех фреймах"
      ],
      "execution_count": 14,
      "outputs": []
    },
    {
      "cell_type": "code",
      "metadata": {
        "colab": {
          "base_uri": "https://localhost:8080/"
        },
        "id": "Uge_zbhiHzpR",
        "outputId": "40723fbb-1fb8-4562-f97f-dd6fef932038"
      },
      "source": [
        "#что по пропускам?\n",
        "data.isna().sum()"
      ],
      "execution_count": 15,
      "outputs": [
        {
          "output_type": "execute_result",
          "data": {
            "text/plain": [
              "client_id               0\n",
              "app_date                0\n",
              "education             478\n",
              "sex                     0\n",
              "age                     0\n",
              "car                     0\n",
              "car_type                0\n",
              "decline_app_cnt         0\n",
              "good_work               0\n",
              "score_bki               0\n",
              "bki_request_cnt         0\n",
              "region_rating           0\n",
              "home_address            0\n",
              "work_address            0\n",
              "income                  0\n",
              "sna                     0\n",
              "first_time              0\n",
              "foreign_passport        0\n",
              "default             36349\n",
              "Train                   0\n",
              "dtype: int64"
            ]
          },
          "metadata": {
            "tags": []
          },
          "execution_count": 15
        }
      ]
    },
    {
      "cell_type": "markdown",
      "metadata": {
        "id": "au-RZuj0H4op"
      },
      "source": [
        "Пропуски только в образовании и в признаке дефолта(тестовая выборка как я понимаю). Тк пропусков не много, можно не строить график для визуализации. Сразу переходим к EDA.\n",
        "\n",
        "# EDA"
      ]
    },
    {
      "cell_type": "markdown",
      "metadata": {
        "id": "gYGN8Ub2IP8U"
      },
      "source": [
        "Начём с пропусков в образовании. Какие вообще есть значения?"
      ]
    },
    {
      "cell_type": "code",
      "metadata": {
        "colab": {
          "base_uri": "https://localhost:8080/",
          "height": 284
        },
        "id": "IOZlG8GXIIPs",
        "outputId": "b3dd6c68-abec-4058-c86c-4c7012f2f6ce"
      },
      "source": [
        "data['education'].value_counts().plot.barh()"
      ],
      "execution_count": 16,
      "outputs": [
        {
          "output_type": "execute_result",
          "data": {
            "text/plain": [
              "<matplotlib.axes._subplots.AxesSubplot at 0x7f4d2efda410>"
            ]
          },
          "metadata": {
            "tags": []
          },
          "execution_count": 16
        },
        {
          "output_type": "display_data",
          "data": {
            "image/png": "[encoded data removed]",
            "text/plain": [
              "<Figure size 432x288 with 1 Axes>"
            ]
          },
          "metadata": {
            "tags": [],
            "needs_background": "light"
          }
        }
      ]
    },
    {
      "cell_type": "markdown",
      "metadata": {
        "id": "czy5M-5xInmN"
      },
      "source": [
        "Заполним пропуски самым популярным образованием в группе с таким же полом, наличичем машины, регионом, хорошей работой и загран.паспортом."
      ]
    },
    {
      "cell_type": "code",
      "metadata": {
        "id": "xCavZBivIdC9"
      },
      "source": [
        "data['education'] = data.groupby(['sex','car','region_rating','good_work','foreign_passport'], sort=False)['education'].apply(lambda x: x.fillna(x.mode().iloc[0]))"
      ],
      "execution_count": 17,
      "outputs": []
    },
    {
      "cell_type": "code",
      "metadata": {
        "id": "R1GdLPwoJsK5"
      },
      "source": [
        "#тут заполняю пропуски в Default отрицательным значением, чтобы потом легко понимать что есть что\n",
        "data.default.fillna(-1, inplace=True)"
      ],
      "execution_count": 18,
      "outputs": []
    },
    {
      "cell_type": "markdown",
      "metadata": {
        "id": "RuyZh8FcLzBF"
      },
      "source": [
        "Посмотрим на категориальные переменные:"
      ]
    },
    {
      "cell_type": "code",
      "metadata": {
        "colab": {
          "base_uri": "https://localhost:8080/",
          "height": 1000
        },
        "id": "1XMRkcNXKCf6",
        "outputId": "295ab29c-f871-4c1a-ae13-7f708016406d"
      },
      "source": [
        "for col in cat_cols:\n",
        "  get_catplot(col)"
      ],
      "execution_count": 26,
      "outputs": [
        {
          "output_type": "display_data",
          "data": {
            "image/png": "[encoded data removed]",
            "text/plain": [
              "<Figure size 1411.2x252 with 5 Axes>"
            ]
          },
          "metadata": {
            "tags": [],
            "needs_background": "light"
          }
        },
        {
          "output_type": "display_data",
          "data": {
            "image/png": "[encoded data removed]",
            "text/plain": [
              "<Figure size 1411.2x252 with 3 Axes>"
            ]
          },
          "metadata": {
            "tags": [],
            "needs_background": "light"
          }
        },
        {
          "output_type": "display_data",
          "data": {
            "image/png": "[encoded data removed]",
            "text/plain": [
              "<Figure size 1411.2x252 with 3 Axes>"
            ]
          },
          "metadata": {
            "tags": [],
            "needs_background": "light"
          }
        },
        {
          "output_type": "display_data",
          "data": {
            "image/png": "[encoded data removed]",
            "text/plain": [
              "<Figure size 1411.2x252 with 4 Axes>"
            ]
          },
          "metadata": {
            "tags": [],
            "needs_background": "light"
          }
        },
        {
          "output_type": "display_data",
          "data": {
            "image/png": "[encoded data removed]",
            "text/plain": [
              "<Figure size 1411.2x252 with 4 Axes>"
            ]
          },
          "metadata": {
            "tags": [],
            "needs_background": "light"
          }
        }
      ]
    },
    {
      "cell_type": "markdown",
      "metadata": {
        "id": "KWlXDK8aMAOb"
      },
      "source": [
        "SNA = 4, home_address = 2 и first_time = 1 - судя по графикам, скорее всего не вернут кредит.\n",
        "\n",
        "Людей с образованием ACD и PGR очень мало или они редко берут кредиты. Эти образования, объединим в одну группу."
      ]
    },
    {
      "cell_type": "code",
      "metadata": {
        "colab": {
          "base_uri": "https://localhost:8080/",
          "height": 1000
        },
        "id": "i8lzoiOqQDhT",
        "outputId": "183f5ba7-32b9-4bb5-ae64-5226ec2fc9a3"
      },
      "source": [
        "#А что по числовым колонкам?\n",
        "\n",
        "for col in num_cols:\n",
        "  get_boxplot(col)"
      ],
      "execution_count": 27,
      "outputs": [
        {
          "output_type": "display_data",
          "data": {
            "image/png": "[encoded data removed]",
            "text/plain": [
              "<Figure size 1008x288 with 1 Axes>"
            ]
          },
          "metadata": {
            "tags": [],
            "needs_background": "light"
          }
        },
        {
          "output_type": "display_data",
          "data": {
            "image/png": "[encoded data removed]",
            "text/plain": [
              "<Figure size 1008x288 with 1 Axes>"
            ]
          },
          "metadata": {
            "tags": [],
            "needs_background": "light"
          }
        },
        {
          "output_type": "display_data",
          "data": {
            "image/png": "[encoded data removed]",
            "text/plain": [
              "<Figure size 1008x288 with 1 Axes>"
            ]
          },
          "metadata": {
            "tags": [],
            "needs_background": "light"
          }
        },
        {
          "output_type": "display_data",
          "data": {
            "image/png": "[encoded data removed]",
            "text/plain": [
              "<Figure size 1008x288 with 1 Axes>"
            ]
          },
          "metadata": {
            "tags": [],
            "needs_background": "light"
          }
        },
        {
          "output_type": "display_data",
          "data": {
            "image/png": "[encoded data removed]",
            "text/plain": [
              "<Figure size 1008x288 with 1 Axes>"
            ]
          },
          "metadata": {
            "tags": [],
            "needs_background": "light"
          }
        },
        {
          "output_type": "display_data",
          "data": {
            "image/png": "[encoded data removed]",
            "text/plain": [
              "<Figure size 1008x288 with 1 Axes>"
            ]
          },
          "metadata": {
            "tags": [],
            "needs_background": "light"
          }
        }
      ]
    },
    {
      "cell_type": "markdown",
      "metadata": {
        "id": "oHUYTarPPeB5"
      },
      "source": [
        "Выводы:\n",
        "* Если ранее отказывали в кредитах(decline_app_cnt), то есть шанс не возврата.\n",
        "* 2+ запроса в бюро кредитной истории - плохой звоночек.\n",
        "* Неплательщики - преимущественно - \"средняя полоса\"(50-60). Интересно выглядят выбросы где рейтинг 20-30 и default = 1. т.е. не вернувшие кредит там - скорее исключение из правила.\n",
        "\n",
        "А вот: возвраст, зарплата и score БКИ не влияют на шанс возврата кредита.\n"
      ]
    },
    {
      "cell_type": "markdown",
      "metadata": {
        "id": "8UC45VfIR7nb"
      },
      "source": [
        "Ну и проверим что по распределению числовых переменных"
      ]
    },
    {
      "cell_type": "code",
      "metadata": {
        "colab": {
          "base_uri": "https://localhost:8080/",
          "height": 1000
        },
        "id": "a4ONt4qyR_k2",
        "outputId": "3339d067-4e55-4209-a7d1-5b2376454280"
      },
      "source": [
        "for i in num_cols:\n",
        "  get_displot(i)"
      ],
      "execution_count": 31,
      "outputs": [
        {
          "output_type": "display_data",
          "data": {
            "image/png": "[encoded data removed]",
            "text/plain": [
              "<Figure size 432x288 with 1 Axes>"
            ]
          },
          "metadata": {
            "tags": [],
            "needs_background": "light"
          }
        },
        {
          "output_type": "display_data",
          "data": {
            "image/png": "[encoded data removed]",
            "text/plain": [
              "<Figure size 432x288 with 1 Axes>"
            ]
          },
          "metadata": {
            "tags": [],
            "needs_background": "light"
          }
        },
        {
          "output_type": "display_data",
          "data": {
            "image/png": "[encoded data removed]",
            "text/plain": [
              "<Figure size 432x288 with 1 Axes>"
            ]
          },
          "metadata": {
            "tags": [],
            "needs_background": "light"
          }
        },
        {
          "output_type": "display_data",
          "data": {
            "image/png": "[encoded data removed]",
            "text/plain": [
              "<Figure size 432x288 with 1 Axes>"
            ]
          },
          "metadata": {
            "tags": [],
            "needs_background": "light"
          }
        },
        {
          "output_type": "display_data",
          "data": {
            "image/png": "[encoded data removed]",
            "text/plain": [
              "<Figure size 432x288 with 1 Axes>"
            ]
          },
          "metadata": {
            "tags": [],
            "needs_background": "light"
          }
        },
        {
          "output_type": "display_data",
          "data": {
            "image/png": "[encoded data removed]",
            "text/plain": [
              "<Figure size 432x288 with 1 Axes>"
            ]
          },
          "metadata": {
            "tags": [],
            "needs_background": "light"
          }
        }
      ]
    },
    {
      "cell_type": "markdown",
      "metadata": {
        "id": "ynpvD0jVTCDB"
      },
      "source": [
        "Людей с множеством отказов по кредитам всё таки не так много. \n",
        "\n",
        "А распределение людей по регионам объясняет один из предыдущих графиков.\n",
        "\n",
        "Skore_BKI нужно будет привести к положительному значению чтобы проще логарифмировать."
      ]
    },
    {
      "cell_type": "markdown",
      "metadata": {
        "id": "OHbxK6ebX1EU"
      },
      "source": [
        "Займёмся датой"
      ]
    },
    {
      "cell_type": "code",
      "metadata": {
        "colab": {
          "base_uri": "https://localhost:8080/"
        },
        "id": "RdLeHMDbOn0I",
        "outputId": "b8dbb491-2930-4136-964a-997ef13570e0"
      },
      "source": [
        "#transform app_date to normal date\n",
        "data['app_date'] = pd.to_datetime(data['app_date'], format='%d%b%Y')"
      ],
      "execution_count": 33,
      "outputs": [
        {
          "output_type": "execute_result",
          "data": {
            "text/plain": [
              "0        2014-02-01\n",
              "1        2014-03-12\n",
              "2        2014-02-01\n",
              "3        2014-01-23\n",
              "4        2014-04-18\n",
              "            ...    \n",
              "110143   2014-03-31\n",
              "110144   2014-04-25\n",
              "110145   2014-03-30\n",
              "110146   2014-01-07\n",
              "110147   2014-03-17\n",
              "Name: app_date, Length: 110148, dtype: datetime64[ns]"
            ]
          },
          "metadata": {
            "tags": []
          },
          "execution_count": 33
        }
      ]
    },
    {
      "cell_type": "code",
      "metadata": {
        "colab": {
          "base_uri": "https://localhost:8080/"
        },
        "id": "02Gax1NgX5Z5",
        "outputId": "71358fe6-8c65-44da-8443-cdca66b0d551"
      },
      "source": [
        "#a clean date won't tell us much. Let's try to create a variable - number of days from the date to today.\n",
        "data['date_diff_today'] = pd.datetime.today() - data.app_date\n",
        "data['date_diff_today'] = data['date_diff_today'].dt.days\n",
        "data.drop(['app_date'], axis=1, inplace=True)\n",
        "\n",
        "data.date_diff_today.max()\n"
      ],
      "execution_count": 37,
      "outputs": [
        {
          "output_type": "execute_result",
          "data": {
            "text/plain": [
              "2735"
            ]
          },
          "metadata": {
            "tags": []
          },
          "execution_count": 37
        }
      ]
    },
    {
      "cell_type": "markdown",
      "metadata": {
        "id": "kY3RtI1fOoO8"
      },
      "source": [
        "# TO DO\n",
        "Образованием ACD и PGR объединить в одну группу для dummy переменных\n",
        "\n",
        "score_bki приведем к положительным значениям для упрощения логорифмирования\n",
        "*data.score_bki = data.score_bki - data.score_bki.min()* "
      ]
    },
    {
      "cell_type": "markdown",
      "metadata": {
        "id": "fUccSqTiZwqe"
      },
      "source": [
        "ИДЕИ для новых фич:\n",
        "\n",
        "* средняя зарплата по рейтингу региона где живёт человек\n",
        "* сревнение зарплаты клиента с зарплатой по региону(п1) и признак \"хорошая\", \"средяя\", \"плохая\"(по квартилям?)\n",
        "* объединить признаки bki_request_cnt и first_time(можно добавить и кол-во отказов в кредитах) data['bki_cnt_first_time'] = data['bki_request_cnt'] * data['first_time']"
      ]
    },
    {
      "cell_type": "code",
      "metadata": {
        "id": "Q5o5kf3hYjgN"
      },
      "source": [
        ""
      ],
      "execution_count": null,
      "outputs": []
    }
  ]
}
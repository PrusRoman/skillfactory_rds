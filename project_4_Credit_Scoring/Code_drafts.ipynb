{
  "nbformat": 4,
  "nbformat_minor": 0,
  "metadata": {
    "colab": {
      "name": "Code drafts",
      "provenance": []
    },
    "kernelspec": {
      "name": "python3",
      "display_name": "Python 3"
    },
    "language_info": {
      "name": "python"
    }
  },
  "cells": [
    {
      "cell_type": "markdown",
      "metadata": {
        "id": "6jysXHxDJ7bl"
      },
      "source": [
        "# Code not included in the final task"
      ]
    },
    {
      "cell_type": "markdown",
      "metadata": {
        "id": "nOgEEEnyLepc"
      },
      "source": [
        "Search Best hyperparameter"
      ]
    },
    {
      "cell_type": "code",
      "metadata": {
        "id": "Z31tV9ScJ3EL"
      },
      "source": [
        "from sklearn.pipeline import Pipeline\n",
        "\n",
        "\n",
        "pipe = Pipeline([('classifier' , RandomForestClassifier())])\n",
        "# pipe = Pipeline([('classifier', RandomForestClassifier())])\n",
        "\n",
        "# Create param grid.\n",
        "\n",
        "param_grid = [\n",
        "    {'classifier' : [LogisticRegression()],\n",
        "     'classifier__penalty' : ['l1', 'l2'],\n",
        "    'classifier__C' : np.logspace(-4, 4, 20),\n",
        "    'classifier__solver' : ['liblinear']},\n",
        "    {'classifier' : [RandomForestClassifier()],\n",
        "    'classifier__n_estimators' : list(range(10,101,10)),\n",
        "    'classifier__max_features' : list(range(6,32,5))}\n",
        "]\n",
        "\n",
        "# Create grid search object\n",
        "\n",
        "clf = GridSearchCV(pipe, param_grid = param_grid, cv = 5, verbose=True, n_jobs=-1)\n",
        "\n",
        "# Fit on data\n",
        "\n",
        "best_clf = clf.fit(X_train, y_train)"
      ],
      "execution_count": null,
      "outputs": []
    },
    {
      "cell_type": "markdown",
      "metadata": {
        "id": "tyJwYO7cKJwF"
      },
      "source": [
        "```` \n",
        "Fitting 5 folds for each of 100 candidates, totalling 500 fits\n",
        "[Parallel(n_jobs=-1)]: Using backend LokyBackend with 2 concurrent workers.\n",
        "[Parallel(n_jobs=-1)]: Done  46 tasks      | elapsed:    5.1s\n",
        "[Parallel(n_jobs=-1)]: Done 196 tasks      | elapsed:   55.6s\n",
        "[Parallel(n_jobs=-1)]: Done 497 out of 500 | elapsed: 11.9min remaining:    4.3s\n",
        "[Parallel(n_jobs=-1)]: Done 500 out of 500 | elapsed: 11.9min finished\n",
        "````\n"
      ]
    },
    {
      "cell_type": "code",
      "metadata": {
        "id": "qe8s2SRmKJaZ"
      },
      "source": [
        "best_clf.best_params_"
      ],
      "execution_count": null,
      "outputs": []
    },
    {
      "cell_type": "markdown",
      "metadata": {
        "id": "2DBBxsnHKPHd"
      },
      "source": [
        "```\n",
        "{'classifier': LogisticRegression(C=0.03359818286283781, class_weight=None, dual=False,\n",
        "                    fit_intercept=True, intercept_scaling=1, l1_ratio=None,\n",
        "                    max_iter=100, multi_class='auto', n_jobs=None, penalty='l1',\n",
        "                    random_state=None, solver='liblinear', tol=0.0001, verbose=0,\n",
        "                    warm_start=False),\n",
        " 'classifier__C': 0.03359818286283781,\n",
        " 'classifier__penalty': 'l1',\n",
        " 'classifier__solver': 'liblinear'}\n",
        "```\n",
        "\n"
      ]
    },
    {
      "cell_type": "markdown",
      "metadata": {
        "id": "um9cUQjIAqAk"
      },
      "source": [
        ""
      ]
    },
    {
      "cell_type": "code",
      "metadata": {
        "id": "oIQslXYuAq1F"
      },
      "source": [
        "params = {\n",
        "        'min_child_weight': [1, 2, 5, 7, 10, 15],\n",
        "        'learning_rate': [0.1, 0.2, 0.3, 1, 2, 3],\n",
        "        'gamma': [0.5, 1, 1.5, 2, 5],\n",
        "        'subsample': [0.6, 0.8, 1.0],\n",
        "        'colsample_bytree': [0.6, 0.8, 1.0],\n",
        "        'max_depth': [3, 4, 5]\n",
        "        }\n",
        "        \n",
        "folds = 3\n",
        "param_comb = 5\n",
        "\n",
        "skf = StratifiedKFold(n_splits=folds, shuffle = True, random_state = 42)\n",
        "\n",
        "random_search = GridSearchCV(xgb, param_grid=params,\n",
        "                                    scoring='roc_auc', \n",
        "                                   n_jobs=7, cv=skf.split(X_train[:1000],y_train[:1000]), \n",
        "                                   verbose=3)\n",
        "\n",
        "best_clf = fit(X_train, y_train)"
      ],
      "execution_count": null,
      "outputs": []
    },
    {
      "cell_type": "markdown",
      "metadata": {
        "id": "ao1uf_sTAqVl"
      },
      "source": [
        "````\n",
        "Fitting 3 folds for each of 4860 candidates, totalling 14580 fits\n",
        "\n",
        "[Parallel(n_jobs=7)]: Using backend LokyBackend with 7 concurrent workers.\n",
        "[Parallel(n_jobs=7)]: Done  18 tasks      | elapsed:    3.5s\n",
        "[Parallel(n_jobs=7)]: Done 114 tasks      | elapsed:    7.3s\n",
        "[Parallel(n_jobs=7)]: Done 274 tasks      | elapsed:   13.3s\n",
        "[Parallel(n_jobs=7)]: Done 498 tasks      | elapsed:   21.7s\n",
        "[Parallel(n_jobs=7)]: Done 786 tasks      | elapsed:   31.2s\n",
        "[Parallel(n_jobs=7)]: Done 1138 tasks      | elapsed:   41.9s\n",
        "[Parallel(n_jobs=7)]: Done 1554 tasks      | elapsed:   57.2s\n",
        "[Parallel(n_jobs=7)]: Done 2034 tasks      | elapsed:  1.2min\n",
        "[Parallel(n_jobs=7)]: Done 2578 tasks      | elapsed:  1.5min\n",
        "[Parallel(n_jobs=7)]: Done 3186 tasks      | elapsed:  1.8min\n",
        "[Parallel(n_jobs=7)]: Done 3858 tasks      | elapsed:  2.2min\n",
        "[Parallel(n_jobs=7)]: Done 4594 tasks      | elapsed:  2.6min\n",
        "[Parallel(n_jobs=7)]: Done 5394 tasks      | elapsed:  3.1min\n",
        "[Parallel(n_jobs=7)]: Done 6258 tasks      | elapsed:  3.6min\n",
        "[Parallel(n_jobs=7)]: Done 7186 tasks      | elapsed:  4.2min\n",
        "[Parallel(n_jobs=7)]: Done 8178 tasks      | elapsed:  4.8min\n",
        "[Parallel(n_jobs=7)]: Done 9234 tasks      | elapsed:  5.4min\n",
        "[Parallel(n_jobs=7)]: Done 10354 tasks      | elapsed:  6.1min\n",
        "[Parallel(n_jobs=7)]: Done 11538 tasks      | elapsed:  6.9min\n",
        "[Parallel(n_jobs=7)]: Done 12786 tasks      | elapsed:  7.7min\n",
        "[Parallel(n_jobs=7)]: Done 14098 tasks      | elapsed:  8.6min\n",
        "[Parallel(n_jobs=7)]: Done 14580 out of 14580 | elapsed:  8.9min finished\n",
        "````"
      ]
    },
    {
      "cell_type": "code",
      "metadata": {
        "id": "3GD_oMa7AxIJ"
      },
      "source": [
        "best_clf.best_params_"
      ],
      "execution_count": null,
      "outputs": []
    },
    {
      "cell_type": "markdown",
      "metadata": {
        "id": "AYUrLAckAzIz"
      },
      "source": [
        "````\n",
        "{'colsample_bytree': 0.8,\n",
        " 'gamma': 5,\n",
        " 'learning_rate': 0.2,\n",
        " 'max_depth': 3,\n",
        " 'min_child_weight': 10,\n",
        " 'subsample': 0.6}\n",
        "````"
      ]
    },
    {
      "cell_type": "code",
      "metadata": {
        "id": "6XyUXS-9dnsC"
      },
      "source": [
        "gridParams = {\n",
        "    'learning_rate': [0.005, 0.01, 0.05, 0.1, 0.3, 0.6, 1],\n",
        "    'n_estimators': [8,16,24],\n",
        "    'num_leaves': [6,8,12,16], # large num_leaves helps improve accuracy but might lead to over-fitting\n",
        "    'boosting_type' : ['gbdt', 'dart'], # for better accuracy -> try dart\n",
        "    'objective' : ['binary'],\n",
        "    'max_bin':[255, 510], # large max_bin helps improve accuracy but might slow down training progress\n",
        "    'random_state' : [500],\n",
        "    'colsample_bytree' : [0.64, 0.65, 0.66],\n",
        "    'subsample' : [0.7,0.75],\n",
        "    'reg_alpha' : [1,1.2],\n",
        "    'reg_lambda' : [1,1.2,1.4],\n",
        "    }\n",
        "\n",
        "grid = GridSearchCV(lgbm, gridParams, verbose=1, cv=4, n_jobs=7)\n",
        "# Run the grid\n",
        "grid.fit(X_train[:5000], y_train[:5000])\n",
        "\n",
        "# Print the best parameters found\n",
        "print(grid.best_params_)\n",
        "print(grid.best_score_)"
      ],
      "execution_count": null,
      "outputs": []
    },
    {
      "cell_type": "markdown",
      "metadata": {
        "id": "96aFn83sdnGw"
      },
      "source": [
        "```\n",
        "Fitting 4 folds for each of 12096 candidates, totalling 48384 fits\n",
        "\n",
        "[Parallel(n_jobs=7)]: Using backend LokyBackend with 7 concurrent workers.\n",
        "[Parallel(n_jobs=7)]: Done  36 tasks      | elapsed:    4.0s\n",
        "[Parallel(n_jobs=7)]: Done 186 tasks      | elapsed:    6.7s\n",
        "[Parallel(n_jobs=7)]: Done 436 tasks      | elapsed:   11.3s\n",
        "[Parallel(n_jobs=7)]: Done 963 tasks      | elapsed:   20.3s\n",
        "[Parallel(n_jobs=7)]: Done 1863 tasks      | elapsed:   35.7s\n",
        "[Parallel(n_jobs=7)]: Done 2963 tasks      | elapsed:   54.7s\n",
        "[Parallel(n_jobs=7)]: Done 4263 tasks      | elapsed:  1.3min\n",
        "[Parallel(n_jobs=7)]: Done 5763 tasks      | elapsed:  1.7min\n",
        "[Parallel(n_jobs=7)]: Done 7463 tasks      | elapsed:  2.2min\n",
        "[Parallel(n_jobs=7)]: Done 9363 tasks      | elapsed:  2.7min\n",
        "[Parallel(n_jobs=7)]: Done 11463 tasks      | elapsed:  3.3min\n",
        "[Parallel(n_jobs=7)]: Done 13763 tasks      | elapsed:  4.0min\n",
        "[Parallel(n_jobs=7)]: Done 16263 tasks      | elapsed:  4.7min\n",
        "[Parallel(n_jobs=7)]: Done 18963 tasks      | elapsed:  5.4min\n",
        "[Parallel(n_jobs=7)]: Done 21863 tasks      | elapsed:  6.3min\n",
        "[Parallel(n_jobs=7)]: Done 24963 tasks      | elapsed:  7.1min\n",
        "[Parallel(n_jobs=7)]: Done 28263 tasks      | elapsed:  8.1min\n",
        "[Parallel(n_jobs=7)]: Done 31763 tasks      | elapsed:  9.1min\n",
        "[Parallel(n_jobs=7)]: Done 35463 tasks      | elapsed: 10.2min\n",
        "[Parallel(n_jobs=7)]: Done 39363 tasks      | elapsed: 11.4min\n",
        "[Parallel(n_jobs=7)]: Done 43463 tasks      | elapsed: 12.6min\n",
        "[Parallel(n_jobs=7)]: Done 47763 tasks      | elapsed: 13.9min\n",
        "[Parallel(n_jobs=7)]: Done 48384 out of 48384 | elapsed: 14.1min finished\n",
        "\n",
        "{'boosting_type': 'gbdt', 'colsample_bytree': 0.65, 'learning_rate': 0.3, 'max_bin': 255, 'n_estimators': 16, 'num_leaves': 6,\n",
        "'objective': 'binary', 'random_state': 500, 'reg_alpha': 1.2, 'reg_lambda': 1.2, 'subsample': 0.7}\n",
        "0.8328\n",
        "```"
      ]
    },
    {
      "cell_type": "code",
      "metadata": {
        "id": "Np-TTTxjds7R"
      },
      "source": [
        ""
      ],
      "execution_count": null,
      "outputs": []
    },
    {
      "cell_type": "markdown",
      "metadata": {
        "id": "_ChW5lV6dse5"
      },
      "source": [
        ""
      ]
    }
  ]
}